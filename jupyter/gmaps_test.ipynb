{
 "cells": [
  {
   "cell_type": "code",
   "execution_count": 9,
   "metadata": {
    "collapsed": true
   },
   "outputs": [],
   "source": [
    "from ipywidgets import interact_manual\n",
    "from IPython.display import display, clear_output\n",
    "import gmaps\n",
    "import os\n",
    "# print(os.getcwd()) # es la carpeta jupyter\n",
    "import sys\n",
    "sys.path.append('../../') # secret.py lo cargará de la raíz del proyecto Data-Science\n",
    "import secret\n",
    "gmaps.configure(api_key=secret.GMAPS_KEY) # Your Google API key\n",
    "#gmaps = googlemaps.Client(key=secret.GMAPS_KEY)"
   ]
  },
  {
   "cell_type": "code",
   "execution_count": 8,
   "metadata": {
    "collapsed": true
   },
   "outputs": [],
   "source": [
    "from IPython.display import set_matplotlib_close\n",
    "from IPython.display import display, update_display\n",
    "\n",
    "\n",
    "m = gmaps.Map()\n",
    "#m\n",
    "\n",
    "display(m, display_id='map')\n",
    "\n",
    "#update_display(m, display_id='map')\n",
    "\n",
    "sys.exit()\n",
    "\n",
    "def mostrar_mapa():\n",
    "    set_matplotlib_close(True)\n",
    "    m = gmaps.Map()\n",
    "    #clear_output(wait=False)\n",
    "    display_id = display(m)\n",
    "    update_display(5)\n",
    "    return m\n",
    "\n",
    "#clear_output(wait=True)\n",
    "interact_manual(mostrar_mapa)\n",
    "#clear_output(wait=True)"
   ]
  },
  {
   "cell_type": "code",
   "execution_count": null,
   "metadata": {
    "collapsed": true
   },
   "outputs": [],
   "source": [
    "\n"
   ]
  },
  {
   "cell_type": "code",
   "execution_count": null,
   "metadata": {
    "collapsed": true
   },
   "outputs": [],
   "source": []
  },
  {
   "cell_type": "code",
   "execution_count": null,
   "metadata": {
    "collapsed": true
   },
   "outputs": [],
   "source": []
  },
  {
   "cell_type": "code",
   "execution_count": null,
   "metadata": {
    "collapsed": true
   },
   "outputs": [],
   "source": []
  },
  {
   "cell_type": "code",
   "execution_count": null,
   "metadata": {
    "collapsed": true
   },
   "outputs": [],
   "source": []
  },
  {
   "cell_type": "code",
   "execution_count": null,
   "metadata": {
    "collapsed": true
   },
   "outputs": [],
   "source": []
  },
  {
   "cell_type": "code",
   "execution_count": null,
   "metadata": {
    "collapsed": true
   },
   "outputs": [],
   "source": []
  }
 ],
 "metadata": {
  "kernelspec": {
   "display_name": "Python 3",
   "language": "python",
   "name": "python3"
  },
  "language_info": {
   "codemirror_mode": {
    "name": "ipython",
    "version": 3
   },
   "file_extension": ".py",
   "mimetype": "text/x-python",
   "name": "python",
   "nbconvert_exporter": "python",
   "pygments_lexer": "ipython3",
   "version": "3.6.1"
  }
 },
 "nbformat": 4,
 "nbformat_minor": 2
}
