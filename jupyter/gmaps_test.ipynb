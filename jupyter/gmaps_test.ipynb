{
 "cells": [
  {
   "cell_type": "code",
   "execution_count": 50,
   "metadata": {
    "collapsed": true
   },
   "outputs": [],
   "source": [
    "from ipywidgets import interact, interact_manual\n",
    "from IPython.display import display, clear_output\n",
    "from time import sleep\n",
    "import time\n",
    "from IPython.display import display\n",
    "import gmaps\n",
    "import os\n",
    "# print(os.getcwd()) # es la carpeta jupyter\n",
    "import sys\n",
    "sys.path.append('../') # secret.py lo cargará de la raíz del proyecto Testing\n",
    "import secret\n",
    "gmaps.configure(api_key=secret.GMAPS_KEY) # Your Google API key\n",
    "#gmaps = googlemaps.Client(key=secret.GMAPS_KEY)"
   ]
  },
  {
   "cell_type": "code",
   "execution_count": null,
   "metadata": {
    "collapsed": true
   },
   "outputs": [],
   "source": [
    "#from IPython.display import set_matplotlib_close\n",
    "#from IPython.display import display, update_display\n",
    "\n",
    "localizaciones1 = [[41.380838052602861, 2.1645749503249645], [41.383840167375155, 2.1680820019417202], [41.378595155247325, 2.1652127568867914]]\n",
    "localizaciones2 = [[41.380844210459401, 2.163839677610885]]\n",
    "\n",
    "m = gmaps.Map()\n",
    "#marker_layer = gmaps.marker_layer(localizaciones1)\n",
    "#m.add_layer(marker_layer)\n",
    "m.add_layer(gmaps.heatmap_layer(localizaciones1))\n",
    "\n",
    "m\n",
    "\n",
    "#print(marker_layer)\n",
    "#print(m.add_layer(marker_layer))\n",
    "\n",
    "\n",
    "\n",
    "\n",
    "display(m, display_id='map')\n",
    "\n",
    "#update_display(m, display_id='map')\n",
    "\n",
    "\n",
    "\n",
    "def mostrar_mapa():\n",
    "    set_matplotlib_close(True)\n",
    "    m = gmaps.Map()\n",
    "    #clear_output(wait=False)\n",
    "    display_id = display(m)\n",
    "    update_display(5)\n",
    "    return m\n",
    "\n",
    "#clear_output(wait=True)\n",
    "interact_manual(mostrar_mapa)\n",
    "#clear_output(wait=True)"
   ]
  },
  {
   "cell_type": "code",
   "execution_count": 42,
   "metadata": {},
   "outputs": [
    {
     "data": {
      "application/vnd.jupyter.widget-view+json": {
       "model_id": "e8106a9194924f2d80a8f64b6b299c66"
      }
     },
     "metadata": {},
     "output_type": "display_data"
    },
    {
     "data": {
      "text/plain": [
       "<function __main__.mostrar_mapa>"
      ]
     },
     "execution_count": 42,
     "metadata": {},
     "output_type": "execute_result"
    }
   ],
   "source": [
    "localizaciones1 = [[41.380838052602861, 2.1645749503249645], [41.383840167375155, 2.1680820019417202]]\n",
    "localizaciones2 = [[41.380838052602861, 2.1746749503259645], [41.383840167375155, 2.1781820019427202]]\n",
    "\n",
    "m = gmaps.Map()\n",
    "#markers = gmaps.marker_layer(marker_locations)\n",
    "\n",
    "def mi_add_layer(layer):\n",
    "    m.layers = tuple([l for l in m.layers] + [layer])\n",
    "\n",
    "def remove_layer(layer):\n",
    "    print(layer)\n",
    "    m.layers = tuple([l for l in m.layers] - [layer])\n",
    "\n",
    "def remove_layers():\n",
    "    m.layers = tuple()\n",
    "\n",
    "m.add_layer = mi_add_layer\n",
    "m.remove_layer = remove_layer\n",
    "m.remove_layers = remove_layers\n",
    "\n",
    "m.add_layer(gmaps.heatmap_layer(localizaciones1))\n",
    "\n",
    "m.remove_layers()\n",
    "m.add_layer(gmaps.heatmap_layer(localizaciones1))\n",
    "\n",
    "m\n",
    "\n",
    "def mostrar_mapa(x):\n",
    "    global m\n",
    "    if x == \"primera capa\":\n",
    "        print(\"primera capa\")\n",
    "    \n",
    "    if x == \"segunda capa\":\n",
    "        print(\"segunda capa\")\n",
    "        \n",
    "    m.close()\n",
    "    m = gmaps.Map()\n",
    "\n",
    "    #set_matplotlib_close(True)\n",
    "    #m = gmaps.Map()\n",
    "    #clear_output(wait=False)\n",
    "    #display_id = display(m)\n",
    "    #update_display(5)\n",
    "    m.add_layer(gmaps.marker_layer(localizaciones2, \"hover 1\", \"SEGUNDA CAPA - 2\", \"clicando 2\"))\n",
    "    return m\n",
    "\n",
    "#clear_output(wait=False)\n",
    "interact_manual(mostrar_mapa, x=[\"primera capa\", \"segunda capa\"])\n",
    "#interact(mostrar_mapa, x=[\"primera capa\", \"segunda capa\"])\n"
   ]
  },
  {
   "cell_type": "code",
   "execution_count": 48,
   "metadata": {},
   "outputs": [
    {
     "data": {
      "application/vnd.jupyter.widget-view+json": {
       "model_id": "da5069c170464ce8a30aa29e37112f8d"
      }
     },
     "metadata": {},
     "output_type": "display_data"
    },
    {
     "data": {
      "text/plain": [
       "<function __main__.mostrar_mapa>"
      ]
     },
     "execution_count": 48,
     "metadata": {},
     "output_type": "execute_result"
    }
   ],
   "source": [
    "def mostrar_mapa(x):\n",
    "    localizaciones1 = [[41.380838052602861, 2.1645749503249645], [41.383840167375155, 2.1680820019417202]]\n",
    "    localizaciones2 = [[41.380838052602861, 2.1746749503259645], [41.383840167375155, 2.1781820019427202]]\n",
    "\n",
    "    #if m: m.close()\n",
    "    m = gmaps.Map()\n",
    "    m.close()\n",
    "    m = gmaps.Map()\n",
    "\n",
    "    def mi_add_layer(layer):\n",
    "        m.layers = tuple([l for l in m.layers] + [layer])\n",
    "\n",
    "    def remove_layer(layer):\n",
    "        print(layer)\n",
    "        m.layers = tuple([l for l in m.layers] - [layer])\n",
    "\n",
    "    def remove_layers():\n",
    "        m.layers = tuple()\n",
    "\n",
    "    m.add_layer = mi_add_layer\n",
    "    m.remove_layer = remove_layer\n",
    "    m.remove_layers = remove_layers\n",
    "\n",
    "    m.add_layer(gmaps.heatmap_layer(localizaciones1))\n",
    "\n",
    "    m.remove_layers()\n",
    "    m.add_layer(gmaps.heatmap_layer(localizaciones1))\n",
    "\n",
    "    #m\n",
    "    if x == \"primera capa\":\n",
    "        print(\"primera capa\")\n",
    "        m.add_layer(gmaps.marker_layer(localizaciones1, \"hover 1\", \"PRIMERA CAPA - 1\", \"clicando 1\"))\n",
    "\n",
    "    \n",
    "    if x == \"segunda capa\":\n",
    "        print(\"segunda capa\")\n",
    "        m.add_layer(gmaps.marker_layer(localizaciones2, \"hover 2\", \"SEGUNDA CAPA - 2\", \"clicando 2\"))\n",
    "\n",
    "        \n",
    "    return m\n",
    "\n",
    "interact_manual(mostrar_mapa, x=[\"primera capa\", \"segunda capa\"])\n",
    "\n"
   ]
  },
  {
   "cell_type": "code",
   "execution_count": null,
   "metadata": {
    "collapsed": true
   },
   "outputs": [],
   "source": [
    "def mostrar_mapa(x):\n",
    "    if x == \"primera capa\":\n",
    "        print(\"primera capa\")\n",
    "    \n",
    "    if x == \"segunda capa\":\n",
    "        print(\"segunda capa\")\n",
    "\n",
    "interact_manual(mostrar_mapa, x=[\"primera capa\", \"segunda capa\"])\n",
    "\n"
   ]
  },
  {
   "cell_type": "code",
   "execution_count": 24,
   "metadata": {},
   "outputs": [
    {
     "data": {
      "application/vnd.jupyter.widget-view+json": {
       "model_id": "c3694cfe83654a6d80f0b84585f91f9d"
      }
     },
     "metadata": {},
     "output_type": "display_data"
    },
    {
     "data": {
      "text/plain": [
       "<function __main__.mostrar_mapa>"
      ]
     },
     "execution_count": 24,
     "metadata": {},
     "output_type": "execute_result"
    }
   ],
   "source": [
    "def mostrar_mapa(x):\n",
    "    localizaciones1 = [[41.380838052602861, 2.1645749503249645], [41.383840167375155, 2.1680820019417202]]\n",
    "    localizaciones2 = [[41.380838052602861, 2.1746749503259645], [41.383840167375155, 2.1781820019427202]]\n",
    "\n",
    "    #if m: m.close()\n",
    "    m = gmaps.Map()\n",
    "    m.close()\n",
    "    m = gmaps.Map()\n",
    "\n",
    "    if x == \"primera capa\":\n",
    "        print(\"primera capa\")\n",
    "        m.add_layer(gmaps.marker_layer(localizaciones1, \"hover 1\", \"PRIMERA CAPA - 1\", \"clicando 1\"))\n",
    "\n",
    "    \n",
    "    if x == \"segunda capa\":\n",
    "        print(\"segunda capa\")\n",
    "        m.add_layer(gmaps.marker_layer(localizaciones2, \"hover 2\", \"SEGUNDA CAPA - 2\", \"clicando 2\"))\n",
    "\n",
    "        \n",
    "    return m\n",
    "\n",
    "interact_manual(mostrar_mapa, x=[\"primera capa\", \"segunda capa\"])\n",
    "\n"
   ]
  },
  {
   "cell_type": "code",
   "execution_count": null,
   "metadata": {
    "collapsed": true
   },
   "outputs": [],
   "source": [
    "import gmaps.datasets\n",
    "locations = gmaps.datasets.load_dataset(\"taxi_rides\")\n",
    "m = gmaps.Map()\n",
    "m.add_layer(gmaps.heatmap_layer(locations))\n",
    "m"
   ]
  },
  {
   "cell_type": "code",
   "execution_count": null,
   "metadata": {
    "collapsed": true
   },
   "outputs": [],
   "source": []
  },
  {
   "cell_type": "code",
   "execution_count": 17,
   "metadata": {},
   "outputs": [
    {
     "name": "stdout",
     "output_type": "stream",
     "text": [
      "Start 1: Sat Apr 22 21:38:34 2017\n",
      "Final 1: Sat Apr 22 21:38:36 2017\n",
      "antes m\n",
      "despues m\n",
      "Start 2: Sat Apr 22 21:38:37 2017\n",
      "Final 2: Sat Apr 22 21:38:39 2017\n",
      "antes b\n",
      "despues b\n"
     ]
    }
   ],
   "source": [
    "m = gmaps.Map()\n",
    "print(\"Start 1: %s\" % time.ctime())\n",
    "sleep(2)\n",
    "print(\"Final 1: %s\" % time.ctime())\n",
    "\n",
    "\n",
    "print(\"antes m\")\n",
    "m #esto no lo pinta si debajo hay otras instrucciones\n",
    "print(\"despues m\")\n",
    "\n",
    "sleep(1)\n",
    "\n",
    "#m.close()\n",
    "\n",
    "b = gmaps.Map()\n",
    "print(\"Start 2: %s\" % time.ctime())\n",
    "sleep(2)\n",
    "print(\"Final 2: %s\" % time.ctime())\n",
    "\n",
    "print(\"antes b\")\n",
    "b\n",
    "print(\"despues b\")\n",
    "\n",
    "sleep(1)\n",
    "#m.close()\n"
   ]
  },
  {
   "cell_type": "code",
   "execution_count": 22,
   "metadata": {},
   "outputs": [
    {
     "name": "stdout",
     "output_type": "stream",
     "text": [
      "Start 1: Sun Apr 23 14:16:15 2017\n",
      "Final 1: Sun Apr 23 14:16:17 2017\n",
      "antes m\n"
     ]
    },
    {
     "data": {
      "application/vnd.jupyter.widget-view+json": {
       "model_id": "ffe9756cf9aa4f93bba8e74150302305"
      }
     },
     "metadata": {},
     "output_type": "display_data"
    },
    {
     "data": {
      "text/plain": [
       "<gmaps.maps.Map at 0x1e411ca9b70>"
      ]
     },
     "metadata": {},
     "output_type": "display_data"
    }
   ],
   "source": [
    "m = gmaps.Map()\n",
    "print(\"Start 1: %s\" % time.ctime())\n",
    "sleep(2)\n",
    "print(\"Final 1: %s\" % time.ctime())\n",
    "\n",
    "\n",
    "print(\"antes m\")\n",
    "display(m)\n",
    "m.close()\n",
    "display(m)\n",
    "\n"
   ]
  },
  {
   "cell_type": "code",
   "execution_count": null,
   "metadata": {
    "collapsed": true
   },
   "outputs": [],
   "source": [
    "def mostrar_mapa(x):\n",
    "    localizaciones1 = [[41.380838052602861, 2.1645749503249645], [41.383840167375155, 2.1680820019417202]]\n",
    "    localizaciones2 = [[41.380838052602861, 2.1746749503259645], [41.383840167375155, 2.1781820019427202]]\n",
    "\n",
    "    #if m: m.close()\n",
    "    m = gmaps.Map()\n",
    "    m.close()\n",
    "    m = gmaps.Map()\n",
    "\n",
    "    if x == \"primera capa\":\n",
    "        print(\"primera capa\")\n",
    "        m.add_layer(gmaps.marker_layer(localizaciones1, \"hover 1\", \"PRIMERA CAPA - 1\", \"clicando 1\"))\n",
    "\n",
    "    \n",
    "    if x == \"segunda capa\":\n",
    "        print(\"segunda capa\")\n",
    "        m.add_layer(gmaps.marker_layer(localizaciones2, \"hover 2\", \"SEGUNDA CAPA - 2\", \"clicando 2\"))\n",
    "\n",
    "        \n",
    "    return m\n",
    "\n",
    "interact_manual(mostrar_mapa, x=[\"primera capa\", \"segunda capa\"])\n",
    "\n"
   ]
  },
  {
   "cell_type": "code",
   "execution_count": 49,
   "metadata": {},
   "outputs": [
    {
     "data": {
      "application/vnd.jupyter.widget-view+json": {
       "model_id": "e16af30000414303a89fa3b998f23597"
      }
     },
     "metadata": {},
     "output_type": "display_data"
    },
    {
     "data": {
      "text/plain": [
       "<function __main__.mostrar_mapa>"
      ]
     },
     "execution_count": 49,
     "metadata": {},
     "output_type": "execute_result"
    }
   ],
   "source": [
    "# Solucion que funciona bien reescribiendo el mapa\n",
    "m = gmaps.Map()\n",
    "\n",
    "def mostrar_mapa(x):\n",
    "    localizaciones1 = [[41.380838052602861, 2.1645749503249645], [41.383840167375155, 2.1680820019417202]]\n",
    "    localizaciones2 = [[41.380838052602861, 2.1746749503259645], [41.383840167375155, 2.1781820019427202]]\n",
    "    global m\n",
    "\n",
    "    if m in locals():\n",
    "        print(\"locals\")\n",
    "\n",
    "    if m in globals():\n",
    "        print(\"globals\")\n",
    "\n",
    "    m.close()\n",
    "    m = gmaps.Map()\n",
    "\n",
    "    if x == \"primera capa\":\n",
    "        print(\"primera capa\")\n",
    "        m.add_layer(gmaps.marker_layer(localizaciones1, \"hover 1\", \"PRIMERA CAPA - 1\", \"clicando 1\"))\n",
    "    \n",
    "    if x == \"segunda capa\":\n",
    "        print(\"segunda capa\")\n",
    "        m.add_layer(gmaps.marker_layer(localizaciones2, \"hover 2\", \"SEGUNDA CAPA - 2\", \"clicando 2\"))\n",
    " \n",
    "    return m\n",
    "\n",
    "interact_manual(mostrar_mapa, x=[\"primera capa\", \"segunda capa\"])\n",
    "\n"
   ]
  },
  {
   "cell_type": "code",
   "execution_count": 46,
   "metadata": {},
   "outputs": [
    {
     "data": {
      "application/vnd.jupyter.widget-view+json": {
       "model_id": "78d0f46bb8e7409cadaae4c09a6104d1"
      }
     },
     "metadata": {},
     "output_type": "display_data"
    },
    {
     "data": {
      "text/plain": [
       "<function __main__.mostrar_mapa>"
      ]
     },
     "execution_count": 46,
     "metadata": {},
     "output_type": "execute_result"
    }
   ],
   "source": [
    "# intento de reescribir capas\n",
    "m = gmaps.Map()\n",
    "\n",
    "def remove_layers():\n",
    "    m.layers = tuple()\n",
    "\n",
    "m.remove_layers = remove_layers\n",
    "\n",
    "\n",
    "def mostrar_mapa(x):\n",
    "    localizaciones1 = [[41.380838052602861, 2.1645749503249645], [41.383840167375155, 2.1680820019417202]]\n",
    "    localizaciones2 = [[41.380838052602861, 2.1746749503259645], [41.383840167375155, 2.1781820019427202]]\n",
    "    global m\n",
    "\n",
    "    #m.close()\n",
    "    #m = gmaps.Map()\n",
    "\n",
    "    m.remove_layers()\n",
    "    \n",
    "    if x == \"primera capa\":\n",
    "        print(\"primera capa\")\n",
    "        m.add_layer(gmaps.marker_layer(localizaciones1, \"hover 1\", \"PRIMERA CAPA - 1\", \"clicando 1\"))\n",
    "    \n",
    "    if x == \"segunda capa\":\n",
    "        print(\"segunda capa\")\n",
    "        m.add_layer(gmaps.marker_layer(localizaciones2, \"hover 2\", \"SEGUNDA CAPA - 2\", \"clicando 2\"))\n",
    " \n",
    "    display(m)\n",
    "\n",
    "interact_manual(mostrar_mapa, x=[\"primera capa\", \"segunda capa\"])\n",
    "\n"
   ]
  }
 ],
 "metadata": {
  "kernelspec": {
   "display_name": "Python 3",
   "language": "python",
   "name": "python3"
  },
  "language_info": {
   "codemirror_mode": {
    "name": "ipython",
    "version": 3
   },
   "file_extension": ".py",
   "mimetype": "text/x-python",
   "name": "python",
   "nbconvert_exporter": "python",
   "pygments_lexer": "ipython3",
   "version": "3.6.1"
  }
 },
 "nbformat": 4,
 "nbformat_minor": 2
}
