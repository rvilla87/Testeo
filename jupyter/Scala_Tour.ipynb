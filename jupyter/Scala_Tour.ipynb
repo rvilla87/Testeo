{
 "cells": [
  {
   "cell_type": "markdown",
   "metadata": {},
   "source": [
    "# Scala [Tour](http://docs.scala-lang.org/tutorials/tour/tour-of-scala.html)"
   ]
  },
  {
   "cell_type": "markdown",
   "metadata": {},
   "source": [
    "## Basics\n",
    "\n",
    "### Values:"
   ]
  },
  {
   "cell_type": "code",
   "execution_count": 2,
   "metadata": {},
   "outputs": [
    {
     "name": "stdout",
     "output_type": "stream",
     "text": [
      "2\r\n"
     ]
    },
    {
     "data": {
      "text/plain": [
       "\u001b[36mx\u001b[39m: \u001b[32mInt\u001b[39m = \u001b[32m2\u001b[39m"
      ]
     },
     "execution_count": 2,
     "metadata": {},
     "output_type": "execute_result"
    }
   ],
   "source": [
    "val x = 1 + 1\n",
    "println(x)"
   ]
  },
  {
   "cell_type": "markdown",
   "metadata": {},
   "source": [
    "Named results, such as x here, are called values. Referencing a value does not re-compute it.\n",
    "\n",
    "**Values cannot be re-assigned**."
   ]
  },
  {
   "cell_type": "code",
   "execution_count": 2,
   "metadata": {
    "scrolled": true
   },
   "outputs": [
    {
     "name": "stderr",
     "output_type": "stream",
     "text": [
      "cmd2.sc:2: reassignment to val\r\n",
      "val res2_1 = x = 3\r\n",
      "               ^"
     ]
    },
    {
     "ename": "",
     "evalue": "",
     "output_type": "error",
     "traceback": [
      "Compilation Failed"
     ]
    }
   ],
   "source": [
    "val x = 1 + 1\n",
    "x = 3 // This does not compile."
   ]
  },
  {
   "cell_type": "markdown",
   "metadata": {},
   "source": [
    "Types of values can be inferred, but you can also explicitly state the type, like this:"
   ]
  },
  {
   "cell_type": "code",
   "execution_count": 3,
   "metadata": {},
   "outputs": [
    {
     "data": {
      "text/plain": [
       "\u001b[36mx\u001b[39m: \u001b[32mInt\u001b[39m = \u001b[32m2\u001b[39m"
      ]
     },
     "execution_count": 3,
     "metadata": {},
     "output_type": "execute_result"
    }
   ],
   "source": [
    "val x: Int = 1 + 1"
   ]
  },
  {
   "cell_type": "markdown",
   "metadata": {},
   "source": [
    "### Variables:\n",
    "\n",
    "Variables are like values, except you can re-assign them. You can define a variable with the var keyword."
   ]
  },
  {
   "cell_type": "code",
   "execution_count": 4,
   "metadata": {},
   "outputs": [
    {
     "data": {
      "text/plain": [
       "\u001b[36mx\u001b[39m: \u001b[32mInt\u001b[39m = \u001b[32m3\u001b[39m"
      ]
     },
     "execution_count": 4,
     "metadata": {},
     "output_type": "execute_result"
    },
    {
     "name": "stdout",
     "output_type": "stream",
     "text": [
      "9\r\n"
     ]
    }
   ],
   "source": [
    "var x = 1 + 1\n",
    "x = 3 // This compiles because \"x\" is declared with the \"var\" keyword.\n",
    "println(x * x) // 9"
   ]
  },
  {
   "cell_type": "markdown",
   "metadata": {},
   "source": [
    "As with values, you can explicitly state the type if you want:"
   ]
  },
  {
   "cell_type": "code",
   "execution_count": 5,
   "metadata": {},
   "outputs": [
    {
     "data": {
      "text/plain": [
       "\u001b[36mx\u001b[39m: \u001b[32mInt\u001b[39m = \u001b[32m2\u001b[39m"
      ]
     },
     "execution_count": 5,
     "metadata": {},
     "output_type": "execute_result"
    }
   ],
   "source": [
    "var x: Int = 1 + 1"
   ]
  },
  {
   "cell_type": "markdown",
   "metadata": {},
   "source": [
    "### Functions:\n",
    "\n",
    "Functions are expressions that take parameters.\n",
    "\n",
    "You can define an anonymous function (i.e. no name) that returns a given integer plus one:"
   ]
  },
  {
   "cell_type": "code",
   "execution_count": 6,
   "metadata": {},
   "outputs": [
    {
     "data": {
      "text/plain": [
       "\u001b[36mres5\u001b[39m: \u001b[32mInt\u001b[39m => \u001b[32mInt\u001b[39m = <function1>"
      ]
     },
     "execution_count": 6,
     "metadata": {},
     "output_type": "execute_result"
    }
   ],
   "source": [
    "(x: Int) => x + 1"
   ]
  },
  {
   "cell_type": "markdown",
   "metadata": {},
   "source": [
    "On the left of **=>** is a list of parameters. On the right is an expression involving the parameters.\n",
    "\n",
    "You can also name functions."
   ]
  },
  {
   "cell_type": "code",
   "execution_count": 16,
   "metadata": {},
   "outputs": [
    {
     "name": "stdout",
     "output_type": "stream",
     "text": [
      "2\r\n"
     ]
    },
    {
     "data": {
      "text/plain": [
       "\u001b[36maddOne\u001b[39m: \u001b[32mInt\u001b[39m => \u001b[32mInt\u001b[39m = <function1>"
      ]
     },
     "execution_count": 16,
     "metadata": {},
     "output_type": "execute_result"
    }
   ],
   "source": [
    "val addOne = (x: Int) => x + 1\n",
    "println(addOne(1)) // 2"
   ]
  },
  {
   "cell_type": "markdown",
   "metadata": {},
   "source": [
    "Functions may take multiple parameters."
   ]
  },
  {
   "cell_type": "code",
   "execution_count": 12,
   "metadata": {},
   "outputs": [
    {
     "name": "stdout",
     "output_type": "stream",
     "text": [
      "3\r\n"
     ]
    },
    {
     "data": {
      "text/plain": [
       "\u001b[36madd\u001b[39m: (\u001b[32mInt\u001b[39m, \u001b[32mInt\u001b[39m) => \u001b[32mInt\u001b[39m = <function2>"
      ]
     },
     "execution_count": 12,
     "metadata": {},
     "output_type": "execute_result"
    }
   ],
   "source": [
    "val add = (x: Int, y: Int) => x + y\n",
    "println(add(1, 2)) // 3"
   ]
  },
  {
   "cell_type": "markdown",
   "metadata": {},
   "source": [
    "Or it can take no parameters."
   ]
  },
  {
   "cell_type": "code",
   "execution_count": 13,
   "metadata": {},
   "outputs": [
    {
     "name": "stdout",
     "output_type": "stream",
     "text": [
      "42\n"
     ]
    },
    {
     "data": {
      "text/plain": [
       "\u001b[36mgetTheAnswer\u001b[39m: () => \u001b[32mInt\u001b[39m = <function0>"
      ]
     },
     "execution_count": 13,
     "metadata": {},
     "output_type": "execute_result"
    }
   ],
   "source": [
    "val getTheAnswer = () => 42\n",
    "println(getTheAnswer()) // 42"
   ]
  },
  {
   "cell_type": "markdown",
   "metadata": {},
   "source": [
    "### Methods:\n",
    "Methods look and behave very similar to functions, but there are a few key differences between them.\n",
    "\n",
    "Methods are defined with the **def** keyword. **def** is followed by a name, parameter lists, a return type, and a body."
   ]
  },
  {
   "cell_type": "code",
   "execution_count": 14,
   "metadata": {},
   "outputs": [
    {
     "name": "stdout",
     "output_type": "stream",
     "text": [
      "3\r\n"
     ]
    },
    {
     "data": {
      "text/plain": [
       "defined \u001b[32mfunction\u001b[39m \u001b[36madd\u001b[39m"
      ]
     },
     "execution_count": 14,
     "metadata": {},
     "output_type": "execute_result"
    }
   ],
   "source": [
    "def add(x: Int, y: Int): Int = x + y\n",
    "println(add(1, 2)) // 3"
   ]
  },
  {
   "cell_type": "markdown",
   "metadata": {},
   "source": [
    "Notice how the return type is declared after the parameter list and a colon : *Int*.\n",
    "\n",
    "Methods can take multiple parameter lists."
   ]
  },
  {
   "cell_type": "code",
   "execution_count": 15,
   "metadata": {},
   "outputs": [
    {
     "name": "stdout",
     "output_type": "stream",
     "text": [
      "9\r\n"
     ]
    },
    {
     "data": {
      "text/plain": [
       "defined \u001b[32mfunction\u001b[39m \u001b[36maddThenMultiply\u001b[39m"
      ]
     },
     "execution_count": 15,
     "metadata": {},
     "output_type": "execute_result"
    }
   ],
   "source": [
    "def addThenMultiply(x: Int, y: Int)(multiplier: Int): Int = (x + y) * multiplier\n",
    "println(addThenMultiply(1, 2)(3)) // 9"
   ]
  },
  {
   "cell_type": "markdown",
   "metadata": {},
   "source": [
    "Or no parameter lists at all."
   ]
  },
  {
   "cell_type": "code",
   "execution_count": 17,
   "metadata": {},
   "outputs": [
    {
     "name": "stdout",
     "output_type": "stream",
     "text": [
      "Hello, null!\n"
     ]
    },
    {
     "data": {
      "text/plain": [
       "defined \u001b[32mfunction\u001b[39m \u001b[36mname\u001b[39m"
      ]
     },
     "execution_count": 17,
     "metadata": {},
     "output_type": "execute_result"
    }
   ],
   "source": [
    "def name: String = System.getProperty(\"name\")\n",
    "println(\"Hello, \" + name + \"!\")"
   ]
  },
  {
   "cell_type": "markdown",
   "metadata": {},
   "source": [
    "There are some other differences, but for now, you can think of them as something similar to functions.\n",
    "\n",
    "Methods can have multi-line expressions as well."
   ]
  },
  {
   "cell_type": "code",
   "execution_count": 18,
   "metadata": {},
   "outputs": [
    {
     "data": {
      "text/plain": [
       "defined \u001b[32mfunction\u001b[39m \u001b[36mgetSquareString\u001b[39m"
      ]
     },
     "execution_count": 18,
     "metadata": {},
     "output_type": "execute_result"
    }
   ],
   "source": [
    "def getSquareString(input: Double): String = {\n",
    "  val square = input * input\n",
    "  square.toString\n",
    "}"
   ]
  },
  {
   "cell_type": "markdown",
   "metadata": {},
   "source": [
    "**The last expression in the body is the method's return value**. (Scala does have a `return` keyword, but it's rarely used.)\n",
    "\n",
    "### Classes:\n",
    "\n",
    "You can define classes with the class keyword followed by its name and constructor parameters."
   ]
  },
  {
   "cell_type": "code",
   "execution_count": 19,
   "metadata": {},
   "outputs": [
    {
     "data": {
      "text/plain": [
       "defined \u001b[32mclass\u001b[39m \u001b[36mGreeter\u001b[39m"
      ]
     },
     "execution_count": 19,
     "metadata": {},
     "output_type": "execute_result"
    }
   ],
   "source": [
    "class Greeter(prefix: String, suffix: String) {\n",
    "  def greet(name: String): Unit =\n",
    "    println(prefix + name + suffix)\n",
    "}"
   ]
  },
  {
   "cell_type": "markdown",
   "metadata": {},
   "source": [
    "The return type of the method greet is **Unit**, which says there's nothing meaningful to return. It's used similarly to *void* in Java and C. (A difference is that because every Scala expression must have some value, there is actually a singleton value of type Unit, written (). It carries no information.)\n",
    "\n",
    "You can make an instance of a class with the new keyword."
   ]
  },
  {
   "cell_type": "code",
   "execution_count": 20,
   "metadata": {},
   "outputs": [
    {
     "name": "stdout",
     "output_type": "stream",
     "text": [
      "Hello, Scala developer!\r\n"
     ]
    },
    {
     "data": {
      "text/plain": [
       "\u001b[36mgreeter\u001b[39m: \u001b[32mGreeter\u001b[39m = $sess.cmd18Wrapper$Helper$Greeter@11c3ffad"
      ]
     },
     "execution_count": 20,
     "metadata": {},
     "output_type": "execute_result"
    }
   ],
   "source": [
    "val greeter = new Greeter(\"Hello, \", \"!\")\n",
    "greeter.greet(\"Scala developer\") // Hello, Scala developer!"
   ]
  },
  {
   "cell_type": "markdown",
   "metadata": {},
   "source": [
    "### Case Classes:\n",
    "\n",
    "Scala has a special type of class called a \"*case*\" class. By default, **case classes are immutable and compared by value**. You can define **case classes** with the case class keywords."
   ]
  },
  {
   "cell_type": "code",
   "execution_count": 21,
   "metadata": {},
   "outputs": [
    {
     "data": {
      "text/plain": [
       "defined \u001b[32mclass\u001b[39m \u001b[36mPoint\u001b[39m"
      ]
     },
     "execution_count": 21,
     "metadata": {},
     "output_type": "execute_result"
    }
   ],
   "source": [
    "case class Point(x: Int, y: Int)"
   ]
  },
  {
   "cell_type": "markdown",
   "metadata": {},
   "source": [
    "You can instantiate case classes without new keyword."
   ]
  },
  {
   "cell_type": "code",
   "execution_count": 22,
   "metadata": {},
   "outputs": [
    {
     "data": {
      "text/plain": [
       "\u001b[36mpoint\u001b[39m: \u001b[32mPoint\u001b[39m = \u001b[33mPoint\u001b[39m(\u001b[32m1\u001b[39m, \u001b[32m2\u001b[39m)\r\n",
       "\u001b[36manotherPoint\u001b[39m: \u001b[32mPoint\u001b[39m = \u001b[33mPoint\u001b[39m(\u001b[32m1\u001b[39m, \u001b[32m2\u001b[39m)\r\n",
       "\u001b[36myetAnotherPoint\u001b[39m: \u001b[32mPoint\u001b[39m = \u001b[33mPoint\u001b[39m(\u001b[32m2\u001b[39m, \u001b[32m2\u001b[39m)"
      ]
     },
     "execution_count": 22,
     "metadata": {},
     "output_type": "execute_result"
    }
   ],
   "source": [
    "val point = Point(1, 2)\n",
    "val anotherPoint = Point(1, 2)\n",
    "val yetAnotherPoint = Point(2, 2)"
   ]
  },
  {
   "cell_type": "markdown",
   "metadata": {},
   "source": [
    "And they are compared by value."
   ]
  },
  {
   "cell_type": "code",
   "execution_count": 24,
   "metadata": {},
   "outputs": [
    {
     "name": "stdout",
     "output_type": "stream",
     "text": [
      "Point(1,2) and Point(1,2) are the same.\r\n"
     ]
    }
   ],
   "source": [
    "if (point == anotherPoint) {\n",
    "  println(point + \" and \" + anotherPoint + \" are the same.\")\n",
    "} else {\n",
    "  println(point + \" and \" + anotherPoint + \" are different.\")\n",
    "}\n",
    "// Point(1,2) and Point(1,2) are the same."
   ]
  },
  {
   "cell_type": "code",
   "execution_count": 25,
   "metadata": {},
   "outputs": [
    {
     "name": "stdout",
     "output_type": "stream",
     "text": [
      "Point(1,2) and Point(2,2) are different.\n"
     ]
    }
   ],
   "source": [
    "if (point == yetAnotherPoint) {\n",
    "  println(point + \" and \" + yetAnotherPoint + \" are the same.\")\n",
    "} else {\n",
    "  println(point + \" and \" + yetAnotherPoint + \" are different.\")\n",
    "}\n",
    "// Point(1,2) and Point(2,2) are different."
   ]
  },
  {
   "cell_type": "markdown",
   "metadata": {},
   "source": [
    "### Objects:\n",
    "\n",
    "Objects are single instances of their own definitions. You can think of them as singletons of their own classes.\n",
    "\n",
    "You can define objects with the **object** keyword."
   ]
  },
  {
   "cell_type": "code",
   "execution_count": 26,
   "metadata": {},
   "outputs": [
    {
     "data": {
      "text/plain": [
       "defined \u001b[32mobject\u001b[39m \u001b[36mIdFactory\u001b[39m"
      ]
     },
     "execution_count": 26,
     "metadata": {},
     "output_type": "execute_result"
    }
   ],
   "source": [
    "object IdFactory {\n",
    "  private var counter = 0\n",
    "  def create(): Int = {\n",
    "    counter += 1\n",
    "    counter\n",
    "  }\n",
    "}"
   ]
  },
  {
   "cell_type": "markdown",
   "metadata": {},
   "source": [
    "You can access an object by referring to its name."
   ]
  },
  {
   "cell_type": "code",
   "execution_count": 27,
   "metadata": {},
   "outputs": [
    {
     "name": "stdout",
     "output_type": "stream",
     "text": [
      "1\n",
      "2\n"
     ]
    },
    {
     "data": {
      "text/plain": [
       "\u001b[36mnewId\u001b[39m: \u001b[32mInt\u001b[39m = \u001b[32m1\u001b[39m\r\n",
       "\u001b[36mnewerId\u001b[39m: \u001b[32mInt\u001b[39m = \u001b[32m2\u001b[39m"
      ]
     },
     "execution_count": 27,
     "metadata": {},
     "output_type": "execute_result"
    }
   ],
   "source": [
    "val newId: Int = IdFactory.create()\n",
    "println(newId) // 1\n",
    "val newerId: Int = IdFactory.create()\n",
    "println(newerId) // 2"
   ]
  },
  {
   "cell_type": "markdown",
   "metadata": {},
   "source": [
    "### Traits:\n",
    "\n",
    "Traits are types containing certain fields and methods. Multiple traits can be combined.\n",
    "\n",
    "You can define traits with **trait** keyword."
   ]
  },
  {
   "cell_type": "code",
   "execution_count": 28,
   "metadata": {},
   "outputs": [
    {
     "data": {
      "text/plain": [
       "defined \u001b[32mtrait\u001b[39m \u001b[36mGreeter\u001b[39m"
      ]
     },
     "execution_count": 28,
     "metadata": {},
     "output_type": "execute_result"
    }
   ],
   "source": [
    "trait Greeter {\n",
    "  def greet(name: String): Unit\n",
    "}"
   ]
  },
  {
   "cell_type": "markdown",
   "metadata": {},
   "source": [
    "Traits can also have default implementations."
   ]
  },
  {
   "cell_type": "code",
   "execution_count": 29,
   "metadata": {},
   "outputs": [
    {
     "data": {
      "text/plain": [
       "defined \u001b[32mtrait\u001b[39m \u001b[36mGreeter\u001b[39m"
      ]
     },
     "execution_count": 29,
     "metadata": {},
     "output_type": "execute_result"
    }
   ],
   "source": [
    "trait Greeter {\n",
    "  def greet(name: String): Unit =\n",
    "    println(\"Hello, \" + name + \"!\")\n",
    "}"
   ]
  },
  {
   "cell_type": "markdown",
   "metadata": {},
   "source": [
    "You can extend traits with the **extends** keyword and override an implementation with the **override** keyword."
   ]
  },
  {
   "cell_type": "code",
   "execution_count": 30,
   "metadata": {},
   "outputs": [
    {
     "name": "stdout",
     "output_type": "stream",
     "text": [
      "Hello, Scala developer!\n",
      "How are you, Scala developer?\n"
     ]
    },
    {
     "data": {
      "text/plain": [
       "defined \u001b[32mclass\u001b[39m \u001b[36mDefaultGreeter\u001b[39m\r\n",
       "defined \u001b[32mclass\u001b[39m \u001b[36mCustomizableGreeter\u001b[39m\r\n",
       "\u001b[36mgreeter\u001b[39m: \u001b[32mDefaultGreeter\u001b[39m = $sess.cmd29Wrapper$Helper$DefaultGreeter@28a58422\r\n",
       "\u001b[36mcustomGreeter\u001b[39m: \u001b[32mCustomizableGreeter\u001b[39m = $sess.cmd29Wrapper$Helper$CustomizableGreeter@5cb474cb"
      ]
     },
     "execution_count": 30,
     "metadata": {},
     "output_type": "execute_result"
    }
   ],
   "source": [
    "class DefaultGreeter extends Greeter\n",
    "\n",
    "class CustomizableGreeter(prefix: String, postfix: String) extends Greeter {\n",
    "  override def greet(name: String): Unit = {\n",
    "    println(prefix + name + postfix)\n",
    "  }\n",
    "}\n",
    "\n",
    "val greeter = new DefaultGreeter()\n",
    "greeter.greet(\"Scala developer\") // Hello, Scala developer!\n",
    "\n",
    "val customGreeter = new CustomizableGreeter(\"How are you, \", \"?\")\n",
    "customGreeter.greet(\"Scala developer\") // How are you, Scala developer?"
   ]
  },
  {
   "cell_type": "markdown",
   "metadata": {},
   "source": [
    "Here, `DefaultGreeter` extends only a single trait, but it could extend multiple traits.\n",
    "\n",
    "### Main Method:\n",
    "\n",
    "The main method is an entry point of a program. The Java Virtual Machine requires a main method to be named **main** and take one argument, an array of strings.\n",
    "\n",
    "Using an object, you can define a main method as follows:"
   ]
  },
  {
   "cell_type": "code",
   "execution_count": 31,
   "metadata": {},
   "outputs": [
    {
     "data": {
      "text/plain": [
       "defined \u001b[32mobject\u001b[39m \u001b[36mMain\u001b[39m"
      ]
     },
     "execution_count": 31,
     "metadata": {},
     "output_type": "execute_result"
    }
   ],
   "source": [
    "object Main {\n",
    "  def main(args: Array[String]): Unit =\n",
    "    println(\"Hello, Scala developer!\")\n",
    "}"
   ]
  },
  {
   "cell_type": "markdown",
   "metadata": {},
   "source": [
    "## Unified Types\n",
    "\n",
    "In Scala, all values have a type, including numerical values and functions. The diagram below illustrates a subset of the type hierarchy.\n",
    "\n",
    "![alt text](http://docs.scala-lang.org/tutorials/tour/unified-types-diagram.svg \"Scala Unified Types\")\n",
    "\n",
    "\n",
    "### Scala Type Hierarchy\n",
    "\n",
    "`Any` is the supertype of all types, also called the top type. It defines certain universal methods such as `equals`, `hashCode`, and `toString`. Any has two direct subclasses: `AnyVal` and `AnyRef`.\n",
    "\n",
    "`AnyVal` represents value types. There are nine predefined value types and they are non-nullable: `Double`, `Float`, `Long`, `Int`, `Short`, `Byte`, `Char`, `Unit`, and `Boolean`. `Unit` is a value type which carries no meaningful information. There is exactly one instance of `Unit` which can be declared literally like so: `()`. All functions must return something so sometimes `Unit` is a useful return type.\n",
    "\n",
    "`AnyRef` represents reference types. All non-value types are defined as reference types. `Anywhere` an `AnyRef` Every user-defined type in Scala is a subtype of `AnyRef`. If Scala is used in the context of a Java runtime environment, `AnyRef` corresponds to `java.lang.Object`.\n",
    "\n",
    "Here is an example that demonstrates that strings, integers, characters, boolean values, and functions are all objects just like every other object:"
   ]
  },
  {
   "cell_type": "code",
   "execution_count": 32,
   "metadata": {},
   "outputs": [
    {
     "name": "stdout",
     "output_type": "stream",
     "text": [
      "a string\n",
      "732\n",
      "c\n",
      "true\n",
      "<function0>\n"
     ]
    },
    {
     "data": {
      "text/plain": [
       "\u001b[36mlist\u001b[39m: \u001b[32mList\u001b[39m[\u001b[32mAny\u001b[39m] = \u001b[33mList\u001b[39m(a string, 732, c, true, <function0>)"
      ]
     },
     "execution_count": 32,
     "metadata": {},
     "output_type": "execute_result"
    }
   ],
   "source": [
    "val list: List[Any] = List(\n",
    "  \"a string\",\n",
    "  732,  // an integer\n",
    "  'c',  // a character\n",
    "  true, // a boolean value\n",
    "  () => \"an anonymous function returning a string\"\n",
    ")\n",
    "\n",
    "list.foreach(element => println(element))"
   ]
  },
  {
   "cell_type": "markdown",
   "metadata": {
    "collapsed": true
   },
   "source": [
    "It defines a variable `list` of type `List[Any]`. The list is initialized with elements of various types, but they all are instance of `scala.Any`, so you can add them to the list.\n",
    "\n",
    "Here is the output of the program:\n",
    "```scala\n",
    "a string\n",
    "732\n",
    "c\n",
    "true\n",
    "<function>\n",
    "```\n",
    "\n",
    "## Type Casting\n",
    "\n",
    "Value types can be cast in the following way:\n",
    "\n",
    "![alt text](http://docs.scala-lang.org/tutorials/tour/type-casting-diagram.svg \"Scala Type Casting\")\n",
    "\n",
    "For example:"
   ]
  },
  {
   "cell_type": "code",
   "execution_count": 33,
   "metadata": {},
   "outputs": [
    {
     "data": {
      "text/plain": [
       "\u001b[36mx\u001b[39m: \u001b[32mLong\u001b[39m = \u001b[32m987654321L\u001b[39m\r\n",
       "\u001b[36my\u001b[39m: \u001b[32mFloat\u001b[39m = \u001b[32m9.8765434E8F\u001b[39m\r\n",
       "\u001b[36mface\u001b[39m: \u001b[32mChar\u001b[39m = \u001b[32m'?'\u001b[39m\r\n",
       "\u001b[36mnumber\u001b[39m: \u001b[32mInt\u001b[39m = \u001b[32m63\u001b[39m"
      ]
     },
     "execution_count": 33,
     "metadata": {},
     "output_type": "execute_result"
    }
   ],
   "source": [
    "val x: Long = 987654321\n",
    "val y: Float = x  // 9.8765434E8 (note that some precision is lost in this case)\n",
    "\n",
    "val face: Char = '☺'\n",
    "val number: Int = face  // 9786"
   ]
  },
  {
   "cell_type": "markdown",
   "metadata": {
    "collapsed": true
   },
   "source": [
    "Casting is unidirectional. This will not compile:"
   ]
  },
  {
   "cell_type": "code",
   "execution_count": 33,
   "metadata": {},
   "outputs": [
    {
     "name": "stderr",
     "output_type": "stream",
     "text": [
      "cmd33.sc:3: type mismatch;\n",
      " found   : Float\n",
      " required: Long\r\n",
      "val z: Long = y  // Does not conform\r\n",
      "              ^"
     ]
    },
    {
     "ename": "",
     "evalue": "",
     "output_type": "error",
     "traceback": [
      "Compilation Failed"
     ]
    }
   ],
   "source": [
    "val x: Long = 987654321\n",
    "val y: Float = x  // 9.8765434E8\n",
    "val z: Long = y  // Does not conform"
   ]
  },
  {
   "cell_type": "markdown",
   "metadata": {
    "collapsed": true
   },
   "source": [
    "You can also cast a reference type to a subtype. This will be covered later in the tour.\n",
    "\n",
    "### Nothing and Null\n",
    "\n",
    "`Nothing` is a subtype of all types, also called the bottom type. There is no value that has type `Nothing`. A common use is to signal non-termination such as a thrown exception, program exit, or an infinite loop (i.e., it is the type of an expression which does not evaluate to a value, or a method that does not return normally).\n",
    "\n",
    "`Null` is a subtype of all reference types (i.e. any subtype of AnyRef). It has a single value identified by the keyword literal `null`. `Null` is provided mostly for interoperability with other JVM languages and should almost never be used in Scala code. We'll cover alternatives to `null` later in the tour.\n",
    "\n",
    "## Classes\n",
    "\n",
    "Classes in Scala are blueprints for creating objects. They can contain methods, values, variables, types, objects, traits, and classes which are collectively called members. Types, objects, and traits will be covered later in the tour.\n",
    "\n",
    "### Defining a class\n",
    "\n",
    "A minimal class definition is simply the keyword `class` and an identifier. Class names should be capitalized."
   ]
  },
  {
   "cell_type": "code",
   "execution_count": 34,
   "metadata": {},
   "outputs": [
    {
     "data": {
      "text/plain": [
       "defined \u001b[32mclass\u001b[39m \u001b[36mUser\u001b[39m\r\n",
       "\u001b[36muser1\u001b[39m: \u001b[32mUser\u001b[39m = $sess.cmd33Wrapper$Helper$User@59cd7679"
      ]
     },
     "execution_count": 34,
     "metadata": {},
     "output_type": "execute_result"
    }
   ],
   "source": [
    "class User\n",
    "\n",
    "val user1 = new User"
   ]
  },
  {
   "cell_type": "markdown",
   "metadata": {
    "collapsed": true
   },
   "source": [
    "The keyword `new` is used to create an instance of the class. `User` has a default constructor which takes no arguments because no constructor was defined. However, you'll often want a constructor and class body. Here is an example class definition for a point:"
   ]
  },
  {
   "cell_type": "code",
   "execution_count": 35,
   "metadata": {},
   "outputs": [
    {
     "name": "stdout",
     "output_type": "stream",
     "text": [
      "(2, 3)\r\n"
     ]
    },
    {
     "data": {
      "text/plain": [
       "defined \u001b[32mclass\u001b[39m \u001b[36mPoint\u001b[39m\r\n",
       "\u001b[36mpoint1\u001b[39m: \u001b[32mwrapper\u001b[39m.\u001b[32mwrapper\u001b[39m.\u001b[32mPoint\u001b[39m = (2, 3)\r\n",
       "\u001b[36mres34_2\u001b[39m: \u001b[32mInt\u001b[39m = \u001b[32m2\u001b[39m"
      ]
     },
     "execution_count": 35,
     "metadata": {},
     "output_type": "execute_result"
    }
   ],
   "source": [
    "class Point(var x: Int, var y: Int) {\n",
    "    \n",
    "  def move(dx: Int, dy: Int): Unit = {\n",
    "    x = x + dx\n",
    "    y = y + dy\n",
    "  }\n",
    "    \n",
    "  override def toString: String =\n",
    "    s\"($x, $y)\"\n",
    "}\n",
    "\n",
    "val point1 = new Point(2, 3)\n",
    "point1.x  // 2\n",
    "println(point1)  // prints (x, y)"
   ]
  },
  {
   "cell_type": "markdown",
   "metadata": {
    "collapsed": true
   },
   "source": [
    "This `Point` class has four members: the variables `x` and `y` and the methods `move` and `toString`. Unlike many other languages, the primary constructor is in the class signature `(var x: Int, var y: Int)`. The `move` method takes two integer arguments and returns the Unit value `()`, which carries no information. This corresponds roughly with `void` in Java-like languages. `toString`, on the other hand, does not take any arguments but returns a `String` value. Since `toString` overrides `toString` from `AnyRef`, it is tagged with the `override` keyword.\n",
    "\n",
    "### Constructors\n",
    "\n",
    "Constructors can have optional parameters by providing a default value like so:"
   ]
  },
  {
   "cell_type": "code",
   "execution_count": 36,
   "metadata": {},
   "outputs": [
    {
     "name": "stdout",
     "output_type": "stream",
     "text": [
      "1\n"
     ]
    },
    {
     "data": {
      "text/plain": [
       "defined \u001b[32mclass\u001b[39m \u001b[36mPoint\u001b[39m\r\n",
       "\u001b[36morigin\u001b[39m: \u001b[32mwrapper\u001b[39m.\u001b[32mwrapper\u001b[39m.\u001b[32mPoint\u001b[39m = $sess.cmd35Wrapper$Helper$Point@2a556bc7\r\n",
       "\u001b[36mpoint1\u001b[39m: \u001b[32mwrapper\u001b[39m.\u001b[32mwrapper\u001b[39m.\u001b[32mPoint\u001b[39m = $sess.cmd35Wrapper$Helper$Point@1b4ebf7b"
      ]
     },
     "execution_count": 36,
     "metadata": {},
     "output_type": "execute_result"
    }
   ],
   "source": [
    "class Point(var x: Int = 0, var y: Int = 0)\n",
    "\n",
    "val origin = new Point  // x and y are both set to 0\n",
    "val point1 = new Point(1)\n",
    "println(point1.x)  // prints 1"
   ]
  },
  {
   "cell_type": "markdown",
   "metadata": {
    "collapsed": true
   },
   "source": [
    "In this version of the `Point` class, `x` and `y` have the default value `0` so no arguments are required. However, because the constructor reads arguments left to right, if you just wanted to pass in a `y` value, you would need to name the parameter."
   ]
  },
  {
   "cell_type": "code",
   "execution_count": 37,
   "metadata": {},
   "outputs": [
    {
     "name": "stdout",
     "output_type": "stream",
     "text": [
      "2\r\n"
     ]
    },
    {
     "data": {
      "text/plain": [
       "defined \u001b[32mclass\u001b[39m \u001b[36mPoint\u001b[39m\r\n",
       "\u001b[36mpoint2\u001b[39m: \u001b[32mwrapper\u001b[39m.\u001b[32mwrapper\u001b[39m.\u001b[32mPoint\u001b[39m = $sess.cmd36Wrapper$Helper$Point@2f072f76"
      ]
     },
     "execution_count": 37,
     "metadata": {},
     "output_type": "execute_result"
    }
   ],
   "source": [
    "class Point(var x: Int = 0, var y: Int = 0)\n",
    "val point2 = new Point(y=2)\n",
    "println(point2.y)  // prints 2"
   ]
  },
  {
   "cell_type": "markdown",
   "metadata": {
    "collapsed": true
   },
   "source": [
    "This is also a good practice to enhance clarity.\n",
    "\n",
    "### Private Members and Getter/Setter Syntax\n",
    "\n",
    "Members are public by default. Use the `private` access modifier to hide them from outside of the class."
   ]
  },
  {
   "cell_type": "code",
   "execution_count": 38,
   "metadata": {},
   "outputs": [
    {
     "name": "stdout",
     "output_type": "stream",
     "text": [
      "WARNING: Out of bounds\r\n"
     ]
    },
    {
     "data": {
      "text/plain": [
       "defined \u001b[32mclass\u001b[39m \u001b[36mPoint\u001b[39m\r\n",
       "\u001b[36mpoint1\u001b[39m: \u001b[32mwrapper\u001b[39m.\u001b[32mwrapper\u001b[39m.\u001b[32mPoint\u001b[39m = $sess.cmd37Wrapper$Helper$Point@70a34bfa"
      ]
     },
     "execution_count": 38,
     "metadata": {},
     "output_type": "execute_result"
    }
   ],
   "source": [
    "class Point {\n",
    "  private var _x = 0\n",
    "  private var _y = 0\n",
    "  private val bound = 100\n",
    "    \n",
    "  def x = _x\n",
    "  def x_= (newValue: Int): Unit = {\n",
    "    if (newValue < bound) _x = newValue else printWarning\n",
    "  }\n",
    "    \n",
    "  def y = _y\n",
    "  def y_= (newValue: Int): Unit = {\n",
    "    if (newValue < bound) _y = newValue else printWarning\n",
    "  }\n",
    "    \n",
    "  private def printWarning = println(\"WARNING: Out of bounds\")\n",
    "}\n",
    "\n",
    "val point1 = new Point\n",
    "point1.x = 99\n",
    "point1.y = 101 // prints the warning"
   ]
  },
  {
   "cell_type": "markdown",
   "metadata": {
    "collapsed": true
   },
   "source": [
    "In this version of the `Point` class, the data is stored in private variables `_x` and `_y`. There are methods `def x` and `def y` for accessing the private data. `def x_=` and `def y_=` are for validating and setting the value of `_x` and `_y`. Notice the special syntax for the setters: the method has `_=` appended to the identifier of the getter and the parameters come after.\n",
    "\n",
    "Primary constructor parameters with `val` and `var` are public. However, because vals are immutable, you can't write the following."
   ]
  },
  {
   "cell_type": "code",
   "execution_count": 38,
   "metadata": {},
   "outputs": [
    {
     "name": "stderr",
     "output_type": "stream",
     "text": [
      "cmd38.sc:3: reassignment to val\r\n",
      "val res38_2 = point.x = 3  // <-- does not compile\r\n",
      "                      ^"
     ]
    },
    {
     "ename": "",
     "evalue": "",
     "output_type": "error",
     "traceback": [
      "Compilation Failed"
     ]
    }
   ],
   "source": [
    "class Point(val x: Int, val y: Int)\n",
    "val point = new Point(1, 2)\n",
    "point.x = 3  // <-- does not compile"
   ]
  },
  {
   "cell_type": "markdown",
   "metadata": {
    "collapsed": true
   },
   "source": [
    "Parameters without `val` or `var` are private values, visible only within the class."
   ]
  },
  {
   "cell_type": "code",
   "execution_count": 38,
   "metadata": {},
   "outputs": [
    {
     "name": "stderr",
     "output_type": "stream",
     "text": [
      "cmd38.sc:3: value x is not a member of Helper.this.Point\r\n",
      "val res38_2 = point.x  // <-- does not compile\r\n",
      "                    ^"
     ]
    },
    {
     "ename": "",
     "evalue": "",
     "output_type": "error",
     "traceback": [
      "Compilation Failed"
     ]
    }
   ],
   "source": [
    "class Point(x: Int, y: Int)\n",
    "val point = new Point(1, 2)\n",
    "point.x  // <-- does not compile"
   ]
  },
  {
   "cell_type": "markdown",
   "metadata": {
    "collapsed": true
   },
   "source": [
    "## Traits\n",
    "\n",
    "Traits are used to share interfaces and fields between classes. They are similar to Java 8's interfaces. Classes and objects can extend traits but traits cannot be instantiated and therefore have no parameters.\n",
    "\n",
    "### Defining a trait\n",
    "\n",
    "A minimal trait is simply the keyword `trait` and an identifier:"
   ]
  },
  {
   "cell_type": "code",
   "execution_count": 1,
   "metadata": {},
   "outputs": [
    {
     "data": {
      "text/plain": [
       "defined \u001b[32mtrait\u001b[39m \u001b[36mHairColor\u001b[39m"
      ]
     },
     "execution_count": 1,
     "metadata": {},
     "output_type": "execute_result"
    }
   ],
   "source": [
    "trait HairColor"
   ]
  },
  {
   "cell_type": "markdown",
   "metadata": {
    "collapsed": true
   },
   "source": [
    "Traits become especially useful as generic types and with abstract methods."
   ]
  },
  {
   "cell_type": "code",
   "execution_count": 2,
   "metadata": {},
   "outputs": [
    {
     "data": {
      "text/plain": [
       "defined \u001b[32mtrait\u001b[39m \u001b[36mIterator\u001b[39m"
      ]
     },
     "execution_count": 2,
     "metadata": {},
     "output_type": "execute_result"
    }
   ],
   "source": [
    "trait Iterator[A] {\n",
    "  def hasNext: Boolean\n",
    "  def next(): A\n",
    "}"
   ]
  },
  {
   "cell_type": "markdown",
   "metadata": {
    "collapsed": true
   },
   "source": [
    "Extending the `trait Iterator[A]` requires a type `A` and implementations of the methods `hasNext` and `next`.\n",
    "\n",
    "### Using traits\n",
    "\n",
    "Use the `extends` keyword to extend a trait. Then implement any abstract members of the trait using the `override` keyword:"
   ]
  },
  {
   "cell_type": "code",
   "execution_count": 3,
   "metadata": {},
   "outputs": [
    {
     "data": {
      "text/plain": [
       "defined \u001b[32mtrait\u001b[39m \u001b[36mIterator\u001b[39m\r\n",
       "defined \u001b[32mclass\u001b[39m \u001b[36mIntIterator\u001b[39m\r\n",
       "\u001b[36miterator\u001b[39m: \u001b[32mIntIterator\u001b[39m = $sess.cmd2Wrapper$Helper$IntIterator@30939a31\r\n",
       "\u001b[36mres2_3\u001b[39m: \u001b[32mInt\u001b[39m = \u001b[32m0\u001b[39m\r\n",
       "\u001b[36mres2_4\u001b[39m: \u001b[32mInt\u001b[39m = \u001b[32m1\u001b[39m"
      ]
     },
     "execution_count": 3,
     "metadata": {},
     "output_type": "execute_result"
    }
   ],
   "source": [
    "trait Iterator[A] {\n",
    "  def hasNext: Boolean\n",
    "  def next(): A\n",
    "}\n",
    "\n",
    "class IntIterator(to: Int) extends Iterator[Int] {\n",
    "  private var current = 0\n",
    "  override def hasNext: Boolean = current < to\n",
    "  override def next(): Int =  {\n",
    "    if (hasNext) {\n",
    "      val t = current\n",
    "      current += 1\n",
    "      t\n",
    "    } else 0\n",
    "  }\n",
    "}\n",
    "\n",
    "val iterator = new IntIterator(10)\n",
    "iterator.next()  // prints 0\n",
    "iterator.next()  // prints 1"
   ]
  },
  {
   "cell_type": "markdown",
   "metadata": {
    "collapsed": true
   },
   "source": [
    "This `IntIterator` class takes a parameter `to` as an upper bound. It `extends Iterator[Int]` which means that the `next` method must return an Int.\n",
    "\n",
    "### Subtyping\n",
    "\n",
    "Where a given trait is required, a subtype of the trait can be used instead."
   ]
  },
  {
   "cell_type": "code",
   "execution_count": 4,
   "metadata": {},
   "outputs": [
    {
     "name": "stdout",
     "output_type": "stream",
     "text": [
      "Harry\n",
      "Sally\n"
     ]
    },
    {
     "data": {
      "text/plain": [
       "\u001b[32mimport \u001b[39m\u001b[36mscala.collection.mutable.ArrayBuffer\r\n",
       "\r\n",
       "\u001b[39m\r\n",
       "defined \u001b[32mtrait\u001b[39m \u001b[36mPet\u001b[39m\r\n",
       "defined \u001b[32mclass\u001b[39m \u001b[36mCat\u001b[39m\r\n",
       "defined \u001b[32mclass\u001b[39m \u001b[36mDog\u001b[39m\r\n",
       "\u001b[36mdog\u001b[39m: \u001b[32mDog\u001b[39m = $sess.cmd3Wrapper$Helper$Dog@2042ec77\r\n",
       "\u001b[36mcat\u001b[39m: \u001b[32mCat\u001b[39m = $sess.cmd3Wrapper$Helper$Cat@74204803\r\n",
       "\u001b[36manimals\u001b[39m: \u001b[32mcollection\u001b[39m.\u001b[32mmutable\u001b[39m.\u001b[32mArrayBuffer\u001b[39m[\u001b[32mPet\u001b[39m] = \u001b[33mArrayBuffer\u001b[39m(\n",
       "  $sess.cmd3Wrapper$Helper$Dog@2042ec77,\n",
       "  $sess.cmd3Wrapper$Helper$Cat@74204803\n",
       ")"
      ]
     },
     "execution_count": 4,
     "metadata": {},
     "output_type": "execute_result"
    }
   ],
   "source": [
    "import scala.collection.mutable.ArrayBuffer\n",
    "\n",
    "trait Pet {\n",
    "  val name: String\n",
    "}\n",
    "\n",
    "class Cat(val name: String) extends Pet\n",
    "class Dog(val name: String) extends Pet\n",
    "\n",
    "val dog = new Dog(\"Harry\")\n",
    "val cat = new Cat(\"Sally\")\n",
    "\n",
    "val animals = ArrayBuffer.empty[Pet]\n",
    "animals.append(dog)\n",
    "animals.append(cat)\n",
    "animals.foreach(pet => println(pet.name))  // Prints Harry Sally"
   ]
  },
  {
   "cell_type": "markdown",
   "metadata": {
    "collapsed": true
   },
   "source": [
    "The `trait Pet` has an abstract field `name` which gets implemented by Cat and Dog in their constructors. On the last line, we call `pet.name` which must be implemented in any subtype of the trait `Pet`.\n",
    "\n",
    "## Class Composition with Mixins\n",
    "\n",
    "Mixins are traits which are used to compose a class."
   ]
  },
  {
   "cell_type": "code",
   "execution_count": 5,
   "metadata": {},
   "outputs": [
    {
     "data": {
      "text/plain": [
       "defined \u001b[32mclass\u001b[39m \u001b[36mA\u001b[39m\r\n",
       "defined \u001b[32mclass\u001b[39m \u001b[36mB\u001b[39m\r\n",
       "defined \u001b[32mtrait\u001b[39m \u001b[36mC\u001b[39m\r\n",
       "defined \u001b[32mclass\u001b[39m \u001b[36mD\u001b[39m\r\n",
       "\u001b[36md\u001b[39m: \u001b[32mD\u001b[39m = $sess.cmd4Wrapper$Helper$D@7d8372a\r\n",
       "\u001b[36mres4_5\u001b[39m: \u001b[32mString\u001b[39m = \u001b[32m\"I'm an instance of class B\"\u001b[39m\r\n",
       "\u001b[36mres4_6\u001b[39m: \u001b[32mString\u001b[39m = \u001b[32m\"I'M AN INSTANCE OF CLASS B\"\u001b[39m"
      ]
     },
     "execution_count": 5,
     "metadata": {},
     "output_type": "execute_result"
    }
   ],
   "source": [
    "abstract class A {\n",
    "  val message: String\n",
    "}\n",
    "class B extends A {\n",
    "  val message = \"I'm an instance of class B\"\n",
    "}\n",
    "trait C extends A {\n",
    "  def loudMessage = message.toUpperCase()\n",
    "}\n",
    "class D extends B with C\n",
    "\n",
    "val d = new D\n",
    "d.message  // I'm an instance of class B\n",
    "d.loudMessage  // I'M AN INSTANCE OF CLASS B"
   ]
  },
  {
   "cell_type": "markdown",
   "metadata": {
    "collapsed": true
   },
   "source": [
    "Class `D` has a superclass `B` and a mixin `C`. Classes can only have one superclass but many mixins (using the keywords `extends` and `with` respectively). The mixins and the superclass may have the same supertype.\n",
    "\n",
    "Now let's look at a more interesting example starting with an abstract class:"
   ]
  },
  {
   "cell_type": "code",
   "execution_count": 6,
   "metadata": {},
   "outputs": [
    {
     "data": {
      "text/plain": [
       "defined \u001b[32mclass\u001b[39m \u001b[36mAbsIterator\u001b[39m"
      ]
     },
     "execution_count": 6,
     "metadata": {},
     "output_type": "execute_result"
    }
   ],
   "source": [
    "abstract class AbsIterator {\n",
    "  type T\n",
    "  def hasNext: Boolean\n",
    "  def next: T\n",
    "}"
   ]
  },
  {
   "cell_type": "markdown",
   "metadata": {
    "collapsed": true
   },
   "source": [
    "The class has an abstract type `T` and the standard iterator methods.\n",
    "\n",
    "Next, we'll implement a concrete class (all abstract members `T`, `hasNext`, and `next` have implementations):"
   ]
  },
  {
   "cell_type": "code",
   "execution_count": 7,
   "metadata": {},
   "outputs": [
    {
     "data": {
      "text/plain": [
       "defined \u001b[32mclass\u001b[39m \u001b[36mStringIterator\u001b[39m"
      ]
     },
     "execution_count": 7,
     "metadata": {},
     "output_type": "execute_result"
    }
   ],
   "source": [
    "class StringIterator(s: String) extends AbsIterator {\n",
    "  type T = Char\n",
    "  private var i = 0\n",
    "  def hasNext = i < s.length\n",
    "  def next = {\n",
    "    val ch = s charAt i\n",
    "    i += 1\n",
    "    ch\n",
    "  }\n",
    "}"
   ]
  },
  {
   "cell_type": "markdown",
   "metadata": {
    "collapsed": true
   },
   "source": [
    "`StringIterator` takes a `String` and can be used to iterate over the String (e.g. to see if a String contains a certain character).\n",
    "\n",
    "Now let's create a trait which also extends `AbsIterator`."
   ]
  },
  {
   "cell_type": "code",
   "execution_count": 8,
   "metadata": {},
   "outputs": [
    {
     "data": {
      "text/plain": [
       "defined \u001b[32mtrait\u001b[39m \u001b[36mRichIterator\u001b[39m"
      ]
     },
     "execution_count": 8,
     "metadata": {},
     "output_type": "execute_result"
    }
   ],
   "source": [
    "trait RichIterator extends AbsIterator {\n",
    "  def foreach(f: T => Unit): Unit = while (hasNext) f(next)\n",
    "}"
   ]
  },
  {
   "cell_type": "markdown",
   "metadata": {
    "collapsed": true
   },
   "source": [
    "Because `RichIterator` is a trait, it doesn't need to implement the abstract members of AbsIterator.\n",
    "\n",
    "We would like to combine the functionality of `StringIterator` and `RichIterator` into a single class."
   ]
  },
  {
   "cell_type": "code",
   "execution_count": 9,
   "metadata": {},
   "outputs": [
    {
     "data": {
      "text/plain": [
       "defined \u001b[32mobject\u001b[39m \u001b[36mStringIteratorTest\u001b[39m"
      ]
     },
     "execution_count": 9,
     "metadata": {},
     "output_type": "execute_result"
    }
   ],
   "source": [
    "object StringIteratorTest extends App {\n",
    "  class RichStringIter extends StringIterator(args(0)) with RichIterator\n",
    "  val iter = new RichStringIter\n",
    "  iter foreach println\n",
    "}"
   ]
  },
  {
   "cell_type": "markdown",
   "metadata": {
    "collapsed": true
   },
   "source": [
    "The new class `RichStringIter` has `StringIterator` as a superclass and `RichIterator` as a mixin.\n",
    "\n",
    "With single inheritance we would not be able to achieve this level of flexibility.\n",
    "\n",
    "\n",
    "## Higher-order Functions\n",
    "\n",
    "Scala allows the definition of higher-order functions. These are functions that *take other functions as parameters*, or whose *result is a function*. Here is a function `apply` which takes another function `f` and a value `v` and applies function `f` to `v`:"
   ]
  },
  {
   "cell_type": "code",
   "execution_count": 10,
   "metadata": {},
   "outputs": [
    {
     "data": {
      "text/plain": [
       "defined \u001b[32mfunction\u001b[39m \u001b[36mapply\u001b[39m"
      ]
     },
     "execution_count": 10,
     "metadata": {},
     "output_type": "execute_result"
    }
   ],
   "source": [
    "def apply(f: Int => String, v: Int) = f(v)"
   ]
  },
  {
   "cell_type": "markdown",
   "metadata": {
    "collapsed": true
   },
   "source": [
    "*Note: methods are automatically coerced to functions if the context requires this.*\n",
    "\n",
    "Here is another example:"
   ]
  },
  {
   "cell_type": "code",
   "execution_count": 12,
   "metadata": {},
   "outputs": [
    {
     "data": {
      "text/plain": [
       "defined \u001b[32mclass\u001b[39m \u001b[36mDecorator\u001b[39m\r\n",
       "defined \u001b[32mobject\u001b[39m \u001b[36mFunTest\u001b[39m"
      ]
     },
     "execution_count": 12,
     "metadata": {},
     "output_type": "execute_result"
    }
   ],
   "source": [
    "class Decorator(left: String, right: String) {\n",
    "  def layout[A](x: A) = left + x.toString() + right\n",
    "}\n",
    "\n",
    "object FunTest extends App {\n",
    "  def apply(f: Int => String, v: Int) = f(v)\n",
    "  val decorator = new Decorator(\"[\", \"]\")\n",
    "  println(apply(decorator.layout, 7))\n",
    "}"
   ]
  },
  {
   "cell_type": "markdown",
   "metadata": {
    "collapsed": true
   },
   "source": [
    "Execution yields the output:\n",
    "```scala\n",
    "[7]\n",
    "```\n",
    "\n",
    "In this example, the method `decorator.layout` is coerced automatically to a value of type `Int => String` as required by method `apply`. Please note that method `decorator.layout` is a *polymorphic method* (i.e. it abstracts over some of its signature types) and the Scala compiler has to instantiate its method type first appropriately.\n",
    "\n",
    "\n",
    "## Nested Methods\n",
    "\n",
    "In Scala it is possible to nest function definitions. The following object provides a `factorial` function for computing the factorial of a given number:"
   ]
  },
  {
   "cell_type": "code",
   "execution_count": 13,
   "metadata": {},
   "outputs": [
    {
     "name": "stdout",
     "output_type": "stream",
     "text": [
      "Factorial of 2: 2\r\n",
      "Factorial of 3: 6\r\n"
     ]
    },
    {
     "data": {
      "text/plain": [
       "defined \u001b[32mfunction\u001b[39m \u001b[36mfactorial\u001b[39m"
      ]
     },
     "execution_count": 13,
     "metadata": {},
     "output_type": "execute_result"
    }
   ],
   "source": [
    "def factorial(x: Int): Int = {\n",
    "    def fact(x: Int, accumulator: Int): Int = {\n",
    "      if (x <= 1) accumulator\n",
    "      else fact(x - 1, x * accumulator)\n",
    "    }  \n",
    "    fact(x, 1)\n",
    "}\n",
    "\n",
    "println(\"Factorial of 2: \" + factorial(2))\n",
    "println(\"Factorial of 3: \" + factorial(3))"
   ]
  },
  {
   "cell_type": "markdown",
   "metadata": {
    "collapsed": true
   },
   "source": [
    "## Currying\n",
    "\n",
    "Methods may define multiple parameter lists. When a method is called with a fewer number of parameter lists, then this will yield a function taking the missing parameter lists as its arguments.\n",
    "\n",
    "Here is an example:"
   ]
  },
  {
   "cell_type": "code",
   "execution_count": 14,
   "metadata": {},
   "outputs": [
    {
     "data": {
      "text/plain": [
       "defined \u001b[32mobject\u001b[39m \u001b[36mCurryTest\u001b[39m"
      ]
     },
     "execution_count": 14,
     "metadata": {},
     "output_type": "execute_result"
    }
   ],
   "source": [
    "object CurryTest extends App {\n",
    "\n",
    "  def filter(xs: List[Int], p: Int => Boolean): List[Int] =\n",
    "    if (xs.isEmpty) xs\n",
    "    else if (p(xs.head)) xs.head :: filter(xs.tail, p)\n",
    "    else filter(xs.tail, p)\n",
    "\n",
    "  def modN(n: Int)(x: Int) = ((x % n) == 0)\n",
    "\n",
    "  val nums = List(1, 2, 3, 4, 5, 6, 7, 8)\n",
    "  println(filter(nums, modN(2)))\n",
    "  println(filter(nums, modN(3)))\n",
    "}"
   ]
  },
  {
   "cell_type": "markdown",
   "metadata": {
    "collapsed": true
   },
   "source": [
    "*Note: method `modN` is partially applied in the two `filter` calls; i.e. only its first argument is actually applied. The term `modN(2)` yields a function of type `Int => Boolean` and is thus a possible candidate for the second argument of function `filter`.*\n",
    "\n",
    "Here's the output of the program above:\n",
    "\n",
    "```scala\n",
    "List(2,4,6,8)\n",
    "List(3,6)\n",
    "```\n",
    "\n",
    "\n",
    "## Case Classes\n",
    "\n",
    "Case classes are like regular classes with a few key differences which we will go over. Case classes are good for modeling immutable data. In the next step of the tour, we'll see how they are useful in [pattern matching](https://docs.scala-lang.org/tutorials/tour/pattern-matching.html).\n",
    "\n",
    "\n",
    "### Defining a case class\n",
    "\n",
    "A minimal case class requires the keywords `case class`, an identifier, and a parameter list (which may be empty):\n",
    "\n"
   ]
  },
  {
   "cell_type": "code",
   "execution_count": 1,
   "metadata": {},
   "outputs": [
    {
     "data": {
      "text/plain": [
       "defined \u001b[32mclass\u001b[39m \u001b[36mBook\u001b[39m\r\n",
       "\u001b[36mfrankenstein\u001b[39m: \u001b[32mBook\u001b[39m = \u001b[33mBook\u001b[39m(\u001b[32m\"978-0486282114\"\u001b[39m)"
      ]
     },
     "execution_count": 1,
     "metadata": {},
     "output_type": "execute_result"
    }
   ],
   "source": [
    "case class Book(isbn: String)\n",
    "\n",
    "val frankenstein = Book(\"978-0486282114\")"
   ]
  },
  {
   "cell_type": "markdown",
   "metadata": {
    "collapsed": true
   },
   "source": [
    "Notice how the keyword `new` was not used to instantiate the `Message` case class. This is because case classes have an `apply` method by default which takes care of object construction.\n",
    "\n",
    "When you create a case class with parameters, the parameters are public `val`s."
   ]
  },
  {
   "cell_type": "code",
   "execution_count": 2,
   "metadata": {},
   "outputs": [
    {
     "name": "stdout",
     "output_type": "stream",
     "text": [
      "guillaume@quebec.ca\r\n"
     ]
    },
    {
     "data": {
      "text/plain": [
       "defined \u001b[32mclass\u001b[39m \u001b[36mMessage\u001b[39m\r\n",
       "\u001b[36mmessage1\u001b[39m: \u001b[32mMessage\u001b[39m = \u001b[33mMessage\u001b[39m(\u001b[32m\"guillaume@quebec.ca\"\u001b[39m, \u001b[32m\"jorge@catalonia.es\"\u001b[39m, \u001b[32m\"Ça va ?\"\u001b[39m)"
      ]
     },
     "execution_count": 2,
     "metadata": {},
     "output_type": "execute_result"
    }
   ],
   "source": [
    "case class Message(sender: String, recipient: String, body: String)\n",
    "val message1 = Message(\"guillaume@quebec.ca\", \"jorge@catalonia.es\", \"Ça va ?\")\n",
    "\n",
    "println(message1.sender)  // prints guillaume@quebec.ca"
   ]
  },
  {
   "cell_type": "code",
   "execution_count": 2,
   "metadata": {},
   "outputs": [
    {
     "name": "stderr",
     "output_type": "stream",
     "text": [
      "cmd2.sc:1: reassignment to val\r\n",
      "val res2 = message1.sender = \"travis@washington.us\"  // this line does not compile\r\n",
      "                           ^"
     ]
    },
    {
     "ename": "",
     "evalue": "",
     "output_type": "error",
     "traceback": [
      "Compilation Failed"
     ]
    }
   ],
   "source": [
    "message1.sender = \"travis@washington.us\"  // this line does not compile"
   ]
  },
  {
   "cell_type": "markdown",
   "metadata": {
    "collapsed": true
   },
   "source": [
    "You can't reassign `message1.sender` because it is a `val` (i.e. immutable). It is possible to use `var`s in case classes but this is discouraged.\n",
    "\n",
    "### Comparison\n",
    "\n",
    "Case classes are compared by structure and not by reference:\n",
    "\n"
   ]
  },
  {
   "cell_type": "code",
   "execution_count": 3,
   "metadata": {},
   "outputs": [
    {
     "data": {
      "text/plain": [
       "defined \u001b[32mclass\u001b[39m \u001b[36mMessage\u001b[39m\r\n",
       "\u001b[36mmessage2\u001b[39m: \u001b[32mwrapper\u001b[39m.\u001b[32mwrapper\u001b[39m.\u001b[32mMessage\u001b[39m = \u001b[33mMessage\u001b[39m(\u001b[32m\"jorge@catalonia.es\"\u001b[39m, \u001b[32m\"guillaume@quebec.ca\"\u001b[39m, \u001b[32m\"Com va?\"\u001b[39m)\r\n",
       "\u001b[36mmessage3\u001b[39m: \u001b[32mwrapper\u001b[39m.\u001b[32mwrapper\u001b[39m.\u001b[32mMessage\u001b[39m = \u001b[33mMessage\u001b[39m(\u001b[32m\"jorge@catalonia.es\"\u001b[39m, \u001b[32m\"guillaume@quebec.ca\"\u001b[39m, \u001b[32m\"Com va?\"\u001b[39m)\r\n",
       "\u001b[36mmessagesAreTheSame\u001b[39m: \u001b[32mBoolean\u001b[39m = \u001b[32mtrue\u001b[39m"
      ]
     },
     "execution_count": 3,
     "metadata": {},
     "output_type": "execute_result"
    }
   ],
   "source": [
    "case class Message(sender: String, recipient: String, body: String)\n",
    "\n",
    "val message2 = Message(\"jorge@catalonia.es\", \"guillaume@quebec.ca\", \"Com va?\")\n",
    "val message3 = Message(\"jorge@catalonia.es\", \"guillaume@quebec.ca\", \"Com va?\")\n",
    "val messagesAreTheSame = message2 == message3  // true"
   ]
  },
  {
   "cell_type": "markdown",
   "metadata": {
    "collapsed": true
   },
   "source": [
    "Even though `message2` and `message3` refer to different objects, the value of each object is equal.\n",
    "\n",
    "### Copying\n",
    "You can create a deep copy of an instance of a case class simply by using the `copy` method. You can optionally change the constructor arguments."
   ]
  },
  {
   "cell_type": "code",
   "execution_count": 4,
   "metadata": {},
   "outputs": [
    {
     "data": {
      "text/plain": [
       "defined \u001b[32mclass\u001b[39m \u001b[36mMessage\u001b[39m\r\n",
       "\u001b[36mmessage4\u001b[39m: \u001b[32mwrapper\u001b[39m.\u001b[32mwrapper\u001b[39m.\u001b[32mMessage\u001b[39m = \u001b[33mMessage\u001b[39m(\n",
       "  \u001b[32m\"julien@bretagne.fr\"\u001b[39m,\n",
       "  \u001b[32m\"travis@washington.us\"\u001b[39m,\n",
       "  \u001b[32m\"Me zo o komz gant ma amezeg\"\u001b[39m\n",
       ")\r\n",
       "\u001b[36mmessage5\u001b[39m: \u001b[32mwrapper\u001b[39m.\u001b[32mwrapper\u001b[39m.\u001b[32mMessage\u001b[39m = \u001b[33mMessage\u001b[39m(\n",
       "  \u001b[32m\"travis@washington.us\"\u001b[39m,\n",
       "  \u001b[32m\"claire@bourgogne.fr\"\u001b[39m,\n",
       "  \u001b[32m\"Me zo o komz gant ma amezeg\"\u001b[39m\n",
       ")\r\n",
       "\u001b[36mres3_3\u001b[39m: \u001b[32mString\u001b[39m = \u001b[32m\"travis@washington.us\"\u001b[39m\r\n",
       "\u001b[36mres3_4\u001b[39m: \u001b[32mString\u001b[39m = \u001b[32m\"claire@bourgogne.fr\"\u001b[39m\r\n",
       "\u001b[36mres3_5\u001b[39m: \u001b[32mString\u001b[39m = \u001b[32m\"Me zo o komz gant ma amezeg\"\u001b[39m"
      ]
     },
     "execution_count": 4,
     "metadata": {},
     "output_type": "execute_result"
    }
   ],
   "source": [
    "case class Message(sender: String, recipient: String, body: String)\n",
    "val message4 = Message(\"julien@bretagne.fr\", \"travis@washington.us\", \"Me zo o komz gant ma amezeg\")\n",
    "val message5 = message4.copy(sender = message4.recipient, recipient = \"claire@bourgogne.fr\")\n",
    "message5.sender  // travis@washington.us\n",
    "message5.recipient // claire@bourgogne.fr\n",
    "message5.body  // \"Me zo o komz gant ma amezeg\""
   ]
  },
  {
   "cell_type": "markdown",
   "metadata": {
    "collapsed": true
   },
   "source": [
    "The recipient of `message4` is used as the sender of `message5` but the body of `message4` was copied directly.\n",
    "\n",
    "\n",
    "## Pattern matching\n",
    "\n",
    "Pattern matching is a mechanism for checking a value against a pattern. A successful match can also deconstruct a value into its constituent parts. It is a more powerful version of the `switch` statement in Java and it can likewise be used in place of a series of if/else statements.\n",
    "\n",
    "### Syntax\n",
    "\n",
    "A match expression has a value, the `match` keyword, and at least one `case` clause."
   ]
  },
  {
   "cell_type": "code",
   "execution_count": 5,
   "metadata": {},
   "outputs": [
    {
     "data": {
      "text/plain": [
       "\u001b[32mimport \u001b[39m\u001b[36mscala.util.Random\r\n",
       "\r\n",
       "\u001b[39m\r\n",
       "\u001b[36mx\u001b[39m: \u001b[32mInt\u001b[39m = \u001b[32m6\u001b[39m\r\n",
       "\u001b[36mres4_2\u001b[39m: \u001b[32mString\u001b[39m = \u001b[32m\"many\"\u001b[39m"
      ]
     },
     "execution_count": 5,
     "metadata": {},
     "output_type": "execute_result"
    }
   ],
   "source": [
    "import scala.util.Random\n",
    "\n",
    "val x: Int = Random.nextInt(10)\n",
    "\n",
    "x match {\n",
    "  case 0 => \"zero\"\n",
    "  case 1 => \"one\"\n",
    "  case 2 => \"two\"\n",
    "  case _ => \"many\"\n",
    "}"
   ]
  },
  {
   "cell_type": "markdown",
   "metadata": {
    "collapsed": true
   },
   "source": [
    "The `val x` above is a random integer between 0 and 10. `x` becomes the left operand of the `match` operator and on the right is an expression with four cases. The last case `_` is a \"catch all\" case for any number greater than 2. Cases are also called *alternatives*.\n",
    "\n",
    "Match expressions have a value."
   ]
  },
  {
   "cell_type": "code",
   "execution_count": 6,
   "metadata": {},
   "outputs": [
    {
     "data": {
      "text/plain": [
       "defined \u001b[32mfunction\u001b[39m \u001b[36mmatchTest\u001b[39m\r\n",
       "\u001b[36mres5_1\u001b[39m: \u001b[32mString\u001b[39m = \u001b[32m\"many\"\u001b[39m\r\n",
       "\u001b[36mres5_2\u001b[39m: \u001b[32mString\u001b[39m = \u001b[32m\"one\"\u001b[39m"
      ]
     },
     "execution_count": 6,
     "metadata": {},
     "output_type": "execute_result"
    }
   ],
   "source": [
    "def matchTest(x: Int): String = x match {\n",
    "  case 1 => \"one\"\n",
    "  case 2 => \"two\"\n",
    "  case _ => \"many\"\n",
    "}\n",
    "matchTest(3)  // many\n",
    "matchTest(1)  // one"
   ]
  },
  {
   "cell_type": "markdown",
   "metadata": {
    "collapsed": true
   },
   "source": [
    "This match expression has a type String because all of the cases return String. Therefore, the function `matchTest` returns a String.\n",
    "\n",
    "### Matching on case classes\n",
    "\n",
    "Case classes are especially useful for pattern matching."
   ]
  },
  {
   "cell_type": "code",
   "execution_count": 7,
   "metadata": {},
   "outputs": [
    {
     "data": {
      "text/plain": [
       "defined \u001b[32mclass\u001b[39m \u001b[36mNotification\u001b[39m\r\n",
       "defined \u001b[32mclass\u001b[39m \u001b[36mEmail\u001b[39m\r\n",
       "defined \u001b[32mclass\u001b[39m \u001b[36mSMS\u001b[39m\r\n",
       "defined \u001b[32mclass\u001b[39m \u001b[36mVoiceRecording\u001b[39m"
      ]
     },
     "execution_count": 7,
     "metadata": {},
     "output_type": "execute_result"
    }
   ],
   "source": [
    "abstract class Notification\n",
    "\n",
    "case class Email(sender: String, title: String, body: String) extends Notification\n",
    "\n",
    "case class SMS(caller: String, message: String) extends Notification\n",
    "\n",
    "case class VoiceRecording(contactName: String, link: String) extends Notification"
   ]
  },
  {
   "cell_type": "markdown",
   "metadata": {
    "collapsed": true
   },
   "source": [
    "`Notification` is an abstract super class which has three concrete Notification types implemented with case classes `Email`, `SMS`, and `VoiceRecording`. Now we can do pattern matching on these case classes:"
   ]
  },
  {
   "cell_type": "code",
   "execution_count": 8,
   "metadata": {},
   "outputs": [
    {
     "name": "stdout",
     "output_type": "stream",
     "text": [
      "You got an SMS from 12345! Message: Are you there?\n",
      "you received a Voice Recording from Tom! Click the link to hear it: voicerecording.org/id/123\n"
     ]
    },
    {
     "data": {
      "text/plain": [
       "defined \u001b[32mfunction\u001b[39m \u001b[36mshowNotification\u001b[39m\r\n",
       "\u001b[36msomeSms\u001b[39m: \u001b[32mSMS\u001b[39m = \u001b[33mSMS\u001b[39m(\u001b[32m\"12345\"\u001b[39m, \u001b[32m\"Are you there?\"\u001b[39m)\r\n",
       "\u001b[36msomeVoiceRecording\u001b[39m: \u001b[32mVoiceRecording\u001b[39m = \u001b[33mVoiceRecording\u001b[39m(\u001b[32m\"Tom\"\u001b[39m, \u001b[32m\"voicerecording.org/id/123\"\u001b[39m)"
      ]
     },
     "execution_count": 8,
     "metadata": {},
     "output_type": "execute_result"
    }
   ],
   "source": [
    "def showNotification(notification: Notification): String = {\n",
    "  notification match {\n",
    "    case Email(email, title, _) =>\n",
    "      s\"You got an email from $email with title: $title\"\n",
    "    case SMS(number, message) =>\n",
    "      s\"You got an SMS from $number! Message: $message\"\n",
    "    case VoiceRecording(name, link) =>\n",
    "      s\"you received a Voice Recording from $name! Click the link to hear it: $link\"\n",
    "  }\n",
    "}\n",
    "val someSms = SMS(\"12345\", \"Are you there?\")\n",
    "val someVoiceRecording = VoiceRecording(\"Tom\", \"voicerecording.org/id/123\")\n",
    "\n",
    "println(showNotification(someSms))  // prints You got an SMS from 12345! Message: Are you there?\n",
    "\n",
    "println(showNotification(someVoiceRecording))  // you received a Voice Recording from Tom! Click the link to hear it: voicerecording.org/id/123"
   ]
  },
  {
   "cell_type": "markdown",
   "metadata": {
    "collapsed": true
   },
   "source": [
    "The function `showNotification` takes as a parameter the abstract type `Notification` and matches on the type of `Notification` (i.e. it figures out whether it's an `Email`, `SMS`, or `VoiceRecording`). In the `case Email(email, title, _)` the fields email and title are used in the return value but the `body` field is ignored with `_`.\n",
    "\n",
    "### Pattern guards\n",
    "\n",
    "Pattern guards are simply boolean expressions which are used to make cases more specific. Just add if `<boolean expression>` after the pattern."
   ]
  },
  {
   "cell_type": "code",
   "execution_count": 9,
   "metadata": {},
   "outputs": [
    {
     "name": "stdout",
     "output_type": "stream",
     "text": [
      "You got an SMS from special someone!\r\n",
      "you received a Voice Recording from Tom! Click the link to hear it: voicerecording.org/id/123\r\n",
      "You got an email from special someone!\r\n",
      "You got an SMS from special someone!\r\n"
     ]
    },
    {
     "data": {
      "text/plain": [
       "defined \u001b[32mfunction\u001b[39m \u001b[36mshowImportantNotification\u001b[39m\r\n",
       "\u001b[36mimportantPeopleInfo\u001b[39m: \u001b[32mSeq\u001b[39m[\u001b[32mString\u001b[39m] = \u001b[33mList\u001b[39m(\u001b[32m\"867-5309\"\u001b[39m, \u001b[32m\"jenny@gmail.com\"\u001b[39m)\r\n",
       "\u001b[36msomeSms\u001b[39m: \u001b[32mSMS\u001b[39m = \u001b[33mSMS\u001b[39m(\u001b[32m\"867-5309\"\u001b[39m, \u001b[32m\"Are you there?\"\u001b[39m)\r\n",
       "\u001b[36msomeVoiceRecording\u001b[39m: \u001b[32mVoiceRecording\u001b[39m = \u001b[33mVoiceRecording\u001b[39m(\u001b[32m\"Tom\"\u001b[39m, \u001b[32m\"voicerecording.org/id/123\"\u001b[39m)\r\n",
       "\u001b[36mimportantEmail\u001b[39m: \u001b[32mEmail\u001b[39m = \u001b[33mEmail\u001b[39m(\u001b[32m\"jenny@gmail.com\"\u001b[39m, \u001b[32m\"Drinks tonight?\"\u001b[39m, \u001b[32m\"I'm free after 5!\"\u001b[39m)\r\n",
       "\u001b[36mimportantSms\u001b[39m: \u001b[32mSMS\u001b[39m = \u001b[33mSMS\u001b[39m(\u001b[32m\"867-5309\"\u001b[39m, \u001b[32m\"I'm here! Where are you?\"\u001b[39m)"
      ]
     },
     "execution_count": 9,
     "metadata": {},
     "output_type": "execute_result"
    }
   ],
   "source": [
    "def showImportantNotification(notification: Notification, importantPeopleInfo: Seq[String]): String = {\n",
    "  notification match {\n",
    "    case Email(email, _, _) if importantPeopleInfo.contains(email) =>\n",
    "      \"You got an email from special someone!\"\n",
    "    case SMS(number, _) if importantPeopleInfo.contains(number) =>\n",
    "      \"You got an SMS from special someone!\"\n",
    "    case other =>\n",
    "      showNotification(other) // nothing special, delegate to our original showNotification function\n",
    "  }\n",
    "}\n",
    "\n",
    "val importantPeopleInfo = Seq(\"867-5309\", \"jenny@gmail.com\")\n",
    "\n",
    "val someSms = SMS(\"867-5309\", \"Are you there?\")\n",
    "val someVoiceRecording = VoiceRecording(\"Tom\", \"voicerecording.org/id/123\")\n",
    "val importantEmail = Email(\"jenny@gmail.com\", \"Drinks tonight?\", \"I'm free after 5!\")\n",
    "val importantSms = SMS(\"867-5309\", \"I'm here! Where are you?\")\n",
    "\n",
    "println(showImportantNotification(someSms, importantPeopleInfo))\n",
    "println(showImportantNotification(someVoiceRecording, importantPeopleInfo))\n",
    "println(showImportantNotification(importantEmail, importantPeopleInfo))\n",
    "println(showImportantNotification(importantSms, importantPeopleInfo))"
   ]
  },
  {
   "cell_type": "markdown",
   "metadata": {
    "collapsed": true
   },
   "source": [
    "In the `case Email(email, _, _) if importantPeopleInfo.contains(email)`, the pattern is matched only if the `email` is in the list of important people.\n",
    "\n",
    "### Matching on type only\n",
    "\n",
    "You can match on the type like so:"
   ]
  },
  {
   "cell_type": "code",
   "execution_count": 10,
   "metadata": {},
   "outputs": [
    {
     "data": {
      "text/plain": [
       "defined \u001b[32mclass\u001b[39m \u001b[36mDevice\u001b[39m\r\n",
       "defined \u001b[32mclass\u001b[39m \u001b[36mPhone\u001b[39m\r\n",
       "defined \u001b[32mclass\u001b[39m \u001b[36mComputer\u001b[39m\r\n",
       "defined \u001b[32mfunction\u001b[39m \u001b[36mgoIdle\u001b[39m"
      ]
     },
     "execution_count": 10,
     "metadata": {},
     "output_type": "execute_result"
    }
   ],
   "source": [
    "abstract class Device\n",
    "case class Phone(model: String) extends Device{\n",
    "  def screenOff = \"Turning screen off\"\n",
    "}\n",
    "case class Computer(model: String) extends Device {\n",
    "  def screenSaverOn = \"Turning screen saver on...\"\n",
    "}\n",
    "\n",
    "def goIdle(device: Device) = device match {\n",
    "  case p: Phone => p.screenOff\n",
    "  case c: Computer => c.screenSaverOn\n",
    "}"
   ]
  },
  {
   "cell_type": "markdown",
   "metadata": {
    "collapsed": true
   },
   "source": [
    "`def goIdle` has a different behavior depending on the type of `Device`. This is useful when the case needs to call a method on the pattern. It is a convention to use the first letter of the type as the case identifier (`p` and `c` in this case).\n",
    "\n",
    "### Sealed classes\n",
    "\n",
    "Traits and classes can be marked `sealed` which means all subtypes must be declared in the same file. The assures that all subtypes are known."
   ]
  },
  {
   "cell_type": "code",
   "execution_count": 11,
   "metadata": {},
   "outputs": [
    {
     "data": {
      "text/plain": [
       "defined \u001b[32mclass\u001b[39m \u001b[36mFurniture\u001b[39m\r\n",
       "defined \u001b[32mclass\u001b[39m \u001b[36mCouch\u001b[39m\r\n",
       "defined \u001b[32mclass\u001b[39m \u001b[36mChair\u001b[39m\r\n",
       "defined \u001b[32mfunction\u001b[39m \u001b[36mfindPlaceToSit\u001b[39m"
      ]
     },
     "execution_count": 11,
     "metadata": {},
     "output_type": "execute_result"
    }
   ],
   "source": [
    "sealed abstract class Furniture\n",
    "case class Couch() extends Furniture\n",
    "case class Chair() extends Furniture\n",
    "\n",
    "def findPlaceToSit(piece: Furniture): String = piece match {\n",
    "  case a: Couch => \"Lie on the couch\"\n",
    "  case b: Chair => \"Sit on the chair\"\n",
    "}"
   ]
  },
  {
   "cell_type": "markdown",
   "metadata": {
    "collapsed": true
   },
   "source": [
    "This is useful for pattern matching because we don't need a “catch all” case.\n",
    "\n",
    "### Notes\n",
    "\n",
    "Scala's pattern matching statement is most useful for matching on algebraic types expressed via case classes. Scala also allows the definition of patterns independently of [case classes](#Case-Classes), using `unapply` methods in [extractor objects](#Extractor-Objects).\n",
    "\n",
    "\n",
    "## Singleton Objects\n",
    "\n",
    "Methods and values that aren't associated with individual instances of a [class](#Classes) belong in *singleton objects*, denoted by using the keyword `object` instead of `class`."
   ]
  },
  {
   "cell_type": "code",
   "execution_count": 12,
   "metadata": {},
   "outputs": [
    {
     "data": {
      "text/plain": [
       "defined \u001b[32mobject\u001b[39m \u001b[36mBlah\u001b[39m"
      ]
     },
     "execution_count": 12,
     "metadata": {},
     "output_type": "execute_result"
    }
   ],
   "source": [
    "// package test // commented in order to avoid compilation error\n",
    "\n",
    "object Blah {\n",
    "  def sum(l: List[Int]): Int = l.sum\n",
    "}"
   ]
  },
  {
   "cell_type": "markdown",
   "metadata": {
    "collapsed": true
   },
   "source": [
    "This `sum` method is available globally, and can be referred to, or imported, as `test.Blah.sum`.\n",
    "\n",
    "Singleton objects are sort of a shorthand for defining a single-use class, which can't directly be instantiated, and a `val` member at the point of definition of the `object`, with the same name. Indeed, like `val`s, singleton objects can be defined as members of a [trait](#Traits) or class, though this is atypical.\n",
    "\n",
    "A singleton object can extend classes and traits. In fact, a [case class](#Case-Classes) with no [type parameters](#Generic-Classes) will by default create a singleton object of the same name, with a `Function*` trait implemented.\n",
    "\n",
    "### Companions\n",
    "\n",
    "Most singleton objects do not stand alone, but instead are associated with a class of the same name. The “singleton object of the same name” of a case class, mentioned above, is an example of this. When this happens, the singleton object is called the companion object of the class, and the class is called the companion class of the object.\n",
    "\n",
    "[Scaladoc](http://docs.scala-lang.org/style/scaladoc.html) has special support for jumping between a class and its companion: if the big “C” or “O” circle has its edge folded up at the bottom, you can click the circle to jump to the companion.\n",
    "\n",
    "A class and its companion object, if any, must be defined in the same source file. Like this:\n",
    "\n"
   ]
  },
  {
   "cell_type": "code",
   "execution_count": 13,
   "metadata": {},
   "outputs": [
    {
     "data": {
      "text/plain": [
       "defined \u001b[32mclass\u001b[39m \u001b[36mIntPair\u001b[39m\r\n",
       "defined \u001b[32mobject\u001b[39m \u001b[36mIntPair\u001b[39m"
      ]
     },
     "execution_count": 13,
     "metadata": {},
     "output_type": "execute_result"
    }
   ],
   "source": [
    "class IntPair(val x: Int, val y: Int)\n",
    "\n",
    "object IntPair {\n",
    "  import math.Ordering\n",
    "\n",
    "  implicit def ipord: Ordering[IntPair] =\n",
    "    Ordering.by(ip => (ip.x, ip.y))\n",
    "}"
   ]
  },
  {
   "cell_type": "markdown",
   "metadata": {
    "collapsed": true
   },
   "source": [
    "It's common to see typeclass instances as [implicit values](#Implicit-Parameters), such as `ipord above`, defined in the companion, when following the typeclass pattern. This is because the companion's members are included in the default implicit search for related values.\n",
    "\n",
    "### Notes for Java programmers\n",
    "\n",
    "`static` is not a keyword in Scala. Instead, all members that would be static, including classes, should go in a singleton object. They can be referred to with the same syntax, imported piecemeal or as a group, and so on.\n",
    "\n",
    "Frequently, Java programmers define static members, perhaps `private`, as implementation aids for their instance members. These move to the companion, too; a common pattern is to import the companion object's members in the class, like so:\n"
   ]
  },
  {
   "cell_type": "code",
   "execution_count": 14,
   "metadata": {},
   "outputs": [
    {
     "data": {
      "text/plain": [
       "defined \u001b[32mclass\u001b[39m \u001b[36mX\u001b[39m\r\n",
       "defined \u001b[32mobject\u001b[39m \u001b[36mX\u001b[39m"
      ]
     },
     "execution_count": 14,
     "metadata": {},
     "output_type": "execute_result"
    }
   ],
   "source": [
    "class X {\n",
    "  import X._\n",
    "\n",
    "  def blah = foo\n",
    "}\n",
    "\n",
    "object X {\n",
    "  private def foo = 42\n",
    "}"
   ]
  },
  {
   "cell_type": "markdown",
   "metadata": {
    "collapsed": true
   },
   "source": [
    "This illustrates another feature: in the context of `private`, a class and its companion are friends. `object X` can access private members of `class X`, and vice versa. To make a member really private to one or the other, use `private[this]`.\n",
    "\n",
    "For Java convenience, methods, including `var`s and `val`s, defined directly in a singleton object also have a static method defined in the companion class, called a *static forwarder*. Other members are accessible via the `X$.MODULE$` static field for `object X`.\n",
    "\n",
    "If you move everything to a companion object and find that all you have left is a class you don't want to be able to instantiate, simply delete the class. Static forwarders will still be created.\n",
    "\n",
    "\n",
    "## Regular Expression Patterns\n",
    "\n",
    "Regular expressions are strings which can be used to find patterns (or lack thereof) in data. Any string can be converted to a regular expression using the `.r` method."
   ]
  },
  {
   "cell_type": "code",
   "execution_count": 15,
   "metadata": {},
   "outputs": [
    {
     "name": "stdout",
     "output_type": "stream",
     "text": [
      "Password must contain a number\r\n"
     ]
    },
    {
     "data": {
      "text/plain": [
       "\u001b[32mimport \u001b[39m\u001b[36mscala.util.matching.Regex\r\n",
       "\r\n",
       "\u001b[39m\r\n",
       "\u001b[36mnumberPattern\u001b[39m: \u001b[32mutil\u001b[39m.\u001b[32mmatching\u001b[39m.\u001b[32mRegex\u001b[39m = [0-9]"
      ]
     },
     "execution_count": 15,
     "metadata": {},
     "output_type": "execute_result"
    }
   ],
   "source": [
    "import scala.util.matching.Regex\n",
    "\n",
    "val numberPattern: Regex = \"[0-9]\".r\n",
    "\n",
    "numberPattern.findFirstMatchIn(\"awesomepassword\") match {\n",
    "  case Some(_) => println(\"Password OK\")\n",
    "  case None => println(\"Password must contain a number\")\n",
    "}"
   ]
  },
  {
   "cell_type": "markdown",
   "metadata": {
    "collapsed": true
   },
   "source": [
    "In the above example, the `numberPattern` is a `Regex` (regular expression) which we use to make sure a password contains a number.\n",
    "\n",
    "You can also search for groups of regular expressions using parentheses."
   ]
  },
  {
   "cell_type": "code",
   "execution_count": 17,
   "metadata": {},
   "outputs": [
    {
     "data": {
      "text/plain": [
       "\u001b[32mimport \u001b[39m\u001b[36mscala.util.matching.Regex\r\n",
       "\r\n",
       "\u001b[39m\r\n",
       "\u001b[36mkeyValPattern\u001b[39m: \u001b[32mRegex\u001b[39m = ([0-9a-zA-Z-#() ]+): ([0-9a-zA-Z-#() ]+)\r\n",
       "\u001b[36minput\u001b[39m: \u001b[32mString\u001b[39m = \u001b[32m\"\"\"\n",
       "background-color: #A03300;\n",
       "background-image: url(img/header100.png);\n",
       "background-position: top center;\n",
       "background-repeat: repeat-x;\n",
       "background-size: 2160px 108px;\n",
       "margin: 0;\n",
       "height: 108px;\n",
       "width: 100%;\n",
       "\"\"\"\u001b[39m"
      ]
     },
     "execution_count": 17,
     "metadata": {},
     "output_type": "execute_result"
    }
   ],
   "source": [
    "import scala.util.matching.Regex\n",
    "\n",
    "val keyValPattern: Regex = \"([0-9a-zA-Z-#() ]+): ([0-9a-zA-Z-#() ]+)\".r\n",
    "\n",
    "val input: String =\n",
    "  \"\"\"background-color: #A03300;\n",
    "    |background-image: url(img/header100.png);\n",
    "    |background-position: top center;\n",
    "    |background-repeat: repeat-x;\n",
    "    |background-size: 2160px 108px;\n",
    "    |margin: 0;\n",
    "    |height: 108px;\n",
    "    |width: 100%;\"\"\".stripMargin"
   ]
  },
  {
   "cell_type": "markdown",
   "metadata": {},
   "source": [
    "Here we parse out the keys and values of a String. Each match has a group of sub-matches:"
   ]
  },
  {
   "cell_type": "code",
   "execution_count": 18,
   "metadata": {},
   "outputs": [
    {
     "name": "stdout",
     "output_type": "stream",
     "text": [
      "key: background-color value: #A03300\n",
      "key: background-image value: url(img\n",
      "key: background-position value: top center\n",
      "key: background-repeat value: repeat-x\n",
      "key: background-size value: 2160px 108px\n",
      "key: margin value: 0\n",
      "key: height value: 108px\n",
      "key: width value: 100\n"
     ]
    }
   ],
   "source": [
    "for (patternMatch <- keyValPattern.findAllMatchIn(input))\n",
    "  println(s\"key: ${patternMatch.group(1)} value: ${patternMatch.group(2)}\")"
   ]
  },
  {
   "cell_type": "markdown",
   "metadata": {
    "collapsed": true
   },
   "source": [
    "## Extractor Objects\n",
    "\n",
    "An extractor object is an object with an `unapply` method. Whereas the `apply` method is like a constructor which takes arguments and creates an object, the `unapply` takes an object and tries to give back the arguments. This is most often used in pattern matching and partial functions."
   ]
  },
  {
   "cell_type": "code",
   "execution_count": 19,
   "metadata": {},
   "outputs": [
    {
     "name": "stdout",
     "output_type": "stream",
     "text": [
      "Sukyoung\r\n"
     ]
    },
    {
     "data": {
      "text/plain": [
       "\u001b[32mimport \u001b[39m\u001b[36mscala.util.Random\r\n",
       "\r\n",
       "\u001b[39m\r\n",
       "defined \u001b[32mobject\u001b[39m \u001b[36mCustomerID\u001b[39m\r\n",
       "\u001b[36mcustomer1ID\u001b[39m: \u001b[32mString\u001b[39m = \u001b[32m\"Sukyoung---5739302178689062359\"\u001b[39m"
      ]
     },
     "execution_count": 19,
     "metadata": {},
     "output_type": "execute_result"
    }
   ],
   "source": [
    "import scala.util.Random\n",
    "\n",
    "object CustomerID {\n",
    "\n",
    "  def apply(name: String) = s\"$name--${Random.nextLong}\"\n",
    "\n",
    "  def unapply(customerID: String): Option[String] = {\n",
    "    val name = customerID.split(\"--\").head\n",
    "    if (name.nonEmpty) Some(name) else None\n",
    "  }\n",
    "}\n",
    "\n",
    "val customer1ID = CustomerID(\"Sukyoung\")  // Sukyoung--23098234908\n",
    "customer1ID match {\n",
    "  case CustomerID(name) => println(name)  // prints Sukyoung\n",
    "  case _ => println(\"Could not extract a CustomerID\")\n",
    "}"
   ]
  },
  {
   "cell_type": "markdown",
   "metadata": {
    "collapsed": true
   },
   "source": [
    "The `apply` method creates a `CustomerID` string from a `name`. The `unapply` does the inverse to get the `name` back. When we call `CustomerID(\"Sukyoung\")`, this is shorthand syntax for calling `CustomerID.apply(\"Sukyoung\")`. When we call `case CustomerID(name) => customer1ID`, we're calling the unapply method.\n",
    "\n",
    "The unapply method can also be used to assign a value."
   ]
  },
  {
   "cell_type": "code",
   "execution_count": 20,
   "metadata": {},
   "outputs": [
    {
     "name": "stdout",
     "output_type": "stream",
     "text": [
      "Nico\n"
     ]
    },
    {
     "data": {
      "text/plain": [
       "\u001b[36mcustomer2ID\u001b[39m: \u001b[32mString\u001b[39m = \u001b[32m\"Nico---2414198772838249110\"\u001b[39m\r\n",
       "\u001b[36mname\u001b[39m: \u001b[32mString\u001b[39m = \u001b[32m\"Nico\"\u001b[39m"
      ]
     },
     "execution_count": 20,
     "metadata": {},
     "output_type": "execute_result"
    }
   ],
   "source": [
    "val customer2ID = CustomerID(\"Nico\")\n",
    "val CustomerID(name) = customer2ID\n",
    "println(name)  // prints Nico"
   ]
  },
  {
   "cell_type": "markdown",
   "metadata": {},
   "source": [
    "This is equivalent to `val name = CustomerID.unapply(customer2ID).get`. If there is no match, a `scala.MatchError` is thrown:\n",
    "\n",
    "    `val CustomerID(name2) = \"--asdfasdfasdf\"`\n",
    "\n",
    "The return type of an `unapply` should be chosen as follows:\n",
    "- If it is just a test, return a `Boolean`. For instance `case even()`\n",
    "- If it returns a single sub-value of type T, return an `Option[T]`\n",
    "- If you want to return several sub-values `T1,...,Tn`, group them in an optional tuple `Option[(T1,...,Tn)]`.\n",
    "\n",
    "Sometimes, the number of sub-values isn't fixed and we would like to return a sequence. For this reason, you can also define patterns through `unapplySeq` which returns `Option[Seq[T]]` This mechanism is used for instance in pattern `case List(x1, ..., xn)`.\n",
    "\n",
    "\n",
    "## For Comprehensions\n",
    "\n",
    "Scala offers a lightweight notation for expressing sequence comprehensions. Comprehensions have the form `for (enumerators) yield e`, where `enumerators` refers to a semicolon-separated list of enumerators. An enumerator is either a generator which introduces new variables, or it is a filter. A comprehension evaluates the body `e` for each binding generated by the enumerators and returns a sequence of these values.\n",
    "\n",
    "Here's an example:"
   ]
  },
  {
   "cell_type": "code",
   "execution_count": 21,
   "metadata": {},
   "outputs": [
    {
     "name": "stdout",
     "output_type": "stream",
     "text": [
      "Travis\n",
      "Dennis\n"
     ]
    },
    {
     "data": {
      "text/plain": [
       "defined \u001b[32mclass\u001b[39m \u001b[36mUser\u001b[39m\r\n",
       "\u001b[36muserBase\u001b[39m: \u001b[32mList\u001b[39m[\u001b[32mUser\u001b[39m] = \u001b[33mList\u001b[39m(\n",
       "  \u001b[33mUser\u001b[39m(\u001b[32m\"Travis\"\u001b[39m, \u001b[32m28\u001b[39m),\n",
       "  \u001b[33mUser\u001b[39m(\u001b[32m\"Kelly\"\u001b[39m, \u001b[32m33\u001b[39m),\n",
       "  \u001b[33mUser\u001b[39m(\u001b[32m\"Jennifer\"\u001b[39m, \u001b[32m44\u001b[39m),\n",
       "  \u001b[33mUser\u001b[39m(\u001b[32m\"Dennis\"\u001b[39m, \u001b[32m23\u001b[39m)\n",
       ")\r\n",
       "\u001b[36mtwentySomethings\u001b[39m: \u001b[32mList\u001b[39m[\u001b[32mString\u001b[39m] = \u001b[33mList\u001b[39m(\u001b[32m\"Travis\"\u001b[39m, \u001b[32m\"Dennis\"\u001b[39m)"
      ]
     },
     "execution_count": 21,
     "metadata": {},
     "output_type": "execute_result"
    }
   ],
   "source": [
    "case class User(val name: String, val age: Int)\n",
    "\n",
    "val userBase = List(new User(\"Travis\", 28),\n",
    "  new User(\"Kelly\", 33),\n",
    "  new User(\"Jennifer\", 44),\n",
    "  new User(\"Dennis\", 23))\n",
    "\n",
    "val twentySomethings = for (user <- userBase if (user.age >=20 && user.age < 30))\n",
    "  yield user.name  // i.e. add this to a list\n",
    "\n",
    "twentySomethings.foreach(name => println(name))  // prints Travis Dennis"
   ]
  },
  {
   "cell_type": "markdown",
   "metadata": {},
   "source": [
    "The for `loop` used with a `yield` statement actually creates a `List`. Because we said `yield user.name`, it's a `List[String]`. `user <- userBase` is our generator and `if (user.age >=20 && user.age < 30)` is a guard that filters out users who are in their 20s.\n",
    "\n",
    "Here is a more complicated example using two generators. It computes all pairs of numbers between `0` and `n-1` whose sum is equal to a given value `v`:"
   ]
  },
  {
   "cell_type": "code",
   "execution_count": 22,
   "metadata": {},
   "outputs": [
    {
     "name": "stdout",
     "output_type": "stream",
     "text": [
      "(1, 9) (2, 8) (3, 7) (4, 6) (5, 5) "
     ]
    },
    {
     "data": {
      "text/plain": [
       "defined \u001b[32mfunction\u001b[39m \u001b[36mfoo\u001b[39m"
      ]
     },
     "execution_count": 22,
     "metadata": {},
     "output_type": "execute_result"
    }
   ],
   "source": [
    "def foo(n: Int, v: Int) =\n",
    "   for (i <- 0 until n;\n",
    "        j <- i until n if i + j == v)\n",
    "   yield (i, j)\n",
    "\n",
    "foo(10, 10) foreach {\n",
    "  case (i, j) =>\n",
    "    print(s\"($i, $j) \")  // prints (1, 9) (2, 8) (3, 7) (4, 6) (5, 5)\n",
    "}"
   ]
  },
  {
   "cell_type": "markdown",
   "metadata": {},
   "source": [
    "Here `n == 10` and `v == 10`. On the first iteration, `i == 0` and `j == 0` so `i + j != v` and therefore nothing is yielded. `j` gets incremented 9 more times before `i` gets incremented to `1`. Without the `if` guard, this would simply print the following:\n",
    "```\n",
    "(0, 0) (0, 1) (0, 2) (0, 3) (0, 4) (0, 5) (0, 6) (0, 7) (0, 8) (0, 9) (1, 1) ...\n",
    "```\n",
    "\n",
    "\n",
    "## Sequence Comprehensions\n",
    "\n",
    "Scala offers a lightweight notation for expressing sequence comprehensions. Comprehensions have the `form for (enumerators) yield e`, where `enumerators` refers to a semicolon-separated list of enumerators. An enumerator is either a generator which introduces new variables, or it is a filter. A comprehension evaluates the body `e` for each binding generated by the enumerators and returns a sequence of these values.\n",
    "\n",
    "Here is an example:"
   ]
  },
  {
   "cell_type": "code",
   "execution_count": 37,
   "metadata": {},
   "outputs": [
    {
     "data": {
      "text/plain": [
       "defined \u001b[32mobject\u001b[39m \u001b[36mComprehensionTest1\u001b[39m"
      ]
     },
     "execution_count": 37,
     "metadata": {},
     "output_type": "execute_result"
    }
   ],
   "source": [
    "object ComprehensionTest1 extends App {\n",
    "  def even(from: Int, to: Int): List[Int] =\n",
    "    for (i <- List.range(from, to) if i % 2 == 0) yield i\n",
    "}"
   ]
  },
  {
   "cell_type": "markdown",
   "metadata": {},
   "source": [
    "The for-expression in function introduces a new variable `i` of type `Int` which is subsequently bound to all values of the list `List(from, from + 1, ..., to - 1)`. The guard `if i % 2 == 0` filters out all odd numbers so that the body (which only consists of the expression i) is only evaluated for even numbers. Consequently, the whole for-expression returns a list of even numbers.\n",
    "\n",
    "The program yields the following output:"
   ]
  },
  {
   "cell_type": "code",
   "execution_count": 38,
   "metadata": {},
   "outputs": [
    {
     "data": {
      "text/plain": [
       "\u001b[36mres37\u001b[39m: \u001b[32mList\u001b[39m[\u001b[32mInt\u001b[39m] = \u001b[33mList\u001b[39m(\u001b[32m0\u001b[39m, \u001b[32m2\u001b[39m, \u001b[32m4\u001b[39m, \u001b[32m6\u001b[39m, \u001b[32m8\u001b[39m, \u001b[32m10\u001b[39m, \u001b[32m12\u001b[39m, \u001b[32m14\u001b[39m, \u001b[32m16\u001b[39m, \u001b[32m18\u001b[39m)"
      ]
     },
     "execution_count": 38,
     "metadata": {},
     "output_type": "execute_result"
    }
   ],
   "source": [
    "ComprehensionTest1.even(0, 20)"
   ]
  },
  {
   "cell_type": "markdown",
   "metadata": {},
   "source": [
    "Here is a more complicated example which computes all pairs of numbers between `0` and `n-1` whose sum is equal to a given value `v`:"
   ]
  },
  {
   "cell_type": "code",
   "execution_count": 36,
   "metadata": {},
   "outputs": [
    {
     "data": {
      "text/plain": [
       "defined \u001b[32mobject\u001b[39m \u001b[36mComprehensionTest2\u001b[39m"
      ]
     },
     "execution_count": 36,
     "metadata": {},
     "output_type": "execute_result"
    }
   ],
   "source": [
    "object ComprehensionTest2 extends App {\n",
    "  def foo(n: Int, v: Int) =\n",
    "    for (i <- 0 until n;\n",
    "         j <- i until n if i + j == v) yield\n",
    "      (i, j);\n",
    "}"
   ]
  },
  {
   "cell_type": "markdown",
   "metadata": {},
   "source": [
    "This example shows that comprehensions are not restricted to lists. The previous program uses iterators instead. Every datatype that supports the operations `withFilter`, `map`, and `flatMap` (with the proper types) can be used in sequence comprehensions.\n",
    "\n",
    "Here's the output of the program:"
   ]
  },
  {
   "cell_type": "code",
   "execution_count": 35,
   "metadata": {},
   "outputs": [
    {
     "data": {
      "text/plain": [
       "\u001b[36mres34\u001b[39m: \u001b[32mcollection\u001b[39m.\u001b[32mimmutable\u001b[39m.\u001b[32mIndexedSeq\u001b[39m[(\u001b[32mInt\u001b[39m, \u001b[32mInt\u001b[39m)] = \u001b[33mVector\u001b[39m((\u001b[32m13\u001b[39m, \u001b[32m19\u001b[39m), (\u001b[32m14\u001b[39m, \u001b[32m18\u001b[39m), (\u001b[32m15\u001b[39m, \u001b[32m17\u001b[39m), (\u001b[32m16\u001b[39m, \u001b[32m16\u001b[39m))"
      ]
     },
     "execution_count": 35,
     "metadata": {},
     "output_type": "execute_result"
    }
   ],
   "source": [
    "ComprehensionTest2.foo(20, 32)"
   ]
  },
  {
   "cell_type": "markdown",
   "metadata": {},
   "source": [
    "There is also a special form of sequence comprehension which returns `Unit`. Here the bindings that are created from the list of generators and filters are used to perform side-effects. The programmer has to omit the keyword `yield` to make use of such a sequence comprehension. Here's a program which is equivalent to the previous one but uses the special for comprehension returning `Unit`:"
   ]
  },
  {
   "cell_type": "code",
   "execution_count": 39,
   "metadata": {},
   "outputs": [
    {
     "data": {
      "text/plain": [
       "defined \u001b[32mobject\u001b[39m \u001b[36mComprehensionTest3\u001b[39m"
      ]
     },
     "execution_count": 39,
     "metadata": {},
     "output_type": "execute_result"
    }
   ],
   "source": [
    "object ComprehensionTest3 extends App {\n",
    "  for (i <- Iterator.range(0, 20);\n",
    "       j <- Iterator.range(i, 20) if i + j == 32)\n",
    "    println(s\"($i, $j)\")\n",
    "}"
   ]
  },
  {
   "cell_type": "markdown",
   "metadata": {},
   "source": [
    "## Generic Classes\n",
    "\n",
    "Generic classes are classes which take a type as a parameter. They are particularly useful for collection classes.\n",
    "\n",
    "### Defining a generic class\n",
    "\n",
    "Generic classes take a type as a parameter within square brackets `[]`. One convention is to use the letter `A` as type parameter identifier, though any parameter name may be used."
   ]
  },
  {
   "cell_type": "code",
   "execution_count": 41,
   "metadata": {},
   "outputs": [
    {
     "data": {
      "text/plain": [
       "defined \u001b[32mclass\u001b[39m \u001b[36mStack\u001b[39m"
      ]
     },
     "execution_count": 41,
     "metadata": {},
     "output_type": "execute_result"
    }
   ],
   "source": [
    "class Stack[A] {\n",
    "  private var elements: List[A] = Nil\n",
    "  def push(x: A) { elements = x :: elements }\n",
    "  def peek: A = elements.head\n",
    "  def pop(): A = {\n",
    "    val currentTop = peek\n",
    "    elements = elements.tail\n",
    "    currentTop\n",
    "  }\n",
    "}"
   ]
  },
  {
   "cell_type": "markdown",
   "metadata": {},
   "source": [
    "This implementation of a `Stack` class takes any type `A` as a parameter. This means the underlying list, `var elements: List[A] = Nil`, can only store elements of type `A`. The procedure `def push` only accepts objects of type `A` (note: `elements = x :: elements` reassigns `elements` to a new list created by prepending `x` to the current `elements`).\n",
    "\n",
    "### Usage\n",
    "\n",
    "To use a generic class, put the type in the square brackets in place of `A`."
   ]
  },
  {
   "cell_type": "code",
   "execution_count": 42,
   "metadata": {},
   "outputs": [
    {
     "name": "stdout",
     "output_type": "stream",
     "text": [
      "2\r\n",
      "1\r\n"
     ]
    },
    {
     "data": {
      "text/plain": [
       "\u001b[36mstack\u001b[39m: \u001b[32mStack\u001b[39m[\u001b[32mInt\u001b[39m] = $sess.cmd40Wrapper$Helper$Stack@4b48e38a"
      ]
     },
     "execution_count": 42,
     "metadata": {},
     "output_type": "execute_result"
    }
   ],
   "source": [
    "val stack = new Stack[Int]\n",
    "stack.push(1)\n",
    "stack.push(2)\n",
    "println(stack.pop)  // prints 2\n",
    "println(stack.pop)  // prints 1"
   ]
  },
  {
   "cell_type": "markdown",
   "metadata": {},
   "source": [
    "The instance `stack` can only take Ints. However, if the type argument had subtypes, those could be passed in:"
   ]
  },
  {
   "cell_type": "code",
   "execution_count": 43,
   "metadata": {
    "scrolled": true
   },
   "outputs": [
    {
     "data": {
      "text/plain": [
       "defined \u001b[32mclass\u001b[39m \u001b[36mFruit\u001b[39m\r\n",
       "defined \u001b[32mclass\u001b[39m \u001b[36mApple\u001b[39m\r\n",
       "defined \u001b[32mclass\u001b[39m \u001b[36mBanana\u001b[39m\r\n",
       "\u001b[36mstack\u001b[39m: \u001b[32mStack\u001b[39m[\u001b[32mFruit\u001b[39m] = $sess.cmd40Wrapper$Helper$Stack@4459bef7\r\n",
       "\u001b[36mapple\u001b[39m: \u001b[32mApple\u001b[39m = $sess.cmd42Wrapper$Helper$Apple@269849b9\r\n",
       "\u001b[36mbanana\u001b[39m: \u001b[32mBanana\u001b[39m = $sess.cmd42Wrapper$Helper$Banana@5fb74e66"
      ]
     },
     "execution_count": 43,
     "metadata": {},
     "output_type": "execute_result"
    }
   ],
   "source": [
    "class Fruit\n",
    "class Apple extends Fruit\n",
    "class Banana extends Fruit\n",
    "\n",
    "val stack = new Stack[Fruit]\n",
    "val apple = new Apple\n",
    "val banana = new Banana\n",
    "\n",
    "stack.push(apple)\n",
    "stack.push(banana)"
   ]
  },
  {
   "cell_type": "markdown",
   "metadata": {},
   "source": [
    "Class `Apple` and `Banana` both extend `Fruit` so we can push instances `apple` and `banana` onto the stack of `Fruit`.\n",
    "\n",
    "*Note: subtyping of generic types is \\*invariant\\*. This means that if we have a stack of characters of type `Stack[Char]` then it cannot be used as an integer stack of type `Stack[Int]`. This would be unsound because it would enable us to enter true integers into the character stack. To conclude, `Stack[A]` is only a subtype of `Stack[B]` if and only if `B = A`. Since this can be quite restrictive, Scala offers a [type parameter annotation mechanism](#Variances) to control the subtyping behavior of generic types.*\n",
    "\n",
    "\n",
    "## Variances\n",
    "\n",
    "Variance is the correlation of subtyping relationships of complex types and the subtyping relationships of their component types. Scala supports variance annotations of type parameters of [generic classes](#Generic-Classes), to allow them to be covariant, contravariant, or invariant if no annotations are used. The use of variance in the type system allows us to make intuitive connections between complex types, whereas the lack of variance can restrict the reuse of a class abstraction."
   ]
  },
  {
   "cell_type": "code",
   "execution_count": 44,
   "metadata": {},
   "outputs": [
    {
     "data": {
      "text/plain": [
       "defined \u001b[32mclass\u001b[39m \u001b[36mFoo\u001b[39m\r\n",
       "defined \u001b[32mclass\u001b[39m \u001b[36mBar\u001b[39m\r\n",
       "defined \u001b[32mclass\u001b[39m \u001b[36mBaz\u001b[39m"
      ]
     },
     "execution_count": 44,
     "metadata": {},
     "output_type": "execute_result"
    }
   ],
   "source": [
    "class Foo[+A] // A covariant class\n",
    "class Bar[-A] // A contravariant class\n",
    "class Baz[A]  // An invariant class"
   ]
  },
  {
   "cell_type": "markdown",
   "metadata": {},
   "source": [
    "### Covariance\n",
    "\n",
    "A type parameter `A` of a generic class can be made covariant by using the annotation `+A`. For some class `List[+A]`, making `A` covariant implies that for two types `A` and `B` where `A` is a subtype of `B`, then `List[A]` is a subtype of `List[B]`. This allows us to make very useful and intuitive subtyping relationships using generics.\n",
    "\n",
    "Consider this simple class structure:"
   ]
  },
  {
   "cell_type": "code",
   "execution_count": 45,
   "metadata": {},
   "outputs": [
    {
     "data": {
      "text/plain": [
       "defined \u001b[32mclass\u001b[39m \u001b[36mAnimal\u001b[39m\r\n",
       "defined \u001b[32mclass\u001b[39m \u001b[36mCat\u001b[39m\r\n",
       "defined \u001b[32mclass\u001b[39m \u001b[36mDog\u001b[39m"
      ]
     },
     "execution_count": 45,
     "metadata": {},
     "output_type": "execute_result"
    }
   ],
   "source": [
    "abstract class Animal {\n",
    "  def name: String\n",
    "}\n",
    "case class Cat(name: String) extends Animal\n",
    "case class Dog(name: String) extends Animal"
   ]
  },
  {
   "cell_type": "markdown",
   "metadata": {},
   "source": [
    "Both `Cat` and `Dog` are subtypes of `Animal`. The Scala standard library has a generic immutable `sealed abstract class List[+A]` class, where the type parameter `A` is covariant. This means that a `List[Cat]` is a `List[Animal]` and a `List[Dog]` is also a `List[Animal]`. Intuitively, it makes sense that a list of cats and a list of dogs are each lists of animals, and you should be able to substitute either of them for a `List[Animal]`.\n",
    "\n",
    "In the following example, the method `printAnimalNames` will accept a list of animals as an argument and print their names each on a new line. If `List[A]` were not covariant, the last two method calls would not compile, which would severely limit the usefulness of the `printAnimalNames` method."
   ]
  },
  {
   "cell_type": "code",
   "execution_count": 46,
   "metadata": {},
   "outputs": [
    {
     "data": {
      "text/plain": [
       "defined \u001b[32mobject\u001b[39m \u001b[36mCovarianceTest\u001b[39m"
      ]
     },
     "execution_count": 46,
     "metadata": {},
     "output_type": "execute_result"
    }
   ],
   "source": [
    "object CovarianceTest extends App {\n",
    "  def printAnimalNames(animals: List[Animal]): Unit = {\n",
    "    animals.foreach { animal =>\n",
    "      println(animal.name)\n",
    "    }\n",
    "  }\n",
    "\n",
    "  val cats: List[Cat] = List(Cat(\"Whiskers\"), Cat(\"Tom\"))\n",
    "  val dogs: List[Dog] = List(Dog(\"Fido\"), Dog(\"Rex\"))\n",
    "\n",
    "  printAnimalNames(cats)\n",
    "  // Whiskers\n",
    "  // Tom\n",
    "\n",
    "  printAnimalNames(dogs)\n",
    "  // Fido\n",
    "  // Rex\n",
    "}"
   ]
  },
  {
   "cell_type": "markdown",
   "metadata": {},
   "source": [
    "### Contravariance\n",
    "\n",
    "A type parameter `A` of a generic class can be made contravariant by using the annotation `-A`. This creates a subtyping relationship between the class and its type parameter that is similar, but opposite to what we get with covariance. That is, for some `class Writer[-A]`, making `A` contravariant implies that for two types `A` and `B` where `A` is a subtype of `B`, `Writer[B]` is a subtype of `Writer[A]`.\n",
    "\n",
    "Consider the `Cat`, `Dog`, and `Animal` classes defined above for the following example:"
   ]
  },
  {
   "cell_type": "code",
   "execution_count": 47,
   "metadata": {},
   "outputs": [
    {
     "data": {
      "text/plain": [
       "defined \u001b[32mclass\u001b[39m \u001b[36mPrinter\u001b[39m"
      ]
     },
     "execution_count": 47,
     "metadata": {},
     "output_type": "execute_result"
    }
   ],
   "source": [
    "abstract class Printer[-A] {\n",
    "  def print(value: A): Unit\n",
    "}"
   ]
  },
  {
   "cell_type": "markdown",
   "metadata": {},
   "source": [
    "A `Printer[A]` is a simple class that knows how to print out some type `A`. Let's define some subclasses for specific types:"
   ]
  },
  {
   "cell_type": "code",
   "execution_count": 48,
   "metadata": {},
   "outputs": [
    {
     "data": {
      "text/plain": [
       "defined \u001b[32mclass\u001b[39m \u001b[36mAnimalPrinter\u001b[39m\r\n",
       "defined \u001b[32mclass\u001b[39m \u001b[36mCatPrinter\u001b[39m"
      ]
     },
     "execution_count": 48,
     "metadata": {},
     "output_type": "execute_result"
    }
   ],
   "source": [
    "class AnimalPrinter extends Printer[Animal] {\n",
    "  def print(animal: Animal): Unit =\n",
    "    println(\"The animal's name is: \" + animal.name)\n",
    "}\n",
    "\n",
    "class CatPrinter extends Printer[Cat] {\n",
    "  def print(cat: Cat): Unit =\n",
    "    println(\"The cat's name is: \" + cat.name)\n",
    "}"
   ]
  },
  {
   "cell_type": "markdown",
   "metadata": {},
   "source": [
    "If a `Printer[Cat]` knows how to print any `Cat` to the console, and a `Printer[Animal]` knows how to print any `Animal` to the console, it makes sense that a `Printer[Animal]` would also know how to print any `Cat`. The inverse relationship does not apply, because a `Printer[Cat]` does not know how to print any `Animal` to the console. Therefore, we should be able to substitute a `Printer[Animal]` for a `Printer[Cat]`, if we wish, and making `Printer[A]` contravariant allows us to do exactly that."
   ]
  },
  {
   "cell_type": "code",
   "execution_count": 49,
   "metadata": {},
   "outputs": [
    {
     "data": {
      "text/plain": [
       "defined \u001b[32mobject\u001b[39m \u001b[36mContravarianceTest\u001b[39m"
      ]
     },
     "execution_count": 49,
     "metadata": {},
     "output_type": "execute_result"
    }
   ],
   "source": [
    "object ContravarianceTest extends App {\n",
    "  val myCat: Cat = Cat(\"Boots\")\n",
    "\n",
    "  def printMyCat(printer: Printer[Cat]): Unit = {\n",
    "    printer.print(myCat)\n",
    "  }\n",
    "\n",
    "  val catPrinter: Printer[Cat] = new CatPrinter\n",
    "  val animalPrinter: Printer[Animal] = new AnimalPrinter\n",
    "\n",
    "  printMyCat(catPrinter)\n",
    "  printMyCat(animalPrinter)\n",
    "}"
   ]
  },
  {
   "cell_type": "markdown",
   "metadata": {},
   "source": [
    "The output of this program will be:\n",
    "```\n",
    "The cat's name is: Boots\n",
    "The animal's name is: Boots\n",
    "```\n",
    "\n",
    "### Invariance\n",
    "\n",
    "Generic classes in Scala are invariant by default. This means that they are neither covariant nor contravariant. In the context of the following example, `Container` class is invariant. A `Container[Cat]` is not a `Container[Animal]`, nor is the reverse true."
   ]
  },
  {
   "cell_type": "code",
   "execution_count": 50,
   "metadata": {},
   "outputs": [
    {
     "data": {
      "text/plain": [
       "defined \u001b[32mclass\u001b[39m \u001b[36mContainer\u001b[39m"
      ]
     },
     "execution_count": 50,
     "metadata": {},
     "output_type": "execute_result"
    }
   ],
   "source": [
    "class Container[A](value: A) {\n",
    "  private var _value: A = value\n",
    "  def getValue: A = _value\n",
    "  def setValue(value: A): Unit = {\n",
    "    _value = value\n",
    "  }\n",
    "}"
   ]
  },
  {
   "cell_type": "markdown",
   "metadata": {},
   "source": [
    "It may seem like a `Container[Cat]` should naturally also be a `Container[Animal]`, but allowing a mutable generic class to be covariant would not be safe. In this example, it is very important that `Container` is invariant. Supposing `Container` was actually covariant, something like this could happen:"
   ]
  },
  {
   "cell_type": "code",
   "execution_count": 52,
   "metadata": {},
   "outputs": [
    {
     "data": {
      "text/plain": [
       "\u001b[36mcatContainer\u001b[39m: \u001b[32mContainer\u001b[39m[\u001b[32mCat\u001b[39m] = $sess.cmd49Wrapper$Helper$Container@7cf9bf4d"
      ]
     },
     "execution_count": 52,
     "metadata": {},
     "output_type": "execute_result"
    }
   ],
   "source": [
    "val catContainer: Container[Cat] = new Container(Cat(\"Felix\"))"
   ]
  },
  {
   "cell_type": "code",
   "execution_count": 52,
   "metadata": {
    "scrolled": true
   },
   "outputs": [
    {
     "name": "stderr",
     "output_type": "stream",
     "text": [
      "cmd52.sc:1: type mismatch;\n",
      " found   : cmd52Wrapper.this.cmd51.cmd49.wrapper.Container[cmd52Wrapper.this.cmd51.cmd44.wrapper.Cat]\n",
      " required: cmd52Wrapper.this.cmd49.wrapper.Container[cmd52Wrapper.this.cmd44.wrapper.Animal]\n",
      "Note: cmd52Wrapper.this.cmd51.cmd44.wrapper.Cat <: cmd52Wrapper.this.cmd44.wrapper.Animal, but class Container is invariant in type A.\n",
      "You may wish to define A as +A instead. (SLS 4.5)\r\n",
      "val animalContainer: Container[Animal] = catContainer // ERROR: type mismatch\r\n",
      "                                         ^"
     ]
    },
    {
     "ename": "",
     "evalue": "",
     "output_type": "error",
     "traceback": [
      "Compilation Failed"
     ]
    }
   ],
   "source": [
    "val animalContainer: Container[Animal] = catContainer // ERROR: type mismatch\n",
    "animalContainer.setValue(Dog(\"Spot\"))\n",
    "val cat: Cat = catContainer.getValue // Oops, we'd end up with a Dog assigned to a Cat"
   ]
  },
  {
   "cell_type": "markdown",
   "metadata": {},
   "source": [
    "Fortunately, the compiler stops us long before we could get this far.\n",
    "\n",
    "### Other Examples\n",
    "\n",
    "Another example that can help one understand variance is `trait Function1[-T, +R]` from the Scala standard library. `Function1` represents a function with one argument, where the first type parameter `T` represents the argument type, and the second type parameter `R` represents the return type. A `Function1` is contravariant over its argument type, and covariant over its return type. For this example we'll use the literal notation `A => B` to represent a `Function1[A, B]`.\n",
    "\n",
    "Assume the similar `Cat`, `Dog`, `Animal` inheritance tree used earlier, plus the following:"
   ]
  },
  {
   "cell_type": "code",
   "execution_count": 53,
   "metadata": {},
   "outputs": [
    {
     "data": {
      "text/plain": [
       "defined \u001b[32mclass\u001b[39m \u001b[36mSmallAnimal\u001b[39m\r\n",
       "defined \u001b[32mclass\u001b[39m \u001b[36mMouse\u001b[39m"
      ]
     },
     "execution_count": 53,
     "metadata": {},
     "output_type": "execute_result"
    }
   ],
   "source": [
    "class SmallAnimal\n",
    "class Mouse extends SmallAnimal"
   ]
  },
  {
   "cell_type": "markdown",
   "metadata": {},
   "source": [
    "Suppose we're working with functions that accept types of animals, and return the types of food they eat. If we would like a `Cat => SmallAnimal` (because cats eat small animals), but are given a `Animal => Mouse` instead, our program will still work. Intuitively an `Animal => Mouse` will still accept a Cat as an argument, because a `Cat` is an `Animal`, and it returns a `Mouse`, which is also an `SmallAnimal`. Since we can safely and invisibly substitute the former for the latter, we can say `Animal => Mouse` is a subtype of `Cat => SmallAnimal`.\n",
    "\n",
    "\n",
    "### Comparison With Other Languages\n",
    "\n",
    "Variance is supported in different ways by some languages that are similar to Scala. For example, variance annotations in Scala closely resemble those in C#, where the annotations are added when a class abstraction is defined (declaration-site variance). In Java, however, variance annotations are given by clients when a class abstraction is used (use-site variance).\n",
    "\n",
    "\n",
    "## Upper Type Bounds\n",
    "\n",
    "In Scala, [type parameters](#Generic-Classes) and [abstract types](#Abstract-Types) may be constrained by a type bound. Such type bounds limit the concrete values of the type variables and possibly reveal more information about the members of such types. An upper type bound `T <: A` declares that type variable `T` refers to a subtype of type `A`. Here is an example that demonstrates upper type bound for a type parameter of class `Cage`:"
   ]
  },
  {
   "cell_type": "code",
   "execution_count": 54,
   "metadata": {},
   "outputs": [
    {
     "data": {
      "text/plain": [
       "defined \u001b[32mclass\u001b[39m \u001b[36mAnimal\u001b[39m\r\n",
       "defined \u001b[32mclass\u001b[39m \u001b[36mPet\u001b[39m\r\n",
       "defined \u001b[32mclass\u001b[39m \u001b[36mCat\u001b[39m\r\n",
       "defined \u001b[32mclass\u001b[39m \u001b[36mDog\u001b[39m\r\n",
       "defined \u001b[32mclass\u001b[39m \u001b[36mLion\u001b[39m\r\n",
       "defined \u001b[32mclass\u001b[39m \u001b[36mPetContainer\u001b[39m\r\n",
       "\u001b[36mdogContainer\u001b[39m: \u001b[32mPetContainer\u001b[39m[\u001b[32mwrapper\u001b[39m.\u001b[32mwrapper\u001b[39m.\u001b[32mDog\u001b[39m] = $sess.cmd53Wrapper$Helper$PetContainer@288ff218\r\n",
       "\u001b[36mcatContainer\u001b[39m: \u001b[32mPetContainer\u001b[39m[\u001b[32mwrapper\u001b[39m.\u001b[32mwrapper\u001b[39m.\u001b[32mCat\u001b[39m] = $sess.cmd53Wrapper$Helper$PetContainer@5e6f5d0d"
      ]
     },
     "execution_count": 54,
     "metadata": {},
     "output_type": "execute_result"
    }
   ],
   "source": [
    "abstract class Animal {\n",
    " def name: String\n",
    "}\n",
    "\n",
    "abstract class Pet extends Animal {}\n",
    "\n",
    "class Cat extends Pet {\n",
    "  override def name: String = \"Cat\"\n",
    "}\n",
    "\n",
    "class Dog extends Pet {\n",
    "  override def name: String = \"Dog\"\n",
    "}\n",
    "\n",
    "class Lion extends Animal {\n",
    "  override def name: String = \"Lion\"\n",
    "}\n",
    "\n",
    "class PetContainer[P <: Pet](p: P) {\n",
    "  def pet: P = p\n",
    "}\n",
    "\n",
    "val dogContainer = new PetContainer[Dog](new Dog)\n",
    "val catContainer = new PetContainer[Cat](new Cat)"
   ]
  },
  {
   "cell_type": "code",
   "execution_count": 54,
   "metadata": {},
   "outputs": [
    {
     "name": "stderr",
     "output_type": "stream",
     "text": [
      "cmd54.sc:320: type arguments [$sess.cmd54.wrapper.cmd53.wrapper.Lion] do not conform to class PetContainer's type parameter bounds [P <: Helper.this.Pet]\n",
      "            .print(wrapper.wrapper.lionContainer, wrapper.wrapper.lionContainer, \"lionContainer\", _root_.scala.None)\n",
      "             ^cmd54.sc:320: type arguments [$sess.cmd54.wrapper.cmd53.wrapper.Lion] do not conform to class PetContainer's type parameter bounds [P <: Helper.this.Pet]\n",
      "            .print(wrapper.wrapper.lionContainer, wrapper.wrapper.lionContainer, \"lionContainer\", _root_.scala.None)\n",
      "                  ^cmd54.sc:1: type arguments [cmd54Wrapper.this.cmd53.wrapper.Lion] do not conform to class PetContainer's type parameter bounds [P <: Helper.this.Pet]\n",
      "val lionContainer = new PetContainer[Lion](new Lion) //this would not compile\n",
      "    ^cmd54.sc:1: type arguments [cmd54Wrapper.this.cmd53.wrapper.Lion] do not conform to class PetContainer's type parameter bounds [P <: Helper.this.Pet]\n",
      "val lionContainer = new PetContainer[Lion](new Lion) //this would not compile\n",
      "                        ^"
     ]
    },
    {
     "ename": "",
     "evalue": "",
     "output_type": "error",
     "traceback": [
      "Compilation Failed"
     ]
    }
   ],
   "source": [
    "val lionContainer = new PetContainer[Lion](new Lion) //this would not compile"
   ]
  },
  {
   "cell_type": "markdown",
   "metadata": {},
   "source": [
    "The `class PetContainer` take a type parameter `P` which must be a subtype of `Pet`. `Dog` and `Cat` are subtypes of `Pet` so we can create a new `PetContainer[Dog]` and `PetContainer[Cat]`. However, if we tried to create a `PetContainer[Lion]`, we would get the following Error:\n",
    "```\n",
    "type arguments [Lion] do not conform to class PetContainer's type parameter bounds [P <: Pet]\n",
    "```\n",
    "This is because `Lion` is not a subtype of `Pet`.\n",
    "\n",
    "\n",
    "## Lower Type Bounds\n",
    "\n",
    "While [upper type bounds](#Upper-Type-Bounds) limit a type to a subtype of another type, lower type bounds declare a type to be a supertype of another type. The term `B >: A` expresses that the type parameter `B` or the abstract type `B` refer to a supertype of type `A`. In most cases, `A` will be the type parameter of the class and `B` will be the type parameter of a method.\n",
    "\n",
    "Here is an example where this is useful:\n",
    "\n",
    "```Scala\n",
    "trait Node[+B] {\n",
    "  def prepend(elem: B): Unit\n",
    "}\n",
    "\n",
    "case class ListNode[+B](h: B, t: Node[B]) extends Node[B] {\n",
    "  def prepend(elem: B) = ListNode[B](elem, this)\n",
    "  def head: B = h\n",
    "  def tail = t\n",
    "}\n",
    "\n",
    "case class Nil[+B]() extends Node[B] {\n",
    "  def prepend(elem: B) = ListNode[B](elem, this)\n",
    "}\n",
    "```\n",
    "\n",
    "This program implements a singly-linked list. `Nil` represents an empty element (i.e. an empty list). `class ListNode` is a node which contains an element of type `B` (`head`) and a reference to the rest of the list (`tail`). The `class Node` and its subtypes are covariant because we have `+B`.\n",
    "\n",
    "However, this program does not compile because the parameter `elem` in `prepend` is of type `B`, which we declared covariant. This doesn't work because functions are contravariant in their parameter types and covariant in their result types.\n",
    "\n",
    "To fix this, we need to flip the variance of the type of the parameter `elem` in `prepend`. We do this by introducing a new type parameter `U` that has `B` as a lower type bound."
   ]
  },
  {
   "cell_type": "code",
   "execution_count": 55,
   "metadata": {},
   "outputs": [
    {
     "data": {
      "text/plain": [
       "defined \u001b[32mtrait\u001b[39m \u001b[36mNode\u001b[39m\r\n",
       "defined \u001b[32mclass\u001b[39m \u001b[36mListNode\u001b[39m\r\n",
       "defined \u001b[32mclass\u001b[39m \u001b[36mNil\u001b[39m"
      ]
     },
     "execution_count": 55,
     "metadata": {},
     "output_type": "execute_result"
    }
   ],
   "source": [
    "trait Node[+B] {\n",
    "  def prepend[U >: B](elem: U)\n",
    "}\n",
    "\n",
    "case class ListNode[+B](h: B, t: Node[B]) extends Node[B] {\n",
    "  def prepend[U >: B](elem: U) = ListNode[U](elem, this)\n",
    "  def head: B = h\n",
    "  def tail = t\n",
    "}\n",
    "\n",
    "case class Nil[+B]() extends Node[B] {\n",
    "  def prepend[U >: B](elem: U) = ListNode[U](elem, this)\n",
    "}"
   ]
  },
  {
   "cell_type": "markdown",
   "metadata": {},
   "source": [
    "Now we can do the following:"
   ]
  },
  {
   "cell_type": "code",
   "execution_count": 57,
   "metadata": {},
   "outputs": [
    {
     "data": {
      "text/plain": [
       "defined \u001b[32mtrait\u001b[39m \u001b[36mMammal\u001b[39m\r\n",
       "defined \u001b[32mclass\u001b[39m \u001b[36mAfricanSwallow\u001b[39m\r\n",
       "defined \u001b[32mclass\u001b[39m \u001b[36mEuropeanSwallow\u001b[39m\r\n",
       "\u001b[36mafricanSwallowList\u001b[39m: \u001b[32mListNode\u001b[39m[\u001b[32mwrapper\u001b[39m.\u001b[32mwrapper\u001b[39m.\u001b[32mAfricanSwallow\u001b[39m] = ListNode(AfricanSwallow(),Nil())\r\n",
       "\u001b[36mmammalList\u001b[39m: \u001b[32mNode\u001b[39m[\u001b[32mwrapper\u001b[39m.\u001b[32mwrapper\u001b[39m.\u001b[32mMammal\u001b[39m] = ListNode(AfricanSwallow(),Nil())"
      ]
     },
     "execution_count": 57,
     "metadata": {},
     "output_type": "execute_result"
    }
   ],
   "source": [
    "trait Mammal\n",
    "case class AfricanSwallow() extends Mammal\n",
    "case class EuropeanSwallow() extends Mammal\n",
    "\n",
    "\n",
    "val africanSwallowList= ListNode[AfricanSwallow](AfricanSwallow(), Nil())\n",
    "val mammalList: Node[Mammal] = africanSwallowList\n",
    "mammalList.prepend(new EuropeanSwallow)"
   ]
  },
  {
   "cell_type": "markdown",
   "metadata": {},
   "source": [
    "The `Node[Mammal]` can be assigned the `africanSwallowList` but then accept `EuropeanSwallow`s.\n",
    "\n",
    "\n",
    "## Inner Classes\n",
    "\n",
    "In Scala it is possible to let classes have other classes as members. As opposed to Java-like languages where such inner classes are members of the enclosing class, in Scala such inner classes are bound to the outer object. Suppose we want the compiler to prevent us, at compile time, from mixing up which nodes belong to what graph. Path-dependent types provide a solution.\n",
    "\n",
    "To illustrate the difference, we quickly sketch the implementation of a graph datatype:"
   ]
  },
  {
   "cell_type": "code",
   "execution_count": 58,
   "metadata": {},
   "outputs": [
    {
     "name": "stderr",
     "output_type": "stream",
     "text": [
      "cmd58.sc:1: trait Node takes type parameters\r\n",
      "var connectedNodes: List[Node] = Nil\r\n",
      "                         ^"
     ]
    },
    {
     "ename": "",
     "evalue": "",
     "output_type": "error",
     "traceback": [
      "Compilation Failed"
     ]
    }
   ],
   "source": [
    "    var connectedNodes: List[Node] = Nil\n"
   ]
  },
  {
   "cell_type": "markdown",
   "metadata": {},
   "source": [
    "## #TODO: fix compilation error"
   ]
  },
  {
   "cell_type": "code",
   "execution_count": 57,
   "metadata": {},
   "outputs": [
    {
     "name": "stderr",
     "output_type": "stream",
     "text": [
      "cmd57.sc:3: type mismatch;\n",
      " found   : cmd57Wrapper.this.cmd54.wrapper.Nil.type\n",
      " required: List[Graph.this.Node]\n",
      "    var connectedNodes: List[Node] = Nil\n",
      "                                     ^cmd57.sc:10: type mismatch;\n",
      " found   : cmd57Wrapper.this.cmd54.wrapper.Nil.type\n",
      " required: List[Graph.this.Node]\n",
      "  var nodes: List[Node] = Nil\n",
      "                          ^"
     ]
    },
    {
     "ename": "",
     "evalue": "",
     "output_type": "error",
     "traceback": [
      "Compilation Failed"
     ]
    }
   ],
   "source": [
    "class Graph {\n",
    "  class Node {\n",
    "    var connectedNodes: List[Node] = Nil\n",
    "    def connectTo(node: Node) {\n",
    "      if (connectedNodes.find(node.equals).isEmpty) {\n",
    "        connectedNodes = node :: connectedNodes\n",
    "      }\n",
    "    }\n",
    "  }\n",
    "  var nodes: List[Node] = Nil\n",
    "  def newNode: Node = {\n",
    "    val res = new Node\n",
    "    nodes = res :: nodes\n",
    "    res\n",
    "  }\n",
    "}"
   ]
  },
  {
   "cell_type": "markdown",
   "metadata": {},
   "source": [
    "This program represents a graph as a list of nodes (`List[Node]`). Each node has a list of other nodes it's connected to (`connectedNodes`). The `class Node` is a *path-dependent* type because it is nested in the `class Graph`. Therefore, all nodes in the `connectedNodes` must be created using the `newNode` from the same instance of `Graph`."
   ]
  },
  {
   "cell_type": "code",
   "execution_count": 57,
   "metadata": {},
   "outputs": [
    {
     "name": "stderr",
     "output_type": "stream",
     "text": [
      "cmd57.sc:1: not found: type Graph\n",
      "val graph1: Graph = new Graph\n",
      "            ^cmd57.sc:1: not found: type Graph\n",
      "val graph1: Graph = new Graph\n",
      "                        ^"
     ]
    },
    {
     "ename": "",
     "evalue": "",
     "output_type": "error",
     "traceback": [
      "Compilation Failed"
     ]
    }
   ],
   "source": [
    "val graph1: Graph = new Graph\n",
    "val node1: graph1.Node = graph1.newNode\n",
    "val node2: graph1.Node = graph1.newNode\n",
    "val node3: graph1.Node = graph1.newNode\n",
    "node1.connectTo(node2)\n",
    "node3.connectTo(node1)"
   ]
  },
  {
   "cell_type": "markdown",
   "metadata": {},
   "source": [
    "We have explicitly declared the type of `node1`, `node2`, and `node3` as `graph1.Node` for clarity but the compiler could have inferred it. This is because when we call `graph1.newNode` which calls `new Node`, the method is using the instance of `Node` specific to the instance `graph1`.\n",
    "\n",
    "If we now have two graphs, the type system of Scala does not allow us to mix nodes defined within one graph with the nodes of another graph, since the nodes of the other graph have a different type. Here is an illegal program:"
   ]
  },
  {
   "cell_type": "code",
   "execution_count": 58,
   "metadata": {},
   "outputs": [
    {
     "name": "stderr",
     "output_type": "stream",
     "text": [
      "cmd58.sc:1: not found: type Graph\n",
      "val graph1: Graph = new Graph\n",
      "            ^cmd58.sc:5: not found: type Graph\n",
      "val graph2: Graph = new Graph\n",
      "            ^cmd58.sc:1: not found: type Graph\n",
      "val graph1: Graph = new Graph\n",
      "                        ^cmd58.sc:5: not found: type Graph\n",
      "val graph2: Graph = new Graph\n",
      "                        ^"
     ]
    },
    {
     "ename": "",
     "evalue": "",
     "output_type": "error",
     "traceback": [
      "Compilation Failed"
     ]
    }
   ],
   "source": [
    "val graph1: Graph = new Graph\n",
    "val node1: graph1.Node = graph1.newNode\n",
    "val node2: graph1.Node = graph1.newNode\n",
    "node1.connectTo(node2)      // legal\n",
    "val graph2: Graph = new Graph\n",
    "val node3: graph2.Node = graph2.newNode\n",
    "node1.connectTo(node3)      // illegal!"
   ]
  },
  {
   "cell_type": "markdown",
   "metadata": {},
   "source": [
    "The type `graph1.Node` is distinct from the type `graph2.Node`. In Java, the last line in the previous example program would have been correct. For nodes of both graphs, Java would assign the same type `Graph.Node`; i.e. `Node` is prefixed with class `Graph`. In Scala such a type can be expressed as well, it is written `Graph#Node`. If we want to be able to connect nodes of different graphs, we have to change the definition of our initial graph implementation in the following way:"
   ]
  },
  {
   "cell_type": "code",
   "execution_count": 58,
   "metadata": {},
   "outputs": [
    {
     "name": "stderr",
     "output_type": "stream",
     "text": [
      "cmd58.sc:3: type mismatch;\n",
      " found   : cmd58Wrapper.this.cmd54.wrapper.Nil.type\n",
      " required: List[Helper.this.Graph#Node]\n",
      "    var connectedNodes: List[Graph#Node] = Nil\n",
      "                                           ^cmd58.sc:10: type mismatch;\n",
      " found   : cmd58Wrapper.this.cmd54.wrapper.Nil.type\n",
      " required: List[Graph.this.Node]\n",
      "  var nodes: List[Node] = Nil\n",
      "                          ^"
     ]
    },
    {
     "ename": "",
     "evalue": "",
     "output_type": "error",
     "traceback": [
      "Compilation Failed"
     ]
    }
   ],
   "source": [
    "class Graph {\n",
    "  class Node {\n",
    "    var connectedNodes: List[Graph#Node] = Nil\n",
    "    def connectTo(node: Graph#Node) {\n",
    "      if (connectedNodes.find(node.equals).isEmpty) {\n",
    "        connectedNodes = node :: connectedNodes\n",
    "      }\n",
    "    }\n",
    "  }\n",
    "  var nodes: List[Node] = Nil\n",
    "  def newNode: Node = {\n",
    "    val res = new Node\n",
    "    nodes = res :: nodes\n",
    "    res\n",
    "  }\n",
    "}"
   ]
  },
  {
   "cell_type": "markdown",
   "metadata": {},
   "source": [
    "*Note that this program doesn't allow us to attach a node to two different graphs. If we want to remove this restriction as well, we have to change the type of variable nodes to `Graph#Node`.*\n",
    "\n",
    "## Abstract Types\n",
    "\n",
    "Traits and abstract classes can have an abstract type member. This means that the concrete implementations define the actual type. Here's an example:"
   ]
  },
  {
   "cell_type": "code",
   "execution_count": 59,
   "metadata": {},
   "outputs": [
    {
     "data": {
      "text/plain": [
       "defined \u001b[32mtrait\u001b[39m \u001b[36mBuffer\u001b[39m"
      ]
     },
     "execution_count": 59,
     "metadata": {},
     "output_type": "execute_result"
    }
   ],
   "source": [
    "trait Buffer {\n",
    "  type T\n",
    "  val element: T\n",
    "}"
   ]
  },
  {
   "cell_type": "markdown",
   "metadata": {},
   "source": [
    "Here we have defined an abstract `type T`. It is used to describe the type of `element`. We can extend this trait in an abstract class, adding an upper-type-bound to `T` to make it more specific."
   ]
  },
  {
   "cell_type": "code",
   "execution_count": 60,
   "metadata": {},
   "outputs": [
    {
     "data": {
      "text/plain": [
       "defined \u001b[32mclass\u001b[39m \u001b[36mSeqBuffer\u001b[39m"
      ]
     },
     "execution_count": 60,
     "metadata": {},
     "output_type": "execute_result"
    }
   ],
   "source": [
    "abstract class SeqBuffer extends Buffer {\n",
    "  type U\n",
    "  type T <: Seq[U]\n",
    "  def length = element.length\n",
    "}"
   ]
  },
  {
   "cell_type": "markdown",
   "metadata": {},
   "source": [
    "Notice how we can use yet another abstract `type U` as an upper-type-bound. This `class SeqBuffer` allows us to store only sequences in the buffer by stating that type `T` has to be a subtype of `Seq[U]` for a new abstract type `U`.\n",
    "\n",
    "Traits or [classes](#Classes) with abstract type members are often used in combination with anonymous class instantiations. To illustrate this, we now look at a program which deals with a sequence buffer that refers to a list of integers:"
   ]
  },
  {
   "cell_type": "code",
   "execution_count": 61,
   "metadata": {},
   "outputs": [
    {
     "name": "stdout",
     "output_type": "stream",
     "text": [
      "length = 2\n",
      "content = List(7, 8)\n"
     ]
    },
    {
     "data": {
      "text/plain": [
       "defined \u001b[32mclass\u001b[39m \u001b[36mIntSeqBuffer\u001b[39m\r\n",
       "defined \u001b[32mfunction\u001b[39m \u001b[36mnewIntSeqBuf\u001b[39m\r\n",
       "\u001b[36mbuf\u001b[39m: \u001b[32mIntSeqBuffer\u001b[39m = $sess.cmd60Wrapper$Helper$$anon$1@534aa979"
      ]
     },
     "execution_count": 61,
     "metadata": {},
     "output_type": "execute_result"
    }
   ],
   "source": [
    "abstract class IntSeqBuffer extends SeqBuffer {\n",
    "  type U = Int\n",
    "}\n",
    "\n",
    "\n",
    "def newIntSeqBuf(elem1: Int, elem2: Int): IntSeqBuffer =\n",
    "  new IntSeqBuffer {\n",
    "       type T = List[U]\n",
    "       val element = List(elem1, elem2)\n",
    "     }\n",
    "val buf = newIntSeqBuf(7, 8)\n",
    "println(\"length = \" + buf.length)\n",
    "println(\"content = \" + buf.element)"
   ]
  },
  {
   "cell_type": "markdown",
   "metadata": {},
   "source": [
    "Here the factory `newIntSeqBuf` uses an anonymous class implementation of `IntSeqBuf` (i.e. new `IntSeqBuffer`), setting `type T` to a `List[Int]`.\n",
    "\n",
    "It is also possible to turn abstract type members into type parameters of classes and vice versa. Here is a version of the code above which only uses type parameters:"
   ]
  },
  {
   "cell_type": "code",
   "execution_count": 62,
   "metadata": {},
   "outputs": [
    {
     "name": "stdout",
     "output_type": "stream",
     "text": [
      "length = 2\n",
      "content = List(7, 8)\n"
     ]
    },
    {
     "data": {
      "text/plain": [
       "defined \u001b[32mclass\u001b[39m \u001b[36mBuffer\u001b[39m\r\n",
       "defined \u001b[32mclass\u001b[39m \u001b[36mSeqBuffer\u001b[39m\r\n",
       "defined \u001b[32mfunction\u001b[39m \u001b[36mnewIntSeqBuf\u001b[39m\r\n",
       "\u001b[36mbuf\u001b[39m: \u001b[32mwrapper\u001b[39m.\u001b[32mwrapper\u001b[39m.\u001b[32mSeqBuffer\u001b[39m[\u001b[32mInt\u001b[39m, \u001b[32mSeq\u001b[39m[\u001b[32mInt\u001b[39m]] = $sess.cmd61Wrapper$Helper$$anon$1@2980ab66"
      ]
     },
     "execution_count": 62,
     "metadata": {},
     "output_type": "execute_result"
    }
   ],
   "source": [
    "abstract class Buffer[+T] {\n",
    "  val element: T\n",
    "}\n",
    "abstract class SeqBuffer[U, +T <: Seq[U]] extends Buffer[T] {\n",
    "  def length = element.length\n",
    "}\n",
    "\n",
    "def newIntSeqBuf(e1: Int, e2: Int): SeqBuffer[Int, Seq[Int]] =\n",
    "  new SeqBuffer[Int, List[Int]] {\n",
    "    val element = List(e1, e2)\n",
    "  }\n",
    "\n",
    "val buf = newIntSeqBuf(7, 8)\n",
    "println(\"length = \" + buf.length)\n",
    "println(\"content = \" + buf.element)"
   ]
  },
  {
   "cell_type": "markdown",
   "metadata": {},
   "source": [
    "Note that we have to use [variance annotations](#Variances) here (`+T <: Seq[U]`) in order to hide the concrete sequence implementation type of the object returned from method `newIntSeqBuf`. Furthermore, there are cases where it is not possible to replace abstract types with type parameters.\n",
    "\n",
    "## Compound Types\n",
    "\n",
    "Sometimes it is necessary to express that the type of an object is a subtype of several other types. In Scala this can be expressed with the help of *compound types*, which are intersections of object types.\n",
    "\n",
    "Suppose we have two traits `Cloneable` and `Resetable`:"
   ]
  },
  {
   "cell_type": "code",
   "execution_count": 63,
   "metadata": {},
   "outputs": [
    {
     "data": {
      "text/plain": [
       "defined \u001b[32mtrait\u001b[39m \u001b[36mCloneable\u001b[39m\r\n",
       "defined \u001b[32mtrait\u001b[39m \u001b[36mResetable\u001b[39m"
      ]
     },
     "execution_count": 63,
     "metadata": {},
     "output_type": "execute_result"
    }
   ],
   "source": [
    "trait Cloneable extends java.lang.Cloneable {\n",
    "  override def clone(): Cloneable = {\n",
    "    super.clone().asInstanceOf[Cloneable]\n",
    "  }\n",
    "}\n",
    "trait Resetable {\n",
    "  def reset: Unit\n",
    "}"
   ]
  },
  {
   "cell_type": "markdown",
   "metadata": {},
   "source": [
    "Now suppose we want to write a function `cloneAndReset` which takes an object, clones it and resets the original object:\n",
    "```Scala\n",
    "def cloneAndReset(obj: ?): Cloneable = {\n",
    "  val cloned = obj.clone()\n",
    "  obj.reset\n",
    "  cloned\n",
    "}\n",
    "```\n",
    "The question arises what the type of the parameter `obj` is. If it's `Cloneable` then the object can be `clone`d, but not `reset`; if it's `Resetable` we can `reset` it, but there is no `clone` operation. To avoid type casts in such a situation, we can specify the type of `obj` to be both `Cloneable` and `Resetable`. This compound type is written like this in Scala: `Cloneable with Resetable`.\n",
    "\n",
    "Here's the updated function:"
   ]
  },
  {
   "cell_type": "code",
   "execution_count": 64,
   "metadata": {},
   "outputs": [
    {
     "data": {
      "text/plain": [
       "defined \u001b[32mfunction\u001b[39m \u001b[36mcloneAndReset\u001b[39m"
      ]
     },
     "execution_count": 64,
     "metadata": {},
     "output_type": "execute_result"
    }
   ],
   "source": [
    "def cloneAndReset(obj: Cloneable with Resetable): Cloneable = {\n",
    "  val cloned = obj.clone()\n",
    "  obj.reset\n",
    "  cloned\n",
    "}"
   ]
  },
  {
   "cell_type": "markdown",
   "metadata": {},
   "source": [
    "Compound types can consist of several object types and they may have a single refinement which can be used to narrow the signature of existing object members. The general form is: `A with B with C ... { refinement }`\n",
    "\n",
    "An example for the use of refinements is given on the page about [abstract types](#Abstract-Types).\n",
    "\n",
    "\n",
    "## Self-type\n",
    "\n",
    "Self-types are a way to declare that a trait must be mixed into another trait, even though it doesn't directly extend it. That makes the members of the dependency available without imports.\n",
    "\n",
    "A self-type is a way to narrow the type of `this` or another identifier that aliases `this`. The syntax looks like normal function syntax but means something entirely different.\n",
    "\n",
    "To use a self-type in a trait, write an identifier, the type of another trait to mix in, and a `=>` (e.g. `someIdentifier: SomeOtherTrait =>`)."
   ]
  },
  {
   "cell_type": "code",
   "execution_count": 65,
   "metadata": {},
   "outputs": [
    {
     "name": "stdout",
     "output_type": "stream",
     "text": [
      "real Beyoncé: Just spilled my glass of lemonade\r\n"
     ]
    },
    {
     "data": {
      "text/plain": [
       "defined \u001b[32mtrait\u001b[39m \u001b[36mUser\u001b[39m\r\n",
       "defined \u001b[32mtrait\u001b[39m \u001b[36mTweeter\u001b[39m\r\n",
       "defined \u001b[32mclass\u001b[39m \u001b[36mVerifiedTweeter\u001b[39m\r\n",
       "\u001b[36mrealBeyoncé\u001b[39m: \u001b[32mVerifiedTweeter\u001b[39m = $sess.cmd64Wrapper$Helper$VerifiedTweeter@218a4cfd"
      ]
     },
     "execution_count": 65,
     "metadata": {},
     "output_type": "execute_result"
    }
   ],
   "source": [
    "trait User {\n",
    "  def username: String\n",
    "}\n",
    "\n",
    "trait Tweeter {\n",
    "\tthis: User =>  // reassign this\n",
    "\tdef tweet(tweetText: String) = println(s\"$username: $tweetText\")\n",
    "}\n",
    "\n",
    "class VerifiedTweeter(val username_ : String) extends Tweeter with User {  // We mixin User because Tweeter required it\n",
    "\tdef username = s\"real $username_\"\n",
    "}\n",
    "\n",
    "val realBeyoncé = new VerifiedTweeter(\"Beyoncé\")\n",
    "realBeyoncé.tweet(\"Just spilled my glass of lemonade\")  // prints \"real Beyoncé: Just spilled my glass of lemonade\""
   ]
  },
  {
   "cell_type": "markdown",
   "metadata": {},
   "source": [
    "Because we said `this: User =>` in trait `Tweeter`, now the variable `username` is in scope for the `tweet` method. This also means that since `VerifiedTweeter` extends `Tweeter`, it must also mix-in `User` (using with `User`).\n",
    "\n",
    "## Implicit Parameters\n",
    "\n",
    "A method with implicit parameters can be applied to arguments just like a normal method. In this case the implicit label has no effect. However, if such a method misses arguments for its implicit parameters, such arguments will be automatically provided.\n",
    "\n",
    "The actual arguments that are eligible to be passed to an implicit parameter fall into two categories:\n",
    "- First, eligible are all identifiers x that can be accessed at the point of the method call without a prefix and that denote an implicit definition or an implicit parameter.\n",
    "- Second, eligible are also all members of companion modules of the implicit parameter's type that are labeled implicit.\n",
    "\n",
    "In the following example we define a method `sum` which computes the sum of a list of elements using the monoid's `add` and `unit` operations. Please note that implicit values can not be top-level, they have to be members of a template."
   ]
  },
  {
   "cell_type": "code",
   "execution_count": 66,
   "metadata": {},
   "outputs": [
    {
     "data": {
      "text/plain": [
       "defined \u001b[32mclass\u001b[39m \u001b[36mSemiGroup\u001b[39m\r\n",
       "defined \u001b[32mclass\u001b[39m \u001b[36mMonoid\u001b[39m\r\n",
       "defined \u001b[32mobject\u001b[39m \u001b[36mImplicitTest\u001b[39m"
      ]
     },
     "execution_count": 66,
     "metadata": {},
     "output_type": "execute_result"
    }
   ],
   "source": [
    "/** This example uses a structure from abstract algebra to show how implicit parameters work. A semigroup is an algebraic structure on a set A with an (associative) operation, called add here, that combines a pair of A's and returns another A. */\n",
    "abstract class SemiGroup[A] {\n",
    "  def add(x: A, y: A): A\n",
    "}\n",
    "/** A monoid is a semigroup with a distinguished element of A, called unit, that when combined with any other element of A returns that other element again. */\n",
    "abstract class Monoid[A] extends SemiGroup[A] {\n",
    "  def unit: A\n",
    "}\n",
    "object ImplicitTest extends App {\n",
    "  /** To show how implicit parameters work, we first define monoids for strings and integers. The implicit keyword indicates that the corresponding object can be used implicitly, within this scope, as a parameter of a function marked implicit. */\n",
    "  implicit object StringMonoid extends Monoid[String] {\n",
    "    def add(x: String, y: String): String = x concat y\n",
    "    def unit: String = \"\"\n",
    "  }\n",
    "  implicit object IntMonoid extends Monoid[Int] {\n",
    "    def add(x: Int, y: Int): Int = x + y\n",
    "    def unit: Int = 0\n",
    "  }\n",
    "  /** This method takes a List[A] returns an A which represent the combined value of applying the monoid operation successively across the whole list. Making the parameter m implicit here means we only have to provide the xs parameter at the call site, since if we have a List[A] we know what type A actually is and therefore what type Monoid[A] is needed. We can then implicitly find whichever val or object in the current scope also has that type and use that without needing to specify it explicitly. */\n",
    "  def sum[A](xs: List[A])(implicit m: Monoid[A]): A =\n",
    "    if (xs.isEmpty) m.unit\n",
    "    else m.add(xs.head, sum(xs.tail))\n",
    "\n",
    "  /** Here we call sum twice, with only one parameter each time. Since the second parameter of sum, m, is implicit its value is looked up in the current scope, based on the type of monoid required in each case, meaning both expressions can be fully evaluated. */\n",
    "  println(sum(List(1, 2, 3)))          // uses IntMonoid implicitly\n",
    "  println(sum(List(\"a\", \"b\", \"c\")))    // uses StringMonoid implicitly\n",
    "}"
   ]
  },
  {
   "cell_type": "markdown",
   "metadata": {},
   "source": [
    "Here is the output of the Scala program:\n",
    "\n",
    "```\n",
    "6\n",
    "abc\n",
    "```\n",
    "\n",
    "## Implicit Conversions\n",
    "\n",
    "An implicit conversion from type `S` to type `T` is defined by an implicit value which has function type `S => T`, or by an implicit method convertible to a value of that type.\n",
    "\n",
    "Implicit conversions are applied in two situations:\n",
    "- If an expression `e` is of type `S`, and `S` does not conform to the expression's expected type `T`.\n",
    "- In a selection `e.m` with `e` of type `S`, if the selector `m` does not denote a member of `S`.\n",
    "\n",
    "In the first case, a conversion `c` is searched for which is applicable to `e` and whose result type conforms to `T`. In the second case, a conversion `c` is searched for which is applicable to `e` and whose result contains a member named `m`.\n",
    "\n",
    "The following operation on the two lists xs and ys of type `List[Int]` is legal:\n",
    "```Scala\n",
    "xs <= ys\n",
    "```\n",
    "assuming the implicit methods `list2ordered` and `int2ordered` defined below are in scope:\n",
    "\n",
    "```Scala\n",
    "implicit def list2ordered[A](x: List[A])\n",
    "    (implicit elem2ordered: A => Ordered[A]): Ordered[List[A]] =\n",
    "  new Ordered[List[A]] { /* .. */ }\n",
    "\n",
    "implicit def int2ordered(x: Int): Ordered[Int] =\n",
    "  new Ordered[Int] { /* .. */ }\n",
    "```\n",
    "\n",
    "The implicitly imported object `scala.Predef` declares several predefined types (e.g. `Pair`) and methods (e.g. `assert`) but also several implicit conversions.\n",
    "\n",
    "For example, when calling a Java method that expects a `java.lang.Integer`, you are free to pass it a `scala.Int` instead. That's because Predef includes the following implicit conversions:"
   ]
  },
  {
   "cell_type": "code",
   "execution_count": 67,
   "metadata": {},
   "outputs": [
    {
     "data": {
      "text/plain": [
       "\u001b[32mimport \u001b[39m\u001b[36mscala.language.implicitConversions\r\n",
       "\r\n",
       "\u001b[39m\r\n",
       "defined \u001b[32mfunction\u001b[39m \u001b[36mint2Integer\u001b[39m"
      ]
     },
     "execution_count": 67,
     "metadata": {},
     "output_type": "execute_result"
    }
   ],
   "source": [
    "import scala.language.implicitConversions\n",
    "\n",
    "implicit def int2Integer(x: Int) =\n",
    "  java.lang.Integer.valueOf(x)"
   ]
  },
  {
   "cell_type": "markdown",
   "metadata": {},
   "source": [
    "Because implicit conversions can have pitfalls if used indiscriminately the compiler warns when compiling the implicit conversion definition.\n",
    "\n",
    "To turn off the warnings take either of these actions:\n",
    "- Import `scala.language.implicitConversions` into the scope of the implicit conversion definition\n",
    "- Invoke the compiler with `-language:implicitConversions`\n",
    "\n",
    "No warning is emitted when the conversion is applied by the compiler.\n",
    "\n",
    "\n",
    "## Polymorphic Methods\n",
    "\n",
    "Methods in Scala can be parameterized by type as well as value. The syntax is similar to that of generic classes. Type parameters are declared within a pair of brackets while value parameters are enclosed in a pair of parentheses.\n",
    "\n",
    "Here is an example:"
   ]
  },
  {
   "cell_type": "markdown",
   "metadata": {},
   "source": [
    "## #TODO: fix compilation error"
   ]
  },
  {
   "cell_type": "code",
   "execution_count": 67,
   "metadata": {},
   "outputs": [
    {
     "name": "stderr",
     "output_type": "stream",
     "text": [
      "cmd67.sc:3: type mismatch;\n",
      " found   : cmd67Wrapper.this.cmd54.wrapper.Nil.type\n",
      " required: List[A]\r\n",
      "        Nil\r\n",
      "        ^"
     ]
    },
    {
     "ename": "",
     "evalue": "",
     "output_type": "error",
     "traceback": [
      "Compilation Failed"
     ]
    }
   ],
   "source": [
    "def listOfDuplicates[A](x: A, length: Int): List[A] = {\n",
    "    if (length < 1)\n",
    "        Nil\n",
    "    else\n",
    "        x :: listOfDuplicates(x, length - 1)\n",
    "}\n",
    "println(listOfDuplicates[Int](3, 4))  // List(3, 3, 3, 3)\n",
    "println(listOfDuplicates(\"La\", 8))  // List(La, La, La, La, La, La, La, La)"
   ]
  },
  {
   "cell_type": "markdown",
   "metadata": {},
   "source": [
    "The method `listOfDuplicates` takes a type parameter `A` and values parameters `x` and `n`. In this case, value `x` is of type `A`. If `length < 1` we return an empty list. Otherwise we prepend `x` to the the list of duplicates returned by the recursive call to `listOfDuplicates`. (note: `::` means prepend an element on the left to a sequence on the right).\n",
    "\n",
    "When we call `listOfDuplicates` with `[Int]` as the type parameter, the first argument must be an int and the return type will be List[Int]. However, you don't always need to explicitly provide the the type parameter because the compiler can often figure it out based on the type of value argument (`\"La\"` is a String). In fact, if calling this method from Java it is impossible to provide the type parameter.\n",
    "\n",
    "\n",
    "## Local Type Inference\n",
    "\n",
    "Scala has a built-in type inference mechanism which allows the programmer to omit certain type annotations. It is, for instance, often not necessary in Scala to specify the type of a variable, since the compiler can deduce the type from the initialization expression of the variable. Also return types of methods can often be omitted since they correspond to the type of the body, which gets inferred by the compiler.\n",
    "\n",
    "Here is an example:"
   ]
  },
  {
   "cell_type": "code",
   "execution_count": 68,
   "metadata": {},
   "outputs": [
    {
     "data": {
      "text/plain": [
       "defined \u001b[32mobject\u001b[39m \u001b[36mInferenceTest1\u001b[39m"
      ]
     },
     "execution_count": 68,
     "metadata": {},
     "output_type": "execute_result"
    }
   ],
   "source": [
    "object InferenceTest1 extends App {\n",
    "  val x = 1 + 2 * 3         // the type of x is Int\n",
    "  val y = x.toString()      // the type of y is String\n",
    "  def succ(x: Int) = x + 1  // method succ returns Int values\n",
    "}"
   ]
  },
  {
   "cell_type": "markdown",
   "metadata": {},
   "source": [
    "For recursive methods, the compiler is not able to infer a result type. Here is a program which will fail the compiler for this reason:\n",
    "\n",
    "```Scala\n",
    "object InferenceTest2 {\n",
    "  def fac(n: Int) = if (n == 0) 1 else n * fac(n - 1)\n",
    "}\n",
    "```\n",
    "\n",
    "It is also not compulsory to specify type parameters when [polymorphic methods](#Polymorphic-Methods) are called or [generic classes](#Generic-Classes) are instantiated. The Scala compiler will infer such missing type parameters from the context and from the types of the actual method/constructor parameters.\n",
    "\n",
    "Here is an example which illustrates this:"
   ]
  },
  {
   "cell_type": "code",
   "execution_count": 69,
   "metadata": {},
   "outputs": [
    {
     "data": {
      "text/plain": [
       "defined \u001b[32mclass\u001b[39m \u001b[36mMyPair\u001b[39m\r\n",
       "defined \u001b[32mobject\u001b[39m \u001b[36mInferenceTest3\u001b[39m"
      ]
     },
     "execution_count": 69,
     "metadata": {},
     "output_type": "execute_result"
    }
   ],
   "source": [
    "case class MyPair[A, B](x: A, y: B);\n",
    "object InferenceTest3 extends App {\n",
    "  def id[T](x: T) = x\n",
    "  val p = MyPair(1, \"scala\") // type: MyPair[Int, String]\n",
    "  val q = id(1)              // type: Int\n",
    "}"
   ]
  },
  {
   "cell_type": "markdown",
   "metadata": {},
   "source": [
    "The last two lines of this program are equivalent to the following code where all inferred types are made explicit:"
   ]
  },
  {
   "cell_type": "markdown",
   "metadata": {},
   "source": [
    "## #TODO: fix compilation error"
   ]
  },
  {
   "cell_type": "code",
   "execution_count": 69,
   "metadata": {},
   "outputs": [
    {
     "name": "stderr",
     "output_type": "stream",
     "text": [
      "cmd69.sc:2: not found: value id\r\n",
      "val y: Int = id[Int](1)\r\n",
      "             ^"
     ]
    },
    {
     "ename": "",
     "evalue": "",
     "output_type": "error",
     "traceback": [
      "Compilation Failed"
     ]
    }
   ],
   "source": [
    "val x: MyPair[Int, String] = MyPair[Int, String](1, \"scala\")\n",
    "val y: Int = id[Int](1)"
   ]
  },
  {
   "cell_type": "markdown",
   "metadata": {},
   "source": [
    "In some situations it can be quite dangerous to rely on Scala's type inference mechanism as the following program shows:\n",
    "\n",
    "```Scala\n",
    "object InferenceTest4 {\n",
    "  var obj = null\n",
    "  obj = new Object()\n",
    "}\n",
    "```\n",
    "\n",
    "This program does not compile because the type inferred for variable `obj` is `Null`. Since the only value of that type is `null`, it is impossible to make this variable refer to another value.\n",
    "\n",
    "\n",
    "## Operators\n",
    "\n",
    "In Scala, operators are methods. Any method with a single parameter can be used as an infix operator. For example, `+` can be called with dot-notation:"
   ]
  },
  {
   "cell_type": "code",
   "execution_count": 70,
   "metadata": {},
   "outputs": [
    {
     "data": {
      "text/plain": [
       "\u001b[36mres69\u001b[39m: \u001b[32mInt\u001b[39m = \u001b[32m11\u001b[39m"
      ]
     },
     "execution_count": 70,
     "metadata": {},
     "output_type": "execute_result"
    }
   ],
   "source": [
    "10.+(1)"
   ]
  },
  {
   "cell_type": "markdown",
   "metadata": {},
   "source": [
    "However, it's easier to read as an infix operator:"
   ]
  },
  {
   "cell_type": "code",
   "execution_count": 71,
   "metadata": {},
   "outputs": [
    {
     "data": {
      "text/plain": [
       "\u001b[36mres70\u001b[39m: \u001b[32mInt\u001b[39m = \u001b[32m11\u001b[39m"
      ]
     },
     "execution_count": 71,
     "metadata": {},
     "output_type": "execute_result"
    }
   ],
   "source": [
    "10 + 1"
   ]
  },
  {
   "cell_type": "markdown",
   "metadata": {},
   "source": [
    "### Defining and using operators\n",
    "\n",
    "You can use any legal identifier as an operator. This includes a name like `add` or a symbol(s) like `+`."
   ]
  },
  {
   "cell_type": "code",
   "execution_count": 72,
   "metadata": {},
   "outputs": [
    {
     "data": {
      "text/plain": [
       "defined \u001b[32mclass\u001b[39m \u001b[36mVec\u001b[39m\r\n",
       "\u001b[36mvector1\u001b[39m: \u001b[32mVec\u001b[39m = \u001b[33mVec\u001b[39m(\u001b[32m1.0\u001b[39m, \u001b[32m1.0\u001b[39m)\r\n",
       "\u001b[36mvector2\u001b[39m: \u001b[32mVec\u001b[39m = \u001b[33mVec\u001b[39m(\u001b[32m2.0\u001b[39m, \u001b[32m2.0\u001b[39m)\r\n",
       "\u001b[36mvector3\u001b[39m: \u001b[32mVec\u001b[39m = \u001b[33mVec\u001b[39m(\u001b[32m3.0\u001b[39m, \u001b[32m3.0\u001b[39m)\r\n",
       "\u001b[36mres71_4\u001b[39m: \u001b[32mDouble\u001b[39m = \u001b[32m3.0\u001b[39m\r\n",
       "\u001b[36mres71_5\u001b[39m: \u001b[32mDouble\u001b[39m = \u001b[32m3.0\u001b[39m"
      ]
     },
     "execution_count": 72,
     "metadata": {},
     "output_type": "execute_result"
    }
   ],
   "source": [
    "case class Vec(val x: Double, val y: Double) {\n",
    "  def +(that: Vec) = new Vec(this.x + that.x, this.y + that.y)\n",
    "}\n",
    "\n",
    "val vector1 = Vec(1.0, 1.0)\n",
    "val vector2 = Vec(2.0, 2.0)\n",
    "\n",
    "val vector3 = vector1 + vector2\n",
    "vector3.x  // 3.0\n",
    "vector3.y  // 3.0"
   ]
  },
  {
   "cell_type": "markdown",
   "metadata": {},
   "source": [
    "The class Vec has a method `+` which we used to add `vector1` and `vector2`. Using parentheses, you can build up complex expressions with readable syntax. Here is the definition of class `MyBool` which includes methods `and` and `or`:"
   ]
  },
  {
   "cell_type": "code",
   "execution_count": 73,
   "metadata": {},
   "outputs": [
    {
     "data": {
      "text/plain": [
       "defined \u001b[32mclass\u001b[39m \u001b[36mMyBool\u001b[39m"
      ]
     },
     "execution_count": 73,
     "metadata": {},
     "output_type": "execute_result"
    }
   ],
   "source": [
    "case class MyBool(x: Boolean) {\n",
    "  def and(that: MyBool): MyBool = if (x) that else this\n",
    "  def or(that: MyBool): MyBool = if (x) this else that\n",
    "  def negate: MyBool = MyBool(!x)\n",
    "}"
   ]
  },
  {
   "cell_type": "markdown",
   "metadata": {},
   "source": [
    "It is now possible to use `and` and `or` as infix operators:"
   ]
  },
  {
   "cell_type": "code",
   "execution_count": 74,
   "metadata": {},
   "outputs": [
    {
     "data": {
      "text/plain": [
       "defined \u001b[32mfunction\u001b[39m \u001b[36mnot\u001b[39m\r\n",
       "defined \u001b[32mfunction\u001b[39m \u001b[36mxor\u001b[39m"
      ]
     },
     "execution_count": 74,
     "metadata": {},
     "output_type": "execute_result"
    }
   ],
   "source": [
    "def not(x: MyBool) = x.negate\n",
    "def xor(x: MyBool, y: MyBool) = (x or y) and not(x and y)"
   ]
  },
  {
   "cell_type": "markdown",
   "metadata": {},
   "source": [
    "This helps to make the definition of `xor` more readable.\n",
    "\n",
    "### Precedence\n",
    "\n",
    "When an expression uses multiple operators, the operators are evaluated based on the priority of the first character:\n",
    "```Scala\n",
    "(characters not shown below)\n",
    "* / %\n",
    "+ -\n",
    ":\n",
    "= !\n",
    "< >\n",
    "&\n",
    "^\n",
    "|\n",
    "(all letters)\n",
    "```\n",
    "\n",
    "This applies to functions you define. For example, the following expression:\n",
    "```Scala\n",
    "a + b ^? c ?^ d less a ==> b | c\n",
    "```\n",
    "\n",
    "Is equivalent to\n",
    "```Scala\n",
    "((a + b) ^? (c ?^ d)) less ((a ==> b) | c)\n",
    "```\n",
    "\n",
    "`?^` has the highest precedence because it starts with the character `?`. `+` has the second highest precedence, followed by `^?`, `==>`, `|`, and `less`.\n",
    "\n",
    "\n",
    "## By-name Parameters\n",
    "\n",
    "By-name parameters are only evaluated when used. They are in contrast to by-value parameters. To make a parameter called by-name, simply prepend `=>` to its type."
   ]
  },
  {
   "cell_type": "code",
   "execution_count": 75,
   "metadata": {},
   "outputs": [
    {
     "data": {
      "text/plain": [
       "defined \u001b[32mfunction\u001b[39m \u001b[36mcalculate\u001b[39m"
      ]
     },
     "execution_count": 75,
     "metadata": {},
     "output_type": "execute_result"
    }
   ],
   "source": [
    "def calculate(input: => Int) = input * 37"
   ]
  },
  {
   "cell_type": "markdown",
   "metadata": {},
   "source": [
    "By-name parameters have the the advantage that they are not evaluated if they aren't used in the function body. On the other hand, by-value parameters have the advantage that they are evaluated only once.\n",
    "\n",
    "Here's an example of how we could implement a while loop:"
   ]
  },
  {
   "cell_type": "code",
   "execution_count": 76,
   "metadata": {},
   "outputs": [
    {
     "name": "stdout",
     "output_type": "stream",
     "text": [
      "2\n",
      "1\n"
     ]
    },
    {
     "data": {
      "text/plain": [
       "defined \u001b[32mfunction\u001b[39m \u001b[36mwhileLoop\u001b[39m\r\n",
       "\u001b[36mi\u001b[39m: \u001b[32mInt\u001b[39m = \u001b[32m0\u001b[39m"
      ]
     },
     "execution_count": 76,
     "metadata": {},
     "output_type": "execute_result"
    }
   ],
   "source": [
    "def whileLoop(condition: => Boolean)(body: => Unit): Unit =\n",
    "  if (condition) {\n",
    "    body\n",
    "    whileLoop(condition)(body)\n",
    "  }\n",
    "\n",
    "var i = 2\n",
    "\n",
    "whileLoop (i > 0) {\n",
    "  println(i)\n",
    "  i -= 1\n",
    "}  // prints 2 1"
   ]
  },
  {
   "cell_type": "markdown",
   "metadata": {},
   "source": [
    "The method `whileLoop` uses multiple parameter lists to take a condition and a body of the loop. If the `condition` is true, the `body` is executed and then a recursive call to whileLoop is made. If the `condition` is false, the body is never evaluated because we prepended `=>` to the type of `body`.\n",
    "\n",
    "Now when we pass `i > 0` as our `condition` and `println(i); i-= 1` as the `body`, it behaves like the standard while loop in many languages.\n",
    "\n",
    "This ability to delay evaluation of a parameter until it is used can help performance if the parameter is computationally intensive to evaluate or a longer-running block of code such as fetching a URL.\n",
    "\n",
    "\n",
    "## Annotations\n",
    "\n",
    "Annotations associate meta-information with definitions. For example, the annotation `@deprecated` before a method causes the compiler to print a warning if the method is used."
   ]
  },
  {
   "cell_type": "code",
   "execution_count": 77,
   "metadata": {},
   "outputs": [
    {
     "data": {
      "text/plain": [
       "defined \u001b[32mobject\u001b[39m \u001b[36mDeprecationDemo\u001b[39m"
      ]
     },
     "execution_count": 77,
     "metadata": {},
     "output_type": "execute_result"
    }
   ],
   "source": [
    "object DeprecationDemo extends App {\n",
    "  @deprecated\n",
    "  def hello = \"hola\"\n",
    "\n",
    "  hello  \n",
    "}"
   ]
  },
  {
   "cell_type": "markdown",
   "metadata": {},
   "source": [
    "This will compile but the compiler will print a warning: “there was one deprecation warning”.\n",
    "\n",
    "An annotation clause applies to the first definition or declaration following it. More than one annotation clause may precede a definition and declaration. The order in which these clauses are given does not matter.\n",
    "\n",
    "### Annotations that ensure correctness of encodings\n",
    "\n",
    "Certain annotations will actually cause compilation to fail if a condition(s) is not met. For example, the annotation `@tailrec` ensures that a method is [tail-recursive](https://en.wikipedia.org/wiki/Tail_call). Tail-recursion can keep memory requirements constant. Here's how it's used in a method which calculates the factorial:"
   ]
  },
  {
   "cell_type": "code",
   "execution_count": 80,
   "metadata": {},
   "outputs": [
    {
     "data": {
      "text/plain": [
       "\u001b[32mimport \u001b[39m\u001b[36mscala.annotation.tailrec\r\n",
       "\r\n",
       "\u001b[39m\r\n",
       "defined \u001b[32mfunction\u001b[39m \u001b[36mfactorial\u001b[39m"
      ]
     },
     "execution_count": 80,
     "metadata": {},
     "output_type": "execute_result"
    }
   ],
   "source": [
    "import scala.annotation.tailrec\n",
    "\n",
    "def factorial(x: Int): Int = {\n",
    "\n",
    "  @tailrec\n",
    "  def factorialHelper(x: Int, accumulator: Int): Int = {\n",
    "    if (x == 1) accumulator else factorialHelper(x - 1, accumulator * x)\n",
    "  }\n",
    "  factorialHelper(x, 1)\n",
    "}"
   ]
  },
  {
   "cell_type": "markdown",
   "metadata": {},
   "source": [
    "The `factorialHelper` method has the `@tailrec` which ensures the method is indeed tail-recursive. If we were to change the implementation of `factorialHelper` to the following, it would fail:"
   ]
  },
  {
   "cell_type": "code",
   "execution_count": 80,
   "metadata": {},
   "outputs": [
    {
     "name": "stderr",
     "output_type": "stream",
     "text": [
      "cmd80.sc:7: could not optimize @tailrec annotated method factorialHelper: it contains a recursive call not in tail position\r\n",
      "    if (x == 1) 1 else x * factorialHelper(x - 1)\r\n",
      "                         ^"
     ]
    },
    {
     "ename": "",
     "evalue": "",
     "output_type": "error",
     "traceback": [
      "Compilation Failed"
     ]
    }
   ],
   "source": [
    "import scala.annotation.tailrec\n",
    "\n",
    "def factorial(x: Int): Int = {\n",
    "  @tailrec\n",
    "  def factorialHelper(x: Int): Int = {\n",
    "    if (x == 1) 1 else x * factorialHelper(x - 1)\n",
    "  }\n",
    "  factorialHelper(x)\n",
    "}"
   ]
  },
  {
   "cell_type": "markdown",
   "metadata": {},
   "source": [
    "We would get the message “Recursive call not in tail position”.\n",
    "\n",
    "### Annotations affecting code generation\n",
    "\n",
    "Some annotations like `@inline` affect the generated code (i.e. your jar file might have different bytes than if you hadn't used the annotation). Inlining means inserting the code in a method's body at the call site. The resulting bytecode is longer, but hopefully runs faster. Using the annotation `@inline` does not ensure that a method will be inlined, but it will cause the compiler to do it if and only if some heuristics about the size of the generated code are met.\n",
    "\n",
    "#### Java Annotations\n",
    "\n",
    "When writing Scala code which interoperates with Java, there are a few differences in annotation syntax to note. **Note**: Make sure you use the `-target:jvm-1.8` option with Java annotations.\n",
    "\n",
    "Java has user-defined metadata in the form of [annotations](https://docs.oracle.com/javase/tutorial/java/annotations/). A key feature of annotations is that they rely on specifying name-value pairs to initialize their elements. For instance, if we need an annotation to track the source of some class we might define it as\n",
    "```Scala\n",
    "@interface Source {\n",
    "  public String URL();\n",
    "  public String mail();\n",
    "}\n",
    "```\n",
    "\n",
    "And then apply it as follows\n",
    "```Scala\n",
    "@Source(URL = \"http://coders.com/\",\n",
    "        mail = \"support@coders.com\")\n",
    "public class MyClass extends HisClass ...\n",
    "```\n",
    "\n",
    "An annotation application in Scala looks like a constructor invocation, for instantiating a Java annotation one has to use named arguments:\n",
    "\n",
    "```Scala\n",
    "@Source(URL = \"http://coders.com/\",\n",
    "        mail = \"support@coders.com\")\n",
    "class MyScalaClass ...\n",
    "```\n",
    "\n",
    "This syntax is quite tedious if the annotation contains only one element (without default value) so, by convention, if the name is specified as `value` it can be applied in Java using a constructor-like syntax:\n",
    "\n",
    "```Scala\n",
    "@interface SourceURL {\n",
    "    public String value();\n",
    "    public String mail() default \"\";\n",
    "}\n",
    "```\n",
    "\n",
    "And then apply it as follows\n",
    "\n",
    "```Scala\n",
    "@SourceURL(\"http://coders.com/\")\n",
    "public class MyClass extends HisClass ...\n",
    "```\n",
    "\n",
    "In this case, Scala provides the same possibility\n",
    "\n",
    "```Scala\n",
    "@SourceURL(\"http://coders.com/\")\n",
    "class MyScalaClass ...\n",
    "```\n",
    "\n",
    "The `mail` element was specified with a default value so we need not explicitly provide a value for it. However, if we need to do it we can not mix-and-match the two styles in Java:\n",
    "\n",
    "```Scala\n",
    "@SourceURL(value = \"http://coders.com/\",\n",
    "           mail = \"support@coders.com\")\n",
    "public class MyClass extends HisClass ...\n",
    "```\n",
    "\n",
    "Scala provides more flexibility in this respect\n",
    "\n",
    "```Scala\n",
    "@SourceURL(\"http://coders.com/\",\n",
    "           mail = \"support@coders.com\")\n",
    "    class MyScalaClass ...\n",
    "```\n",
    "\n",
    "\n",
    "## Default Parameter Values\n",
    "\n",
    "Scala provides the ability to give parameters default values that can be used to allow a caller to omit those parameters."
   ]
  },
  {
   "cell_type": "code",
   "execution_count": 81,
   "metadata": {},
   "outputs": [
    {
     "name": "stdout",
     "output_type": "stream",
     "text": [
      "INFO: System starting\n",
      "WARNING: User not found\n"
     ]
    },
    {
     "data": {
      "text/plain": [
       "defined \u001b[32mfunction\u001b[39m \u001b[36mlog\u001b[39m"
      ]
     },
     "execution_count": 81,
     "metadata": {},
     "output_type": "execute_result"
    }
   ],
   "source": [
    "def log(message: String, level: String = \"INFO\") = println(s\"$level: $message\")\n",
    "\n",
    "log(\"System starting\")  // prints INFO: System starting\n",
    "log(\"User not found\", \"WARNING\")  // prints WARNING: User not found"
   ]
  },
  {
   "cell_type": "markdown",
   "metadata": {},
   "source": [
    "The parameter `level` has a default value so it is optional. On the last line, the argument `\"WARNING\"` overrides the default argument `\"INFO\"`. Where you might do overloaded methods in Java, you can use methods with optional parameters to achieve the same effect. However, if the caller omits an argument, any following arguments must be named.\n",
    "\n",
    "```Scala\n",
    "class Point(val x: Double = 0, val y: Double = 0)\n",
    "\n",
    "val point1 = new Point(y = 1)\n",
    "```\n",
    "\n",
    "Here we have to say `y = 1`.\n",
    "\n",
    "Note that default parameters in Scala are not optional when called from Java code:"
   ]
  },
  {
   "cell_type": "code",
   "execution_count": 82,
   "metadata": {},
   "outputs": [
    {
     "data": {
      "text/plain": [
       "defined \u001b[32mclass\u001b[39m \u001b[36mPoint\u001b[39m"
      ]
     },
     "execution_count": 82,
     "metadata": {},
     "output_type": "execute_result"
    }
   ],
   "source": [
    "// Point.scala\n",
    "class Point(val x: Double = 0, val y: Double = 0)"
   ]
  },
  {
   "cell_type": "markdown",
   "metadata": {},
   "source": [
    "```Java\n",
    "// Main.java\n",
    "public class Main {\n",
    "    public static void main(String[] args) {\n",
    "        Point point = new Point(1);  // does not compile\n",
    "    }\n",
    "}\n",
    "```\n",
    "\n",
    "\n",
    "## Named Arguments\n",
    "\n",
    "When calling methods, you can label the arguments with their parameter names like so:"
   ]
  },
  {
   "cell_type": "code",
   "execution_count": 83,
   "metadata": {},
   "outputs": [
    {
     "name": "stdout",
     "output_type": "stream",
     "text": [
      "John Smith\r\n",
      "John Smith\r\n",
      "John Smith\r\n"
     ]
    },
    {
     "data": {
      "text/plain": [
       "defined \u001b[32mfunction\u001b[39m \u001b[36mprintName\u001b[39m"
      ]
     },
     "execution_count": 83,
     "metadata": {},
     "output_type": "execute_result"
    }
   ],
   "source": [
    "def printName(first: String, last: String): Unit = {\n",
    "    println(first + \" \" + last)\n",
    "}\n",
    "\n",
    "printName(\"John\", \"Smith\")  // Prints \"John Smith\"\n",
    "printName(first = \"John\", last = \"Smith\")  // Prints \"John Smith\"\n",
    "printName(last = \"Smith\", first = \"John\")  // Prints \"John Smith\""
   ]
  },
  {
   "cell_type": "markdown",
   "metadata": {},
   "source": [
    "Notice how the order of named arguments can be rearranged. However, if some arguments are named and others are not, the unnamed arguments must come first and in the order of their parameters in the method signature."
   ]
  },
  {
   "cell_type": "code",
   "execution_count": 83,
   "metadata": {},
   "outputs": [
    {
     "name": "stderr",
     "output_type": "stream",
     "text": [
      "cmd83.sc:5: positional after named argument.\r\n",
      "val res83_1 = printName(last = \"Smith\", \"john\")  // Does not compile\r\n",
      "                                        ^"
     ]
    },
    {
     "ename": "",
     "evalue": "",
     "output_type": "error",
     "traceback": [
      "Compilation Failed"
     ]
    }
   ],
   "source": [
    "def printName(first: String, last: String): Unit = {\n",
    "  println(first + \" \" + last)\n",
    "}\n",
    "\n",
    "printName(last = \"Smith\", \"john\")  // Does not compile"
   ]
  },
  {
   "cell_type": "markdown",
   "metadata": {},
   "source": [
    "Note that named arguments do not work with calls to Java methods."
   ]
  }
 ],
 "metadata": {
  "kernelspec": {
   "display_name": "Scala 2.11.11",
   "language": "scala",
   "name": "scala"
  },
  "language_info": {
   "codemirror_mode": "text/x-scala",
   "file_extension": ".scala",
   "mimetype": "text/x-scala",
   "name": "scala211",
   "nbconvert_exporter": "script",
   "pygments_lexer": "scala",
   "version": "2.11.11"
  }
 },
 "nbformat": 4,
 "nbformat_minor": 2
}
